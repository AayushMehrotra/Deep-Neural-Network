{
 "cells": [
  {
   "cell_type": "markdown",
   "metadata": {},
   "source": [
    "# Perform CIFAR-10 Dataset Classification using Keras"
   ]
  },
  {
   "cell_type": "markdown",
   "metadata": {},
   "source": [
    "#### 1) Perform CIFAR-10 Dataset Classification using 1 Convolution Layer"
   ]
  },
  {
   "cell_type": "markdown",
   "metadata": {},
   "source": [
    "##### 2) Perform CIFAR-10 Dataset Classification using 2 Convolution Layer"
   ]
  },
  {
   "cell_type": "markdown",
   "metadata": {},
   "source": [
    "##### 3) Perform CIFAR-10 Dataset Classification using 3 Convolution Layer"
   ]
  },
  {
   "cell_type": "markdown",
   "metadata": {},
   "source": [
    "##### 4) Compare the performance of models used in Question 1, 2 and 3"
   ]
  },
  {
   "cell_type": "markdown",
   "metadata": {},
   "source": [
    "##### 5) Use 2 Convolutions before performing activation and compare the results with all other models"
   ]
  },
  {
   "cell_type": "markdown",
   "metadata": {},
   "source": [
    "##### 6) Solve the CIFAR-10 classification. Don't use any of the above model's architecture. Come up with your own architecture"
   ]
  },
  {
   "cell_type": "markdown",
   "metadata": {},
   "source": [
    "### $ Important Points $\n",
    "\n",
    "1. Your code should be well commented.\n",
    "2. Please Document your IPYNB in most verbose way possible\n",
    "3. Comparision of Models should be done via Graphs and Plots\n"
   ]
  },
  {
   "cell_type": "markdown",
   "metadata": {
    "collapsed": true
   },
   "source": [
    "## Let the code commence :)"
   ]
  },
  {
   "cell_type": "markdown",
   "metadata": {},
   "source": [
    "# Imports"
   ]
  },
  {
   "cell_type": "code",
   "execution_count": 28,
   "metadata": {},
   "outputs": [],
   "source": [
    "from keras.layers import Convolution2D, MaxPooling2D, Activation, Dense, Flatten\n",
    "from keras.models import Sequential\n",
    "import matplotlib.pyplot as plt\n",
    "from keras.datasets import cifar10\n",
    "from keras.activations import relu,softmax,sigmoid\n",
    "from keras.optimizers import rmsprop\n",
    "from keras.utils import to_categorical \n",
    "import pandas as pd\n",
    "\n",
    "%matplotlib inline"
   ]
  },
  {
   "cell_type": "markdown",
   "metadata": {},
   "source": [
    "# Reading the test/train data"
   ]
  },
  {
   "cell_type": "code",
   "execution_count": 2,
   "metadata": {},
   "outputs": [],
   "source": [
    "(x_train, y_train), (x_test, y_test) = cifar10.load_data()"
   ]
  },
  {
   "cell_type": "markdown",
   "metadata": {},
   "source": [
    "# Normalizing the X data "
   ]
  },
  {
   "cell_type": "code",
   "execution_count": 3,
   "metadata": {},
   "outputs": [],
   "source": [
    "x_train = x_train.astype('float')\n",
    "x_test = x_test.astype('float')\n",
    "x_train /= 255\n",
    "x_test /= 255"
   ]
  },
  {
   "cell_type": "markdown",
   "metadata": {},
   "source": [
    "# One hot encoding for Y data(10 classes)"
   ]
  },
  {
   "cell_type": "code",
   "execution_count": 4,
   "metadata": {
    "collapsed": true
   },
   "outputs": [],
   "source": [
    "y_train_one_hot = to_categorical((y_train), 10)\n",
    "y_test_one_hot = to_categorical((y_test), 10)"
   ]
  },
  {
   "cell_type": "markdown",
   "metadata": {},
   "source": [
    "# Defining variables"
   ]
  },
  {
   "cell_type": "code",
   "execution_count": 40,
   "metadata": {},
   "outputs": [],
   "source": [
    "epochs = 10 #hyperparameters\n",
    "batch_size = 12 #hyperparameters\n",
    "num_classes = len(pd.unique(y_train))\n",
    "test_accuracy = []\n",
    "train_accuracy = []"
   ]
  },
  {
   "cell_type": "markdown",
   "metadata": {},
   "source": [
    "# Model 1 - Conv-ReLu-Pooling-FC"
   ]
  },
  {
   "cell_type": "code",
   "execution_count": 6,
   "metadata": {},
   "outputs": [
    {
     "name": "stdout",
     "output_type": "stream",
     "text": [
      "Train on 40000 samples, validate on 10000 samples\n",
      "Epoch 1/10\n",
      "26s - loss: 1.7949 - acc: 0.3591 - val_loss: 1.6445 - val_acc: 0.4167\n",
      "Epoch 2/10\n",
      "24s - loss: 1.6023 - acc: 0.4330 - val_loss: 1.5952 - val_acc: 0.4362\n",
      "Epoch 3/10\n",
      "25s - loss: 1.5468 - acc: 0.4585 - val_loss: 1.6420 - val_acc: 0.4118\n",
      "Epoch 4/10\n",
      "24s - loss: 1.5147 - acc: 0.4700 - val_loss: 1.5514 - val_acc: 0.4552\n",
      "Epoch 5/10\n",
      "25s - loss: 1.4942 - acc: 0.4773 - val_loss: 1.5188 - val_acc: 0.4664\n",
      "Epoch 6/10\n",
      "23s - loss: 1.4766 - acc: 0.4841 - val_loss: 1.6484 - val_acc: 0.4295\n",
      "Epoch 7/10\n",
      "24s - loss: 1.4647 - acc: 0.4880 - val_loss: 1.4888 - val_acc: 0.4756\n",
      "Epoch 8/10\n",
      "24s - loss: 1.4548 - acc: 0.4942 - val_loss: 1.4808 - val_acc: 0.4774\n",
      "Epoch 9/10\n",
      "24s - loss: 1.4486 - acc: 0.4962 - val_loss: 1.5633 - val_acc: 0.4578\n",
      "Epoch 10/10\n",
      "25s - loss: 1.4415 - acc: 0.4986 - val_loss: 1.4765 - val_acc: 0.4846\n"
     ]
    }
   ],
   "source": [
    "model1 = Sequential()\n",
    "model1.add(Convolution2D(3,(3,3),input_shape = (32,32,3)))\n",
    "model1.add(Activation(relu))\n",
    "model1.add(MaxPooling2D(pool_size=(2,2),strides = 2))\n",
    "model1.add(Flatten())\n",
    "model1.add(Dense(10, activation = 'softmax'))\n",
    "model1.compile(optimizer='rmsprop',loss = 'categorical_crossentropy',metrics=['accuracy'])\n",
    "model1_fit = model1.fit(x_train,y_train_one_hot,epochs = 10,verbose = 2,batch_size = 12,validation_split = 0.2)"
   ]
  },
  {
   "cell_type": "code",
   "execution_count": 41,
   "metadata": {},
   "outputs": [
    {
     "name": "stdout",
     "output_type": "stream",
     "text": [
      " 9920/10000 [============================>.] - ETA: 0s"
     ]
    }
   ],
   "source": [
    "test_accuracy.append(model1.evaluate(x_test,y_test_one_hot)[1])\n",
    "train_accuracy.append(model1_fit.history['acc'][epochs-1])"
   ]
  },
  {
   "cell_type": "code",
   "execution_count": 8,
   "metadata": {},
   "outputs": [
    {
     "data": {
      "image/png": "[encoded data removed]",
      "text/plain": [
       "<matplotlib.figure.Figure at 0x7fa502bbd080>"
      ]
     },
     "metadata": {},
     "output_type": "display_data"
    }
   ],
   "source": [
    "plt.plot(model1_fit.epoch, model1_fit.history['val_acc'])\n",
    "plt.plot(model1_fit.epoch, model1_fit.history['acc'])\n",
    "plt.legend(['Validation Accuracy','Train Accuracy'])\n",
    "plt.show()"
   ]
  },
  {
   "cell_type": "markdown",
   "metadata": {},
   "source": [
    "# Model 2 - Conv-ReLu-Pooling-Conv-ReLu-Pooling-FC"
   ]
  },
  {
   "cell_type": "code",
   "execution_count": 13,
   "metadata": {},
   "outputs": [
    {
     "name": "stdout",
     "output_type": "stream",
     "text": [
      "Train on 40000 samples, validate on 10000 samples\n",
      "Epoch 1/10\n",
      "28s - loss: 1.9598 - acc: 0.2859 - val_loss: 1.8149 - val_acc: 0.3487\n",
      "Epoch 2/10\n",
      "29s - loss: 1.7601 - acc: 0.3727 - val_loss: 1.7383 - val_acc: 0.3744\n",
      "Epoch 3/10\n",
      "29s - loss: 1.6963 - acc: 0.3931 - val_loss: 1.8361 - val_acc: 0.3607\n",
      "Epoch 4/10\n",
      "29s - loss: 1.6635 - acc: 0.4028 - val_loss: 1.6909 - val_acc: 0.3829\n",
      "Epoch 5/10\n",
      "34s - loss: 1.6432 - acc: 0.4109 - val_loss: 1.6832 - val_acc: 0.3961\n",
      "Epoch 6/10\n",
      "28s - loss: 1.6304 - acc: 0.4146 - val_loss: 1.6123 - val_acc: 0.4166\n",
      "Epoch 7/10\n",
      "29s - loss: 1.6196 - acc: 0.4205 - val_loss: 1.6950 - val_acc: 0.3868\n",
      "Epoch 8/10\n",
      "29s - loss: 1.6094 - acc: 0.4231 - val_loss: 1.6449 - val_acc: 0.4045\n",
      "Epoch 9/10\n",
      "29s - loss: 1.5985 - acc: 0.4276 - val_loss: 1.6012 - val_acc: 0.4219\n",
      "Epoch 10/10\n",
      "28s - loss: 1.5895 - acc: 0.4322 - val_loss: 1.6049 - val_acc: 0.4191\n"
     ]
    }
   ],
   "source": [
    "model2 = Sequential()\n",
    "model2.add(Convolution2D(3,(3,3),input_shape = (32,32,3)))\n",
    "model2.add(Activation(relu))\n",
    "model2.add(MaxPooling2D(pool_size=(2,2),strides = 2))\n",
    "model2.add(Convolution2D(3,(3,3)))\n",
    "model2.add(Activation(relu))\n",
    "model2.add(MaxPooling2D(pool_size=(2,2),strides = 2))\n",
    "model2.add(Flatten())\n",
    "model2.add(Dense(10, activation = 'softmax'))\n",
    "model2.compile(optimizer='rmsprop',loss = 'categorical_crossentropy',metrics=['accuracy'])\n",
    "model2_fit = model2.fit(x_train,y_train_one_hot,epochs = 10,verbose = 2,batch_size = 12,validation_split = 0.2)"
   ]
  },
  {
   "cell_type": "code",
   "execution_count": 42,
   "metadata": {},
   "outputs": [
    {
     "name": "stdout",
     "output_type": "stream",
     "text": [
      " 9824/10000 [============================>.] - ETA: 0s"
     ]
    }
   ],
   "source": [
    "test_accuracy.append(model2.evaluate(x_test,y_test_one_hot)[1])\n",
    "train_accuracy.append(model2_fit.history['acc'][epochs-1])"
   ]
  },
  {
   "cell_type": "code",
   "execution_count": 15,
   "metadata": {},
   "outputs": [
    {
     "data": {
      "image/png": "[encoded data removed]",
      "text/plain": [
       "<matplotlib.figure.Figure at 0x7fa4fa191d30>"
      ]
     },
     "metadata": {},
     "output_type": "display_data"
    }
   ],
   "source": [
    "plt.plot(model2_fit.epoch, model2_fit.history['val_acc'])\n",
    "plt.plot(model2_fit.epoch, model2_fit.history['acc'])\n",
    "plt.legend(['Validation Accuracy','Train Accuracy'])\n",
    "plt.show()"
   ]
  },
  {
   "cell_type": "markdown",
   "metadata": {},
   "source": [
    "# Model 3 - Conv-Conv-ReLu-Pooling-Conv-ReLu-Pooling-FC-FC"
   ]
  },
  {
   "cell_type": "code",
   "execution_count": 16,
   "metadata": {},
   "outputs": [
    {
     "name": "stdout",
     "output_type": "stream",
     "text": [
      "Train on 40000 samples, validate on 10000 samples\n",
      "Epoch 1/10\n",
      "63s - loss: 1.7835 - acc: 0.3521 - val_loss: 1.7556 - val_acc: 0.3871\n",
      "Epoch 2/10\n",
      "63s - loss: 1.4570 - acc: 0.4771 - val_loss: 1.4814 - val_acc: 0.4766\n",
      "Epoch 3/10\n",
      "64s - loss: 1.3435 - acc: 0.5194 - val_loss: 1.3983 - val_acc: 0.5074\n",
      "Epoch 4/10\n",
      "62s - loss: 1.2992 - acc: 0.5399 - val_loss: 1.3211 - val_acc: 0.5310\n",
      "Epoch 5/10\n",
      "62s - loss: 1.2887 - acc: 0.5484 - val_loss: 1.3884 - val_acc: 0.5259\n",
      "Epoch 6/10\n",
      "64s - loss: 1.3019 - acc: 0.5483 - val_loss: 1.4148 - val_acc: 0.5264\n",
      "Epoch 7/10\n",
      "63s - loss: 1.3350 - acc: 0.5372 - val_loss: 1.9407 - val_acc: 0.4174\n",
      "Epoch 8/10\n",
      "64s - loss: 1.3596 - acc: 0.5334 - val_loss: 1.6880 - val_acc: 0.4378\n",
      "Epoch 9/10\n",
      "63s - loss: 1.3914 - acc: 0.5261 - val_loss: 2.0468 - val_acc: 0.3519\n",
      "Epoch 10/10\n",
      "59s - loss: 1.4362 - acc: 0.5135 - val_loss: 1.7170 - val_acc: 0.4385\n"
     ]
    }
   ],
   "source": [
    "model3 = Sequential()\n",
    "model3.add(Convolution2D(3,(3,3),input_shape = (32,32,3)))\n",
    "model3.add(Convolution2D(32,(3,3)))\n",
    "model3.add(Activation(relu))\n",
    "model3.add(MaxPooling2D(pool_size=(2,2),strides = 2))\n",
    "model3.add(Convolution2D(3,(3,3)))\n",
    "model3.add(Activation(relu))\n",
    "model3.add(MaxPooling2D(pool_size=(2,2),strides = 2))\n",
    "model3.add(Flatten())\n",
    "model3.add(Dense(512, activation = 'sigmoid'))\n",
    "model3.add(Dense(10, activation = 'softmax'))\n",
    "model3.compile(optimizer='rmsprop',loss = 'categorical_crossentropy',metrics=['accuracy'])\n",
    "model3_fit = model3.fit(x_train,y_train_one_hot,epochs = 10,verbose = 2,batch_size = 12,validation_split = 0.2)"
   ]
  },
  {
   "cell_type": "code",
   "execution_count": 43,
   "metadata": {},
   "outputs": [
    {
     "name": "stdout",
     "output_type": "stream",
     "text": [
      " 9984/10000 [============================>.] - ETA: 0s"
     ]
    }
   ],
   "source": [
    "test_accuracy.append(model3.evaluate(x_test,y_test_one_hot)[1])\n",
    "train_accuracy.append(model3_fit.history['acc'][epochs-1])"
   ]
  },
  {
   "cell_type": "code",
   "execution_count": 18,
   "metadata": {},
   "outputs": [
    {
     "data": {
      "image/png": "[encoded data removed]",
      "text/plain": [
       "<matplotlib.figure.Figure at 0x7fa4fa069668>"
      ]
     },
     "metadata": {},
     "output_type": "display_data"
    }
   ],
   "source": [
    "plt.plot(model3_fit.epoch, model3_fit.history['val_acc'])\n",
    "plt.plot(model3_fit.epoch, model3_fit.history['acc'])\n",
    "plt.legend(['Validation Accuracy','Train Accuracy'])\n",
    "plt.show()"
   ]
  },
  {
   "cell_type": "markdown",
   "metadata": {},
   "source": [
    "# Model 4 - Conv-ReLu-Conv-ReLu-Pooling-Conv-ReLu-Pooling-FC-FC"
   ]
  },
  {
   "cell_type": "code",
   "execution_count": 19,
   "metadata": {},
   "outputs": [
    {
     "name": "stdout",
     "output_type": "stream",
     "text": [
      "Train on 40000 samples, validate on 10000 samples\n",
      "Epoch 1/10\n",
      "272s - loss: 1.5023 - acc: 0.4603 - val_loss: 1.8245 - val_acc: 0.4164\n",
      "Epoch 2/10\n",
      "280s - loss: 1.1696 - acc: 0.5960 - val_loss: 1.3750 - val_acc: 0.5411\n",
      "Epoch 3/10\n",
      "273s - loss: 1.1273 - acc: 0.6172 - val_loss: 1.2925 - val_acc: 0.5720\n",
      "Epoch 4/10\n",
      "282s - loss: 1.1192 - acc: 0.6263 - val_loss: 1.1799 - val_acc: 0.5937\n",
      "Epoch 5/10\n",
      "268s - loss: 1.1095 - acc: 0.6335 - val_loss: 1.1610 - val_acc: 0.6152\n",
      "Epoch 6/10\n",
      "268s - loss: 1.1341 - acc: 0.6235 - val_loss: 1.3085 - val_acc: 0.5914\n",
      "Epoch 7/10\n",
      "282s - loss: 1.1546 - acc: 0.6208 - val_loss: 1.3652 - val_acc: 0.5648\n",
      "Epoch 8/10\n",
      "272s - loss: 1.1694 - acc: 0.6160 - val_loss: 1.3428 - val_acc: 0.5765\n",
      "Epoch 9/10\n",
      "250s - loss: 1.1963 - acc: 0.6110 - val_loss: 1.2078 - val_acc: 0.5975\n",
      "Epoch 10/10\n",
      "247s - loss: 1.2396 - acc: 0.5958 - val_loss: 1.1738 - val_acc: 0.6179\n"
     ]
    }
   ],
   "source": [
    "model4 = Sequential()\n",
    "model4.add(Convolution2D(64,(3,3),input_shape = (32,32,3)))\n",
    "model4.add(Activation(relu))\n",
    "model4.add(Convolution2D(32,(3,3)))\n",
    "model4.add(Activation(relu))\n",
    "model4.add(MaxPooling2D(pool_size=(2,2),strides = 2))\n",
    "model4.add(Convolution2D(16,(3,3)))\n",
    "model4.add(Activation(relu))\n",
    "model4.add(MaxPooling2D(pool_size=(2,2),strides = 2))\n",
    "model4.add(Flatten())\n",
    "model4.add(Dense(512, activation = 'sigmoid'))\n",
    "model4.add(Dense(10, activation = 'softmax'))\n",
    "model4.compile(optimizer='rmsprop',loss = 'categorical_crossentropy',metrics=['accuracy'])\n",
    "model4_fit = model4.fit(x_train,y_train_one_hot,epochs = 10,verbose = 2,batch_size = 12,validation_split = 0.2)"
   ]
  },
  {
   "cell_type": "code",
   "execution_count": 44,
   "metadata": {},
   "outputs": [
    {
     "name": "stdout",
     "output_type": "stream",
     "text": [
      " 9984/10000 [============================>.] - ETA: 0s"
     ]
    }
   ],
   "source": [
    "test_accuracy.append(model4.evaluate(x_test,y_test_one_hot)[1])\n",
    "train_accuracy.append(model4_fit.history['acc'][epochs-1])"
   ]
  },
  {
   "cell_type": "code",
   "execution_count": 21,
   "metadata": {},
   "outputs": [
    {
     "data": {
      "image/png": "[encoded data removed]",
      "text/plain": [
       "<matplotlib.figure.Figure at 0x7fa4f9d4bda0>"
      ]
     },
     "metadata": {},
     "output_type": "display_data"
    }
   ],
   "source": [
    "plt.plot(model4_fit.epoch, model4_fit.history['val_acc'])\n",
    "plt.plot(model4_fit.epoch, model4_fit.history['acc'])\n",
    "plt.legend(['Validation Accuracy','Train Accuracy'])\n",
    "plt.show()"
   ]
  },
  {
   "cell_type": "markdown",
   "metadata": {},
   "source": [
    "# Model 5 - Conv-ReLu-Conv-ReLu-Pooling-Conv-ReLu-Conv-ReLu-Pooling-Conv-ReLu-Pooling-FC-FC-FC"
   ]
  },
  {
   "cell_type": "code",
   "execution_count": 22,
   "metadata": {},
   "outputs": [
    {
     "name": "stdout",
     "output_type": "stream",
     "text": [
      "Train on 40000 samples, validate on 10000 samples\n",
      "Epoch 1/10\n",
      "278s - loss: 1.6586 - acc: 0.3945 - val_loss: 1.3974 - val_acc: 0.4954\n",
      "Epoch 2/10\n",
      "263s - loss: 1.2843 - acc: 0.5422 - val_loss: 1.2506 - val_acc: 0.5593\n",
      "Epoch 3/10\n",
      "270s - loss: 1.1400 - acc: 0.6015 - val_loss: 1.1965 - val_acc: 0.5815\n",
      "Epoch 4/10\n",
      "276s - loss: 1.0906 - acc: 0.6237 - val_loss: 1.3151 - val_acc: 0.5722\n",
      "Epoch 5/10\n",
      "5935s - loss: 1.1047 - acc: 0.6234 - val_loss: 1.2410 - val_acc: 0.5730\n",
      "Epoch 6/10\n",
      "259s - loss: 1.1439 - acc: 0.6107 - val_loss: 1.3698 - val_acc: 0.5559\n",
      "Epoch 7/10\n",
      "261s - loss: 1.1462 - acc: 0.6091 - val_loss: 1.2688 - val_acc: 0.5758\n",
      "Epoch 8/10\n",
      "258s - loss: 1.1633 - acc: 0.6048 - val_loss: 1.3212 - val_acc: 0.5709\n",
      "Epoch 9/10\n",
      "260s - loss: 1.1812 - acc: 0.5959 - val_loss: 1.4990 - val_acc: 0.5155\n",
      "Epoch 10/10\n",
      "261s - loss: 1.2135 - acc: 0.5875 - val_loss: 1.4236 - val_acc: 0.5457\n"
     ]
    }
   ],
   "source": [
    "model5 = Sequential()\n",
    "model5.add(Convolution2D(64,(3,3),input_shape = (32,32,3)))\n",
    "model5.add(Activation(relu))\n",
    "model5.add(Convolution2D(32,(3,3)))\n",
    "model5.add(Activation(relu))\n",
    "model5.add(MaxPooling2D(pool_size=(2,2),strides = 2))\n",
    "model5.add(Convolution2D(64,(3,3))\n",
    "model5.add(Activation(relu))\n",
    "model5.add(Convolution2D(32,(3,3)))\n",
    "model5.add(Activation(relu))\n",
    "model5.add(MaxPooling2D(pool_size=(2,2),strides = 2))\n",
    "model5.add(Convolution2D(16,(3,3)))\n",
    "model5.add(Activation(relu))\n",
    "model5.add(MaxPooling2D(pool_size=(2,2),strides = 2))\n",
    "model5.add(Flatten())\n",
    "model5.add(Dense(512, activation = 'sigmoid'))\n",
    "model5.add(Dense(512, activation = 'sigmoid'))\n",
    "model5.add(Dense(10, activation = 'softmax'))\n",
    "model5.compile(optimizer='rmsprop',loss = 'categorical_crossentropy',metrics=['accuracy'])\n",
    "model5_fit = model5.fit(x_train,y_train_one_hot,epochs = 10,verbose = 2,batch_size = 12,validation_split = 0.2)"
   ]
  },
  {
   "cell_type": "code",
   "execution_count": 45,
   "metadata": {},
   "outputs": [
    {
     "name": "stdout",
     "output_type": "stream",
     "text": [
      " 9984/10000 [============================>.] - ETA: 0s"
     ]
    }
   ],
   "source": [
    "test_accuracy.append(model5.evaluate(x_test,y_test_one_hot)[1])\n",
    "train_accuracy.append(model5_fit.history['acc'][epochs-1])"
   ]
  },
  {
   "cell_type": "code",
   "execution_count": 24,
   "metadata": {},
   "outputs": [
    {
     "data": {
      "image/png": "[encoded data removed]",
      "text/plain": [
       "<matplotlib.figure.Figure at 0x7fa4fa072630>"
      ]
     },
     "metadata": {},
     "output_type": "display_data"
    }
   ],
   "source": [
    "plt.plot(model5_fit.epoch, model5_fit.history['val_acc'])\n",
    "plt.plot(model5_fit.epoch, model5_fit.history['acc'])\n",
    "plt.legend(['Validation Accuracy','Train Accuracy'])\n",
    "plt.show()"
   ]
  },
  {
   "cell_type": "markdown",
   "metadata": {},
   "source": [
    "# Test Accuracy of 5 models"
   ]
  },
  {
   "cell_type": "code",
   "execution_count": 46,
   "metadata": {},
   "outputs": [
    {
     "data": {
      "text/plain": [
       "[47.43, 42.420000000000002, 43.850000000000001, 61.480000000000004, 54.25]"
      ]
     },
     "execution_count": 46,
     "metadata": {},
     "output_type": "execute_result"
    }
   ],
   "source": [
    "test_accuracy = [t*100 for t in test_accuracy]\n",
    "test_accuracy"
   ]
  },
  {
   "cell_type": "markdown",
   "metadata": {},
   "source": [
    "# Train Accuracy of 5 models"
   ]
  },
  {
   "cell_type": "code",
   "execution_count": 47,
   "metadata": {},
   "outputs": [
    {
     "data": {
      "text/plain": [
       "[49.857499775141477,\n",
       " 43.222499868646267,\n",
       " 51.349999823048705,\n",
       " 59.577499783933163,\n",
       " 58.747499810084705]"
      ]
     },
     "execution_count": 47,
     "metadata": {},
     "output_type": "execute_result"
    }
   ],
   "source": [
    "train_accuracy = [t*100 for t in train_accuracy]\n",
    "train_accuracy"
   ]
  },
  {
   "cell_type": "markdown",
   "metadata": {},
   "source": [
    "# Training-Testing Plot Model wise"
   ]
  },
  {
   "cell_type": "code",
   "execution_count": 48,
   "metadata": {
    "collapsed": true
   },
   "outputs": [],
   "source": [
    "model_plot = pd.concat([pd.DataFrame([1,2,3,4,5]), pd.DataFrame(train_accuracy),pd.DataFrame(test_accuracy)],axis=1)"
   ]
  },
  {
   "cell_type": "code",
   "execution_count": 49,
   "metadata": {},
   "outputs": [
    {
     "data": {
      "image/png": "[encoded data removed]",
      "text/plain": [
       "<matplotlib.figure.Figure at 0x7fa4a0e0b940>"
      ]
     },
     "metadata": {},
     "output_type": "display_data"
    }
   ],
   "source": [
    "model_plot.columns = ['Model','Training Accuracy','Test Accuracy']\n",
    "model_plot = model_plot.set_index(['Model'])\n",
    "model_plot.plot(kind='bar')\n",
    "plt.show()"
   ]
  }
 ],
 "metadata": {
  "kernelspec": {
   "display_name": "Python 3",
   "language": "python",
   "name": "python3"
  },
  "language_info": {
   "codemirror_mode": {
    "name": "ipython",
    "version": 3
   },
   "file_extension": ".py",
   "mimetype": "text/x-python",
   "name": "python",
   "nbconvert_exporter": "python",
   "pygments_lexer": "ipython3",
   "version": "3.5.2"
  }
 },
 "nbformat": 4,
 "nbformat_minor": 2
}
