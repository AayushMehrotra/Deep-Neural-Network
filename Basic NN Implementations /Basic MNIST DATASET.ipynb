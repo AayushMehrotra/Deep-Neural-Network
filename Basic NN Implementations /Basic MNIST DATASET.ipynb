{
 "cells": [
  {
   "cell_type": "code",
   "execution_count": 1,
   "metadata": {
    "collapsed": true
   },
   "outputs": [],
   "source": [
    "import numpy as np\n",
    "import random"
   ]
  },
  {
   "cell_type": "code",
   "execution_count": 2,
   "metadata": {
    "collapsed": true
   },
   "outputs": [],
   "source": [
    "class Network(object):\n",
    "    \n",
    "    # Initializing method\n",
    "    def __init__(self, sizes):\n",
    "        self.num_layers = len(sizes) # getting number of layers\n",
    "        self.sizes = sizes # number of neurons in each layers\n",
    "        self.biases = [np.random.randn(y, 1) for y in sizes[1:]]  # assign bias\n",
    "        self.weights = [np.random.randn(y, x) \n",
    "                        for x, y in zip(sizes[:-1], sizes[1:])] # assign random weights\n",
    "    \n",
    "    # Method for feedforward\n",
    "    def feedforward(self, a):\n",
    "        \"\"\"Return the output of the network if ``a`` is input.\"\"\"\n",
    "        for b, w in zip(self.biases, self.weights):\n",
    "            a = sigmoid(np.dot(w, a)+b)\n",
    "        return a\n",
    "\n",
    "    #stochastic gradient descent\n",
    "    def SGD(self, training_data, epochs, mini_batch_size, eta,\n",
    "            test_data=None):\n",
    "        if test_data: # If test data is present then assign n_test with the size of test data\n",
    "            n_test = len(test_data)\n",
    "        n = len(training_data)\n",
    "        for j in range(epochs):\n",
    "            random.shuffle(training_data) # shuffle the training data\n",
    "            mini_batches = [training_data [k: k + mini_batch_size] #taking samples from the training data if size mini_batch size\n",
    "                for k in range(0, n, mini_batch_size)]\n",
    "            for mini_batch in mini_batches:\n",
    "#updates the network weights and biases according to a single iteration of gradient descent, using just the training data in mini_batch\n",
    "                self.update_mini_batch(mini_batch, eta) #eta is the learning rate\n",
    "            if test_data:                                  # test data present then evaluate the accuracy\n",
    "                print (\"Epoch {0}: {1} / {2}\".format(\n",
    "                    j, self.evaluate(test_data), n_test))\n",
    "            else:\n",
    "                print (\"Epoch {0} complete\".format(j))\n",
    "                \n",
    "    # update the mini batches created above\n",
    "    \"\"\"Update the network's weights and biases by applying\n",
    "    gradient descent using backpropagation to a single mini batch.\n",
    "    The ``mini_batch`` is a list of tuples ``(x, y)``, and ``eta``\n",
    "    is the learning rate.\"\"\"\n",
    "    def update_mini_batch(self, mini_batch, eta):\n",
    "        nabla_b = [np.zeros(b.shape) for b in self.biases]\n",
    "        nabla_w = [np.zeros(w.shape) for w in self.weights]\n",
    "        for x, y in mini_batch:\n",
    "            delta_nabla_b, delta_nabla_w = self.backprop(x, y)\n",
    "            nabla_b = [nb+dnb for nb, dnb in zip(nabla_b, delta_nabla_b)]\n",
    "            nabla_w = [nw+dnw for nw, dnw in zip(nabla_w, delta_nabla_w)]\n",
    "        self.weights = [w-(eta/len(mini_batch))*nw \n",
    "                        for w, nw in zip(self.weights, nabla_w)]\n",
    "        self.biases = [b-(eta/len(mini_batch))*nb \n",
    "                       for b, nb in zip(self.biases, nabla_b)]\n",
    "        \n",
    "    def backprop(self, x, y):\n",
    "        \"\"\"Return a tuple ``(nabla_b, nabla_w)`` representing the\n",
    "        gradient for the cost function C_x.  ``nabla_b`` and\n",
    "        ``nabla_w`` are layer-by-layer lists of numpy arrays, similar\n",
    "        to ``self.biases`` and ``self.weights``.\"\"\"\n",
    "        nabla_b = [np.zeros(b.shape) for b in self.biases]\n",
    "        nabla_w = [np.zeros(w.shape) for w in self.weights]\n",
    "        # feedforward\n",
    "        activation = x\n",
    "        activations = [x] # list to store all the activations, layer by layer\n",
    "        zs = [] # list to store all the z vectors, layer by layer\n",
    "        for b, w in zip(self.biases, self.weights):\n",
    "            z = np.dot(w, activation)+b\n",
    "            zs.append(z)\n",
    "            activation = sigmoid(z)\n",
    "            activations.append(activation)\n",
    "        # backward pass\n",
    "        delta = self.cost_derivative(activations[-1], y) * \\\n",
    "            sigmoid_prime(zs[-1])\n",
    "        nabla_b[-1] = delta\n",
    "        nabla_w[-1] = np.dot(delta, activations[-2].transpose())\n",
    "        # Note that the variable l in the loop below is used a little\n",
    "        # differently to the notation in Chapter 2 of the book.  Here,\n",
    "        # l = 1 means the last layer of neurons, l = 2 is the\n",
    "        # second-last layer, and so on.  It's a renumbering of the\n",
    "        # scheme in the book, used here to take advantage of the fact\n",
    "        # that Python can use negative indices in lists.\n",
    "        for l in range(2, self.num_layers):\n",
    "            z = zs[-l]\n",
    "            sp = sigmoid_prime(z)\n",
    "            delta = np.dot(self.weights[-l+1].transpose(), delta) * sp\n",
    "            nabla_b[-l] = delta\n",
    "            nabla_w[-l] = np.dot(delta, activations[-l-1].transpose())\n",
    "        return (nabla_b, nabla_w)\n",
    "\n",
    "    def evaluate(self, test_data):\n",
    "        \"\"\"Return the number of test inputs for which the neural\n",
    "        network outputs the correct result. Note that the neural\n",
    "        network's output is assumed to be the index of whichever\n",
    "        neuron in the final layer has the highest activation.\"\"\"\n",
    "        test_results = [(np.argmax(self.feedforward(x)), y)\n",
    "                        for (x, y) in test_data]\n",
    "        return sum(int(x == y) for (x, y) in test_results)\n",
    "\n",
    "    def cost_derivative(self, output_activations, y):\n",
    "        \"\"\"Return the vector of partial derivatives \\partial C_x /\n",
    "        \\partial a for the output activations.\"\"\"\n",
    "        return (output_activations-y)\n",
    "    \n",
    "# Derivative of sigmoid function\n",
    "def sigmoid_prime(z):\n",
    "        return sigmoid(z)*(1-sigmoid(z))\n",
    "    \n",
    "# Sigmoid used as activation function function\n",
    "def sigmoid(z):\n",
    "        \"\"\"The sigmoid function.\"\"\"\n",
    "        return 1.0/(1.0+np.exp(-z))"
   ]
  },
  {
   "cell_type": "code",
   "execution_count": 3,
   "metadata": {
    "collapsed": true
   },
   "outputs": [],
   "source": [
    "\"\"\"\n",
    "mnist_loader\n",
    "~~~~~~~~~~~~\n",
    "\n",
    "A library to load the MNIST image data.  For details of the data\n",
    "structures that are returned, see the doc strings for ``load_data``\n",
    "and ``load_data_wrapper``.  In practice, ``load_data_wrapper`` is the\n",
    "function usually called by our neural network code.\n",
    "\"\"\"\n",
    "\n",
    "#### Libraries\n",
    "# Standard library\n",
    "import pickle\n",
    "import gzip\n",
    "\n",
    "\n",
    "def load_data():\n",
    "    \"\"\"Return the MNIST data as a tuple containing the training data,\n",
    "    the validation data, and the test data.\n",
    "\n",
    "    The ``training_data`` is returned as a tuple with two entries.\n",
    "    The first entry contains the actual training images.  This is a\n",
    "    numpy ndarray with 50,000 entries.  Each entry is, in turn, a\n",
    "    numpy ndarray with 784 values, representing the 28 * 28 = 784\n",
    "    pixels in a single MNIST image.\n",
    "\n",
    "    The second entry in the ``training_data`` tuple is a numpy ndarray\n",
    "    containing 50,000 entries.  Those entries are just the digit\n",
    "    values (0...9) for the corresponding images contained in the first\n",
    "    entry of the tuple.\n",
    "\n",
    "    The ``validation_data`` and ``test_data`` are similar, except\n",
    "    each contains only 10,000 images.\n",
    "\n",
    "    This is a nice data format, but for use in neural networks it's\n",
    "    helpful to modify the format of the ``training_data`` a little.\n",
    "    That's done in the wrapper function ``load_data_wrapper()``, see\n",
    "    below.\n",
    "    \"\"\"\n",
    "    f = gzip.open('data/mnist.pkl.gz', 'rb')\n",
    "    training_data, validation_data, test_data = pickle.load(f, encoding='latin1')\n",
    "    f.close()\n",
    "    return (training_data, validation_data, test_data)\n",
    "\n",
    "def load_data_wrapper():\n",
    "    \"\"\"Return a tuple containing ``(training_data, validation_data,\n",
    "    test_data)``. Based on ``load_data``, but the format is more\n",
    "    convenient for use in our implementation of neural networks.\n",
    "\n",
    "    In particular, ``training_data`` is a list containing 50,000\n",
    "    2-tuples ``(x, y)``.  ``x`` is a 784-dimensional numpy.ndarray\n",
    "    containing the input image.  ``y`` is a 10-dimensional\n",
    "    numpy.ndarray representing the unit vector corresponding to the\n",
    "    correct digit for ``x``.\n",
    "\n",
    "    ``validation_data`` and ``test_data`` are lists containing 10,000\n",
    "    2-tuples ``(x, y)``.  In each case, ``x`` is a 784-dimensional\n",
    "    numpy.ndarry containing the input image, and ``y`` is the\n",
    "    corresponding classification, i.e., the digit values (integers)\n",
    "    corresponding to ``x``.\n",
    "\n",
    "    Obviously, this means we're using slightly different formats for\n",
    "    the training data and the validation / test data.  These formats\n",
    "    turn out to be the most convenient for use in our neural network\n",
    "    code.\"\"\"\n",
    "    tr_d, va_d, te_d = load_data()\n",
    "    training_inputs = [np.reshape(x, (784, 1)) for x in tr_d[0]]\n",
    "    training_results = [vectorized_result(y) for y in tr_d[1]]\n",
    "    training_data = list(zip(training_inputs, training_results))\n",
    "    validation_inputs = [np.reshape(x, (784, 1)) for x in va_d[0]]\n",
    "    validation_data = list(zip(validation_inputs, va_d[1]))\n",
    "    test_inputs = [np.reshape(x, (784, 1)) for x in te_d[0]]\n",
    "    test_data = list(zip(test_inputs, te_d[1]))\n",
    "    return (training_data, validation_data, test_data)\n",
    "\n",
    "def vectorized_result(j):\n",
    "    \"\"\"Return a 10-dimensional unit vector with a 1.0 in the jth\n",
    "    position and zeroes elsewhere.  This is used to convert a digit\n",
    "    (0...9) into a corresponding desired output from the neural\n",
    "    network.\"\"\"\n",
    "    e = np.zeros((10, 1))\n",
    "    e[j] = 1.0\n",
    "    return e"
   ]
  },
  {
   "cell_type": "code",
   "execution_count": 4,
   "metadata": {
    "collapsed": true
   },
   "outputs": [],
   "source": [
    "data = load_data_wrapper()\n",
    "train = data[0]\n",
    "test = data[2]"
   ]
  },
  {
   "cell_type": "markdown",
   "metadata": {},
   "source": [
    "## Case 1 - Accuracy = 95.12%"
   ]
  },
  {
   "cell_type": "code",
   "execution_count": 5,
   "metadata": {},
   "outputs": [
    {
     "name": "stdout",
     "output_type": "stream",
     "text": [
      "Epoch 0: 9135 / 10000\n",
      "Epoch 1: 9219 / 10000\n",
      "Epoch 2: 9313 / 10000\n",
      "Epoch 3: 9331 / 10000\n",
      "Epoch 4: 9368 / 10000\n",
      "Epoch 5: 9369 / 10000\n",
      "Epoch 6: 9410 / 10000\n",
      "Epoch 7: 9408 / 10000\n",
      "Epoch 8: 9413 / 10000\n",
      "Epoch 9: 9449 / 10000\n",
      "Epoch 10: 9457 / 10000\n",
      "Epoch 11: 9466 / 10000\n",
      "Epoch 12: 9458 / 10000\n",
      "Epoch 13: 9506 / 10000\n",
      "Epoch 14: 9479 / 10000\n",
      "Epoch 15: 9464 / 10000\n",
      "Epoch 16: 9483 / 10000\n",
      "Epoch 17: 9485 / 10000\n",
      "Epoch 18: 9492 / 10000\n",
      "Epoch 19: 9480 / 10000\n",
      "Epoch 20: 9480 / 10000\n",
      "Epoch 21: 9503 / 10000\n",
      "Epoch 22: 9499 / 10000\n",
      "Epoch 23: 9512 / 10000\n",
      "Epoch 24: 9493 / 10000\n",
      "Epoch 25: 9494 / 10000\n",
      "Epoch 26: 9512 / 10000\n",
      "Epoch 27: 9502 / 10000\n",
      "Epoch 28: 9511 / 10000\n",
      "Epoch 29: 9488 / 10000\n"
     ]
    }
   ],
   "source": [
    "net = Network([784, 30, 10]) # neurons to input layer is 784 neurons to hidden layer is 30 and output layer has 10 neurons\n",
    "net.SGD(train, 30, 10, 3.0, test_data= test) # epoch 30 batch size 10 and learning rate as 3"
   ]
  },
  {
   "cell_type": "markdown",
   "metadata": {},
   "source": [
    "## Case 2 - Accuracy = 68.95%"
   ]
  },
  {
   "cell_type": "code",
   "execution_count": 6,
   "metadata": {},
   "outputs": [
    {
     "name": "stdout",
     "output_type": "stream",
     "text": [
      "Epoch 0: 4006 / 10000\n",
      "Epoch 1: 4990 / 10000\n",
      "Epoch 2: 5813 / 10000\n",
      "Epoch 3: 5983 / 10000\n",
      "Epoch 4: 6746 / 10000\n",
      "Epoch 5: 6754 / 10000\n",
      "Epoch 6: 6778 / 10000\n",
      "Epoch 7: 6813 / 10000\n",
      "Epoch 8: 6817 / 10000\n",
      "Epoch 9: 6831 / 10000\n",
      "Epoch 10: 6822 / 10000\n",
      "Epoch 11: 6842 / 10000\n",
      "Epoch 12: 6841 / 10000\n",
      "Epoch 13: 6849 / 10000\n",
      "Epoch 14: 6865 / 10000\n",
      "Epoch 15: 6860 / 10000\n",
      "Epoch 16: 6859 / 10000\n",
      "Epoch 17: 6856 / 10000\n",
      "Epoch 18: 6863 / 10000\n",
      "Epoch 19: 6868 / 10000\n",
      "Epoch 20: 6869 / 10000\n",
      "Epoch 21: 6873 / 10000\n",
      "Epoch 22: 6874 / 10000\n",
      "Epoch 23: 6882 / 10000\n",
      "Epoch 24: 6891 / 10000\n",
      "Epoch 25: 6883 / 10000\n",
      "Epoch 26: 6886 / 10000\n",
      "Epoch 27: 6879 / 10000\n",
      "Epoch 28: 6896 / 10000\n",
      "Epoch 29: 6895 / 10000\n"
     ]
    }
   ],
   "source": [
    "net = Network([784, 100, 10]) # neurons to input layer is 784 neurons to hidden layer is 100 and output layer has 10 neurons\n",
    "net.SGD(train, 30, 10, 3.0, test_data=test)# epoch 30 batch size 10 and learning rate as 3"
   ]
  },
  {
   "cell_type": "markdown",
   "metadata": {},
   "source": [
    "## Case 3 - Accuracy = 30.83% "
   ]
  },
  {
   "cell_type": "code",
   "execution_count": 8,
   "metadata": {},
   "outputs": [
    {
     "name": "stdout",
     "output_type": "stream",
     "text": [
      "Epoch 0: 1027 / 10000\n",
      "Epoch 1: 1078 / 10000\n",
      "Epoch 2: 1472 / 10000\n",
      "Epoch 3: 1854 / 10000\n",
      "Epoch 4: 1982 / 10000\n",
      "Epoch 5: 2062 / 10000\n",
      "Epoch 6: 2138 / 10000\n",
      "Epoch 7: 2199 / 10000\n",
      "Epoch 8: 2253 / 10000\n",
      "Epoch 9: 2306 / 10000\n",
      "Epoch 10: 2367 / 10000\n",
      "Epoch 11: 2406 / 10000\n",
      "Epoch 12: 2453 / 10000\n",
      "Epoch 13: 2490 / 10000\n",
      "Epoch 14: 2543 / 10000\n",
      "Epoch 15: 2578 / 10000\n",
      "Epoch 16: 2627 / 10000\n",
      "Epoch 17: 2661 / 10000\n",
      "Epoch 18: 2689 / 10000\n",
      "Epoch 19: 2719 / 10000\n",
      "Epoch 20: 2744 / 10000\n",
      "Epoch 21: 2779 / 10000\n",
      "Epoch 22: 2802 / 10000\n",
      "Epoch 23: 2831 / 10000\n",
      "Epoch 24: 2877 / 10000\n",
      "Epoch 25: 2923 / 10000\n",
      "Epoch 26: 2953 / 10000\n",
      "Epoch 27: 3003 / 10000\n",
      "Epoch 28: 3048 / 10000\n",
      "Epoch 29: 3083 / 10000\n"
     ]
    }
   ],
   "source": [
    "net = Network([784, 100, 10]) # neurons to input layer is 784 neurons to hidden layer is 100 and output layer has 10 neurons\n",
    "net.SGD(train, 30, 10, 0.001, test_data=test) # epoch 30 batch size 10 and learning rate as 0.001"
   ]
  },
  {
   "cell_type": "markdown",
   "metadata": {},
   "source": [
    "## Case 4 - Accuracy = 11.89%"
   ]
  },
  {
   "cell_type": "code",
   "execution_count": 9,
   "metadata": {},
   "outputs": [
    {
     "name": "stdout",
     "output_type": "stream",
     "text": [
      "Epoch 0: 962 / 10000\n",
      "Epoch 1: 1164 / 10000\n",
      "Epoch 2: 1152 / 10000\n",
      "Epoch 3: 1154 / 10000\n",
      "Epoch 4: 1153 / 10000\n",
      "Epoch 5: 1152 / 10000\n",
      "Epoch 6: 1143 / 10000\n",
      "Epoch 7: 1139 / 10000\n",
      "Epoch 8: 1189 / 10000\n",
      "Epoch 9: 1184 / 10000\n",
      "Epoch 10: 1174 / 10000\n",
      "Epoch 11: 1171 / 10000\n",
      "Epoch 12: 1163 / 10000\n",
      "Epoch 13: 1146 / 10000\n",
      "Epoch 14: 1018 / 10000\n",
      "Epoch 15: 1018 / 10000\n",
      "Epoch 16: 1018 / 10000\n",
      "Epoch 17: 1018 / 10000\n",
      "Epoch 18: 1017 / 10000\n",
      "Epoch 19: 1017 / 10000\n",
      "Epoch 20: 1016 / 10000\n",
      "Epoch 21: 1016 / 10000\n",
      "Epoch 22: 1016 / 10000\n",
      "Epoch 23: 1016 / 10000\n",
      "Epoch 24: 1016 / 10000\n",
      "Epoch 25: 1016 / 10000\n",
      "Epoch 26: 1016 / 10000\n",
      "Epoch 27: 1016 / 10000\n",
      "Epoch 28: 1016 / 10000\n",
      "Epoch 29: 1016 / 10000\n"
     ]
    }
   ],
   "source": [
    "net = Network([784, 30, 10])# neurons to input layer is 784 neurons to hidden layer is 30 and output layer has 10 neurons\n",
    "net.SGD(train, 30, 10, 100.0, test_data=test)  # epoch 30 batch size 10 and learning rate as 100"
   ]
  },
  {
   "cell_type": "code",
   "execution_count": null,
   "metadata": {
    "collapsed": true
   },
   "outputs": [],
   "source": []
  }
 ],
 "metadata": {
  "kernelspec": {
   "display_name": "Python 3",
   "language": "python",
   "name": "python3"
  },
  "language_info": {
   "codemirror_mode": {
    "name": "ipython",
    "version": 3
   },
   "file_extension": ".py",
   "mimetype": "text/x-python",
   "name": "python",
   "nbconvert_exporter": "python",
   "pygments_lexer": "ipython3",
   "version": "3.5.2"
  }
 },
 "nbformat": 4,
 "nbformat_minor": 2
}
