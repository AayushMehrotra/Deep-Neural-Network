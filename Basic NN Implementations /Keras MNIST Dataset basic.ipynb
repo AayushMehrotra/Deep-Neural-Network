{
 "cells": [
  {
   "cell_type": "code",
   "execution_count": 3,
   "metadata": {},
   "outputs": [
    {
     "name": "stderr",
     "output_type": "stream",
     "text": [
      "Using TensorFlow backend.\n"
     ]
    }
   ],
   "source": [
    "import pandas as pd\n",
    "\n",
    "import keras\n",
    "from keras.layers import Dense\n",
    "from keras.models import Sequential\n",
    "from keras.datasets import mnist\n",
    "from keras.optimizers import RMSprop\n",
    "from keras.utils import to_categorical"
   ]
  },
  {
   "cell_type": "code",
   "execution_count": 45,
   "metadata": {},
   "outputs": [],
   "source": [
    "(x_train,y_train),(x_test,y_test) = mnist.load_data()"
   ]
  },
  {
   "cell_type": "code",
   "execution_count": 46,
   "metadata": {
    "collapsed": true
   },
   "outputs": [],
   "source": [
    "epochs = 12\n",
    "num_classes = 10\n",
    "batch_size = 28"
   ]
  },
  {
   "cell_type": "code",
   "execution_count": 47,
   "metadata": {},
   "outputs": [],
   "source": [
    "x_train = x_train.reshape(60000, 784)\n",
    "x_test = x_test.reshape(10000, 784)"
   ]
  },
  {
   "cell_type": "code",
   "execution_count": 48,
   "metadata": {
    "collapsed": true
   },
   "outputs": [],
   "source": [
    "x_train = x_train.astype('float32')\n",
    "x_test = x_test.astype('float32')\n",
    "x_train = x_train/255\n",
    "x_test = x_test/255"
   ]
  },
  {
   "cell_type": "code",
   "execution_count": 49,
   "metadata": {},
   "outputs": [
    {
     "data": {
      "text/plain": [
       "(60000, 10)"
      ]
     },
     "execution_count": 49,
     "metadata": {},
     "output_type": "execute_result"
    }
   ],
   "source": [
    "y_train = to_categorical(y_train,num_classes=num_classes)\n",
    "y_test = to_categorical(y_test,num_classes=num_classes)\n",
    "y_train.shape"
   ]
  },
  {
   "cell_type": "code",
   "execution_count": 11,
   "metadata": {
    "collapsed": true
   },
   "outputs": [],
   "source": [
    "model = Sequential()"
   ]
  },
  {
   "cell_type": "code",
   "execution_count": 12,
   "metadata": {
    "collapsed": true
   },
   "outputs": [],
   "source": [
    "model.add(Dense(512, activation='relu',input_shape = (784,)))\n",
    "model.add(Dense(512,activation='relu'))\n",
    "model.add(Dense(10,activation='softmax'))"
   ]
  },
  {
   "cell_type": "code",
   "execution_count": 13,
   "metadata": {
    "collapsed": true
   },
   "outputs": [],
   "source": [
    "model.compile(optimizer='rmsprop',\n",
    "          loss='categorical_crossentropy',\n",
    "          metrics=['accuracy'])"
   ]
  },
  {
   "cell_type": "code",
   "execution_count": 15,
   "metadata": {},
   "outputs": [
    {
     "name": "stdout",
     "output_type": "stream",
     "text": [
      "_________________________________________________________________\n",
      "Layer (type)                 Output Shape              Param #   \n",
      "=================================================================\n",
      "dense_1 (Dense)              (None, 512)               401920    \n",
      "_________________________________________________________________\n",
      "dense_2 (Dense)              (None, 512)               262656    \n",
      "_________________________________________________________________\n",
      "dense_3 (Dense)              (None, 10)                5130      \n",
      "=================================================================\n",
      "Total params: 669,706\n",
      "Trainable params: 669,706\n",
      "Non-trainable params: 0\n",
      "_________________________________________________________________\n"
     ]
    }
   ],
   "source": [
    "model.summary()"
   ]
  },
  {
   "cell_type": "code",
   "execution_count": 14,
   "metadata": {},
   "outputs": [
    {
     "name": "stdout",
     "output_type": "stream",
     "text": [
      "Train on 54000 samples, validate on 6000 samples\n",
      "Epoch 1/12\n",
      "26s - loss: 0.2024 - acc: 0.9399 - val_loss: 0.1340 - val_acc: 0.9653\n",
      "Epoch 2/12\n",
      "24s - loss: 0.1074 - acc: 0.9724 - val_loss: 0.1000 - val_acc: 0.9773\n",
      "Epoch 3/12\n",
      "24s - loss: 0.0940 - acc: 0.9776 - val_loss: 0.1167 - val_acc: 0.9773\n",
      "Epoch 4/12\n",
      "24s - loss: 0.0834 - acc: 0.9825 - val_loss: 0.0975 - val_acc: 0.9817\n",
      "Epoch 5/12\n",
      "24s - loss: 0.0783 - acc: 0.9847 - val_loss: 0.1308 - val_acc: 0.9783\n",
      "Epoch 6/12\n",
      "24s - loss: 0.0771 - acc: 0.9865 - val_loss: 0.1436 - val_acc: 0.9777\n",
      "Epoch 7/12\n",
      "26s - loss: 0.0653 - acc: 0.9884 - val_loss: 0.1344 - val_acc: 0.9815\n",
      "Epoch 8/12\n",
      "28s - loss: 0.0677 - acc: 0.9891 - val_loss: 0.1368 - val_acc: 0.9808\n",
      "Epoch 9/12\n",
      "29s - loss: 0.0627 - acc: 0.9902 - val_loss: 0.1552 - val_acc: 0.9813\n",
      "Epoch 10/12\n",
      "26s - loss: 0.0590 - acc: 0.9908 - val_loss: 0.1709 - val_acc: 0.9795\n",
      "Epoch 11/12\n",
      "26s - loss: 0.0574 - acc: 0.9912 - val_loss: 0.1623 - val_acc: 0.9827\n",
      "Epoch 12/12\n",
      "27s - loss: 0.0539 - acc: 0.9924 - val_loss: 0.1628 - val_acc: 0.9808\n"
     ]
    },
    {
     "data": {
      "text/plain": [
       "<keras.callbacks.History at 0x7fdabde68f28>"
      ]
     },
     "execution_count": 14,
     "metadata": {},
     "output_type": "execute_result"
    }
   ],
   "source": [
    "model.fit(x_train,y_train,verbose=2,batch_size=batch_size,epochs=epochs,validation_split=0.1)"
   ]
  },
  {
   "cell_type": "code",
   "execution_count": 22,
   "metadata": {},
   "outputs": [
    {
     "name": "stdout",
     "output_type": "stream",
     "text": [
      " 9696/10000 [============================>.] - ETA: 0s"
     ]
    }
   ],
   "source": [
    "predicted_classes = model.predict_classes(x_test)"
   ]
  },
  {
   "cell_type": "code",
   "execution_count": 23,
   "metadata": {
    "collapsed": true
   },
   "outputs": [],
   "source": [
    "(_,_),(_,y_test) = mnist.load_data()"
   ]
  },
  {
   "cell_type": "code",
   "execution_count": 24,
   "metadata": {},
   "outputs": [
    {
     "data": {
      "text/html": [
       "<div>\n",
       "<table border=\"1\" class=\"dataframe\">\n",
       "  <thead>\n",
       "    <tr style=\"text-align: right;\">\n",
       "      <th>col_0</th>\n",
       "      <th>0</th>\n",
       "      <th>1</th>\n",
       "      <th>2</th>\n",
       "      <th>3</th>\n",
       "      <th>4</th>\n",
       "      <th>5</th>\n",
       "      <th>6</th>\n",
       "      <th>7</th>\n",
       "      <th>8</th>\n",
       "      <th>9</th>\n",
       "    </tr>\n",
       "    <tr>\n",
       "      <th>row_0</th>\n",
       "      <th></th>\n",
       "      <th></th>\n",
       "      <th></th>\n",
       "      <th></th>\n",
       "      <th></th>\n",
       "      <th></th>\n",
       "      <th></th>\n",
       "      <th></th>\n",
       "      <th></th>\n",
       "      <th></th>\n",
       "    </tr>\n",
       "  </thead>\n",
       "  <tbody>\n",
       "    <tr>\n",
       "      <th>0</th>\n",
       "      <td>970</td>\n",
       "      <td>0</td>\n",
       "      <td>2</td>\n",
       "      <td>0</td>\n",
       "      <td>0</td>\n",
       "      <td>2</td>\n",
       "      <td>3</td>\n",
       "      <td>1</td>\n",
       "      <td>1</td>\n",
       "      <td>2</td>\n",
       "    </tr>\n",
       "    <tr>\n",
       "      <th>1</th>\n",
       "      <td>0</td>\n",
       "      <td>1122</td>\n",
       "      <td>3</td>\n",
       "      <td>0</td>\n",
       "      <td>0</td>\n",
       "      <td>0</td>\n",
       "      <td>2</td>\n",
       "      <td>0</td>\n",
       "      <td>0</td>\n",
       "      <td>2</td>\n",
       "    </tr>\n",
       "    <tr>\n",
       "      <th>2</th>\n",
       "      <td>2</td>\n",
       "      <td>0</td>\n",
       "      <td>1010</td>\n",
       "      <td>2</td>\n",
       "      <td>3</td>\n",
       "      <td>0</td>\n",
       "      <td>0</td>\n",
       "      <td>6</td>\n",
       "      <td>0</td>\n",
       "      <td>0</td>\n",
       "    </tr>\n",
       "    <tr>\n",
       "      <th>3</th>\n",
       "      <td>0</td>\n",
       "      <td>2</td>\n",
       "      <td>4</td>\n",
       "      <td>990</td>\n",
       "      <td>2</td>\n",
       "      <td>15</td>\n",
       "      <td>1</td>\n",
       "      <td>2</td>\n",
       "      <td>5</td>\n",
       "      <td>2</td>\n",
       "    </tr>\n",
       "    <tr>\n",
       "      <th>4</th>\n",
       "      <td>1</td>\n",
       "      <td>0</td>\n",
       "      <td>1</td>\n",
       "      <td>0</td>\n",
       "      <td>942</td>\n",
       "      <td>0</td>\n",
       "      <td>4</td>\n",
       "      <td>0</td>\n",
       "      <td>1</td>\n",
       "      <td>4</td>\n",
       "    </tr>\n",
       "    <tr>\n",
       "      <th>5</th>\n",
       "      <td>0</td>\n",
       "      <td>2</td>\n",
       "      <td>0</td>\n",
       "      <td>1</td>\n",
       "      <td>0</td>\n",
       "      <td>863</td>\n",
       "      <td>5</td>\n",
       "      <td>0</td>\n",
       "      <td>3</td>\n",
       "      <td>2</td>\n",
       "    </tr>\n",
       "    <tr>\n",
       "      <th>6</th>\n",
       "      <td>4</td>\n",
       "      <td>3</td>\n",
       "      <td>0</td>\n",
       "      <td>0</td>\n",
       "      <td>2</td>\n",
       "      <td>2</td>\n",
       "      <td>940</td>\n",
       "      <td>0</td>\n",
       "      <td>2</td>\n",
       "      <td>0</td>\n",
       "    </tr>\n",
       "    <tr>\n",
       "      <th>7</th>\n",
       "      <td>1</td>\n",
       "      <td>3</td>\n",
       "      <td>6</td>\n",
       "      <td>7</td>\n",
       "      <td>10</td>\n",
       "      <td>3</td>\n",
       "      <td>1</td>\n",
       "      <td>1013</td>\n",
       "      <td>7</td>\n",
       "      <td>8</td>\n",
       "    </tr>\n",
       "    <tr>\n",
       "      <th>8</th>\n",
       "      <td>2</td>\n",
       "      <td>3</td>\n",
       "      <td>6</td>\n",
       "      <td>5</td>\n",
       "      <td>1</td>\n",
       "      <td>3</td>\n",
       "      <td>2</td>\n",
       "      <td>3</td>\n",
       "      <td>949</td>\n",
       "      <td>1</td>\n",
       "    </tr>\n",
       "    <tr>\n",
       "      <th>9</th>\n",
       "      <td>0</td>\n",
       "      <td>0</td>\n",
       "      <td>0</td>\n",
       "      <td>5</td>\n",
       "      <td>22</td>\n",
       "      <td>4</td>\n",
       "      <td>0</td>\n",
       "      <td>3</td>\n",
       "      <td>6</td>\n",
       "      <td>988</td>\n",
       "    </tr>\n",
       "  </tbody>\n",
       "</table>\n",
       "</div>"
      ],
      "text/plain": [
       "col_0    0     1     2    3    4    5    6     7    8    9\n",
       "row_0                                                     \n",
       "0      970     0     2    0    0    2    3     1    1    2\n",
       "1        0  1122     3    0    0    0    2     0    0    2\n",
       "2        2     0  1010    2    3    0    0     6    0    0\n",
       "3        0     2     4  990    2   15    1     2    5    2\n",
       "4        1     0     1    0  942    0    4     0    1    4\n",
       "5        0     2     0    1    0  863    5     0    3    2\n",
       "6        4     3     0    0    2    2  940     0    2    0\n",
       "7        1     3     6    7   10    3    1  1013    7    8\n",
       "8        2     3     6    5    1    3    2     3  949    1\n",
       "9        0     0     0    5   22    4    0     3    6  988"
      ]
     },
     "execution_count": 24,
     "metadata": {},
     "output_type": "execute_result"
    }
   ],
   "source": [
    "pd.crosstab(predicted_classes,y_test)"
   ]
  },
  {
   "cell_type": "code",
   "execution_count": 29,
   "metadata": {},
   "outputs": [
    {
     "data": {
      "text/plain": [
       "213"
      ]
     },
     "execution_count": 29,
     "metadata": {},
     "output_type": "execute_result"
    }
   ],
   "source": [
    "test_fail = [im for im in zip(predicted_classes,y_test) if im[0] != im[1]]\n",
    "len(test_fail)"
   ]
  },
  {
   "cell_type": "code",
   "execution_count": 30,
   "metadata": {},
   "outputs": [
    {
     "data": {
      "text/plain": [
       "[(7, 8),\n",
       " (2, 4),\n",
       " (9, 4),\n",
       " (7, 2),\n",
       " (3, 5),\n",
       " (7, 3),\n",
       " (0, 6),\n",
       " (9, 4),\n",
       " (0, 8),\n",
       " (8, 1),\n",
       " (7, 2),\n",
       " (3, 7),\n",
       " (8, 5),\n",
       " (9, 4),\n",
       " (9, 4),\n",
       " (8, 9),\n",
       " (7, 8),\n",
       " (6, 8),\n",
       " (7, 9),\n",
       " (5, 1),\n",
       " (9, 8),\n",
       " (7, 5),\n",
       " (5, 6),\n",
       " (3, 5),\n",
       " (5, 6),\n",
       " (6, 4),\n",
       " (8, 7),\n",
       " (2, 7),\n",
       " (9, 4),\n",
       " (5, 9),\n",
       " (9, 4),\n",
       " (7, 5),\n",
       " (3, 8),\n",
       " (8, 7),\n",
       " (3, 5),\n",
       " (3, 2),\n",
       " (7, 9),\n",
       " (7, 6),\n",
       " (7, 3),\n",
       " (0, 7),\n",
       " (9, 7),\n",
       " (7, 8),\n",
       " (6, 4),\n",
       " (6, 0),\n",
       " (5, 6),\n",
       " (7, 4),\n",
       " (7, 5),\n",
       " (7, 3),\n",
       " (8, 2),\n",
       " (7, 4),\n",
       " (4, 9),\n",
       " (9, 8),\n",
       " (7, 1),\n",
       " (9, 7),\n",
       " (3, 5),\n",
       " (9, 4),\n",
       " (0, 5),\n",
       " (0, 2),\n",
       " (7, 3),\n",
       " (0, 6),\n",
       " (9, 4),\n",
       " (1, 6),\n",
       " (9, 4),\n",
       " (3, 1),\n",
       " (8, 5),\n",
       " (3, 5),\n",
       " (0, 9),\n",
       " (2, 7),\n",
       " (2, 0),\n",
       " (8, 5),\n",
       " (1, 9),\n",
       " (1, 2),\n",
       " (9, 4),\n",
       " (4, 2),\n",
       " (3, 5),\n",
       " (3, 8),\n",
       " (9, 4),\n",
       " (7, 2),\n",
       " (5, 9),\n",
       " (1, 6),\n",
       " (7, 4),\n",
       " (9, 4),\n",
       " (3, 5),\n",
       " (7, 4),\n",
       " (9, 4),\n",
       " (8, 3),\n",
       " (7, 9),\n",
       " (5, 3),\n",
       " (8, 6),\n",
       " (5, 8),\n",
       " (3, 5),\n",
       " (9, 5),\n",
       " (9, 7),\n",
       " (9, 8),\n",
       " (0, 6),\n",
       " (8, 7),\n",
       " (6, 1),\n",
       " (4, 9),\n",
       " (7, 3),\n",
       " (9, 4),\n",
       " (1, 9),\n",
       " (4, 6),\n",
       " (9, 4),\n",
       " (0, 5),\n",
       " (9, 4),\n",
       " (3, 2),\n",
       " (4, 8),\n",
       " (8, 2),\n",
       " (3, 7),\n",
       " (4, 0),\n",
       " (5, 6),\n",
       " (3, 1),\n",
       " (2, 4),\n",
       " (8, 0),\n",
       " (3, 9),\n",
       " (3, 2),\n",
       " (0, 9),\n",
       " (7, 2),\n",
       " (7, 1),\n",
       " (7, 9),\n",
       " (8, 2),\n",
       " (3, 4),\n",
       " (7, 2),\n",
       " (7, 3),\n",
       " (9, 5),\n",
       " (3, 5),\n",
       " (9, 4),\n",
       " (2, 3),\n",
       " (7, 8),\n",
       " (7, 1),\n",
       " (5, 6),\n",
       " (9, 4),\n",
       " (8, 6),\n",
       " (9, 8),\n",
       " (3, 8),\n",
       " (7, 9),\n",
       " (4, 6),\n",
       " (4, 9),\n",
       " (9, 4),\n",
       " (8, 0),\n",
       " (7, 8),\n",
       " (2, 3),\n",
       " (7, 4),\n",
       " (6, 1),\n",
       " (3, 8),\n",
       " (8, 2),\n",
       " (5, 1),\n",
       " (3, 4),\n",
       " (7, 3),\n",
       " (3, 5),\n",
       " (9, 4),\n",
       " (3, 5),\n",
       " (8, 3),\n",
       " (8, 3),\n",
       " (9, 5),\n",
       " (3, 5),\n",
       " (9, 5),\n",
       " (9, 3),\n",
       " (9, 3),\n",
       " (8, 3),\n",
       " (9, 3),\n",
       " (8, 2),\n",
       " (9, 8),\n",
       " (3, 9),\n",
       " (7, 0),\n",
       " (7, 8),\n",
       " (5, 8),\n",
       " (6, 0),\n",
       " (2, 7),\n",
       " (7, 8),\n",
       " (6, 1),\n",
       " (6, 0),\n",
       " (8, 4),\n",
       " (9, 8),\n",
       " (8, 1),\n",
       " (3, 8),\n",
       " (8, 1),\n",
       " (1, 2),\n",
       " (1, 2),\n",
       " (8, 2),\n",
       " (4, 6),\n",
       " (9, 3),\n",
       " (7, 4),\n",
       " (9, 3),\n",
       " (4, 6),\n",
       " (2, 7),\n",
       " (6, 0),\n",
       " (6, 8),\n",
       " (3, 5),\n",
       " (3, 5),\n",
       " (9, 4),\n",
       " (9, 4),\n",
       " (2, 7),\n",
       " (2, 7),\n",
       " (5, 8),\n",
       " (3, 5),\n",
       " (4, 9),\n",
       " (2, 0),\n",
       " (7, 9),\n",
       " (7, 2),\n",
       " (7, 4),\n",
       " (3, 6),\n",
       " (7, 9),\n",
       " (6, 5),\n",
       " (7, 4),\n",
       " (7, 9),\n",
       " (2, 4),\n",
       " (8, 3),\n",
       " (0, 2),\n",
       " (7, 4),\n",
       " (3, 2),\n",
       " (7, 4),\n",
       " (6, 5)]"
      ]
     },
     "execution_count": 30,
     "metadata": {},
     "output_type": "execute_result"
    }
   ],
   "source": [
    "test_fail"
   ]
  },
  {
   "cell_type": "code",
   "execution_count": null,
   "metadata": {
    "collapsed": true
   },
   "outputs": [],
   "source": []
  }
 ],
 "metadata": {
  "kernelspec": {
   "display_name": "Python 3",
   "language": "python",
   "name": "python3"
  },
  "language_info": {
   "codemirror_mode": {
    "name": "ipython",
    "version": 3
   },
   "file_extension": ".py",
   "mimetype": "text/x-python",
   "name": "python",
   "nbconvert_exporter": "python",
   "pygments_lexer": "ipython3",
   "version": "3.5.2"
  }
 },
 "nbformat": 4,
 "nbformat_minor": 2
}
