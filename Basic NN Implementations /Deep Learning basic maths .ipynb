{
 "cells": [
  {
   "cell_type": "code",
   "execution_count": 25,
   "metadata": {
    "collapsed": true
   },
   "outputs": [],
   "source": [
    "import numpy as np"
   ]
  },
  {
   "cell_type": "code",
   "execution_count": 26,
   "metadata": {
    "collapsed": true
   },
   "outputs": [],
   "source": [
    "# Step 1 Collect Data\n",
    "x = np.array([[0,0,1],\n",
    "            [0,1,1],\n",
    "            [1,0,1],\n",
    "            [1,1,1]])\n",
    "                \n",
    "y = np.array([[0],\n",
    "            [1],\n",
    "            [1],\n",
    "            [0]])\n",
    "# X is the input and Y is the known output"
   ]
  },
  {
   "cell_type": "code",
   "execution_count": 27,
   "metadata": {
    "collapsed": true
   },
   "outputs": [],
   "source": [
    "#Step 2 build model\n",
    "\n",
    "num_epochs = 60000  # Number of training steps \n",
    "\n",
    "#initialize weights\n",
    "syn0 = 2*np.random.random((3,4)) - 1 # weights to hidden layer\n",
    "syn1 = 2*np.random.random((4,1)) - 1 # weighst to output layer from hidden layer"
   ]
  },
  {
   "cell_type": "code",
   "execution_count": 28,
   "metadata": {
    "collapsed": true
   },
   "outputs": [],
   "source": [
    "# Sigmoid function\n",
    "def sigmoid(x,deriv=False):\n",
    "    \n",
    "    return 1/(1+np.exp(-x))"
   ]
  },
  {
   "cell_type": "code",
   "execution_count": 29,
   "metadata": {
    "collapsed": true
   },
   "outputs": [],
   "source": [
    "# Sigmoid derivative \n",
    "def sigmoid_deriv(x):\n",
    "    \n",
    "    return x*(1-x)"
   ]
  },
  {
   "cell_type": "code",
   "execution_count": 36,
   "metadata": {},
   "outputs": [
    {
     "name": "stdout",
     "output_type": "stream",
     "text": [
      "Error is :  0.00292313445315\n",
      "Error is :  0.00290640314841\n",
      "Error is :  0.00288995131393\n",
      "Error is :  0.00287377129034\n",
      "Error is :  0.00285785570829\n",
      "Error is :  0.00284219747457\n",
      "Weigh from I/P to Hidden  [[-5.07565499  3.45344057 -7.45434953 -2.44175481]\n",
      " [-4.81598404 -5.58889142  6.18220094  5.53923436]\n",
      " [ 1.21901296 -1.38143823 -2.86813832  0.46533355]]\n",
      "Weight from Hidden to O/P  [[ -6.32739975]\n",
      " [  7.66830127]\n",
      " [ 12.45669581]\n",
      " [ -6.13863808]]\n"
     ]
    }
   ],
   "source": [
    "# train the data\n",
    "for j in range(num_epochs):\n",
    "    \n",
    "    # First Feed forward\n",
    "    \n",
    "    layer0 = x\n",
    "    layer1 = sigmoid(np.dot(layer0, syn0))\n",
    "    layer2 = sigmoid(np.dot(layer1, syn1))\n",
    "    \n",
    "    # Getting Error\n",
    "    layer2_error = y - layer2\n",
    "    \n",
    "    #printing error\n",
    "    if j % 10000 == 0:\n",
    "        print('Error is : ',str(np.mean(np.abs(layer2_error))))\n",
    "        \n",
    "    # Backpropogation\n",
    "    \n",
    "    # in what direction is the target value?\n",
    "    layer2_delta = layer2_error * sigmoid_deriv(layer2)\n",
    "    # how much did each l1 value contribute to l2 error\n",
    "    layer1_error = layer2_delta.dot(syn1.T)\n",
    "    layer1_delta= layer1_error * sigmoid_deriv(layer1)\n",
    "    \n",
    "    #update weights with learning rate as 0.1\n",
    "    syn1 += layer1.T.dot(layer2_delta) * 0.1\n",
    "    syn0 += layer0.T.dot(layer1_delta) * 0.1\n",
    "print('Weigh from I/P to Hidden ',syn0)\n",
    "print('Weight from Hidden to O/P ',syn1)"
   ]
  },
  {
   "cell_type": "code",
   "execution_count": null,
   "metadata": {
    "collapsed": true
   },
   "outputs": [],
   "source": []
  }
 ],
 "metadata": {
  "kernelspec": {
   "display_name": "Python 3",
   "language": "python",
   "name": "python3"
  },
  "language_info": {
   "codemirror_mode": {
    "name": "ipython",
    "version": 3
   },
   "file_extension": ".py",
   "mimetype": "text/x-python",
   "name": "python",
   "nbconvert_exporter": "python",
   "pygments_lexer": "ipython3",
   "version": "3.5.2"
  }
 },
 "nbformat": 4,
 "nbformat_minor": 2
}
