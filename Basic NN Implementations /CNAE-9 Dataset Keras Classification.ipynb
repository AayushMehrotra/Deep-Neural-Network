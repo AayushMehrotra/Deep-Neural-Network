{
 "cells": [
  {
   "cell_type": "markdown",
   "metadata": {},
   "source": [
    "# Imports"
   ]
  },
  {
   "cell_type": "code",
   "execution_count": 1,
   "metadata": {},
   "outputs": [
    {
     "name": "stderr",
     "output_type": "stream",
     "text": [
      "Using TensorFlow backend.\n"
     ]
    }
   ],
   "source": [
    "import pandas as pd\n",
    "import numpy as np\n",
    "import random\n",
    "import keras\n",
    "import matplotlib.pyplot as plt\n",
    "\n",
    "from keras.layers import Dense\n",
    "from keras.layers import Dropout\n",
    "from keras.models import Sequential\n",
    "from keras.optimizers import RMSprop\n",
    "from keras.utils import to_categorical"
   ]
  },
  {
   "cell_type": "markdown",
   "metadata": {},
   "source": [
    "# Reading the Data and getting the shape"
   ]
  },
  {
   "cell_type": "code",
   "execution_count": 2,
   "metadata": {
    "collapsed": true
   },
   "outputs": [],
   "source": [
    "data = pd.read_csv('data/CNAE-9.data',header= None)\n",
    "row, column = data.shape"
   ]
  },
  {
   "cell_type": "markdown",
   "metadata": {},
   "source": [
    "# Getting the Y and X data"
   ]
  },
  {
   "cell_type": "code",
   "execution_count": 3,
   "metadata": {
    "collapsed": true
   },
   "outputs": [],
   "source": [
    "output_data = np.array(data[0].apply(lambda class_of_doc : class_of_doc -1)) \n",
    "# as the classes being from 1-9 so to map it to 0-8 for one hot encoding\n",
    "input_data = np.array(data.drop(0, axis=1))"
   ]
  },
  {
   "cell_type": "markdown",
   "metadata": {},
   "source": [
    "# Defining variables "
   ]
  },
  {
   "cell_type": "code",
   "execution_count": 4,
   "metadata": {
    "collapsed": true
   },
   "outputs": [],
   "source": [
    "epochs = 12 # Hyperparameters\n",
    "num_classes = len(pd.unique(output_data))\n",
    "batch_size = 12  # Hyperparameters\n",
    "test_accuracy = []\n",
    "train_accuracy = []"
   ]
  },
  {
   "cell_type": "markdown",
   "metadata": {},
   "source": [
    "# One Hot coding for Y Data"
   ]
  },
  {
   "cell_type": "code",
   "execution_count": 5,
   "metadata": {
    "collapsed": true
   },
   "outputs": [],
   "source": [
    "output_data = to_categorical(output_data, num_classes)"
   ]
  },
  {
   "cell_type": "markdown",
   "metadata": {},
   "source": [
    "# Splitting the train/test data (85-15) & Getting X_train/Y_train and X_test/Y_test"
   ]
  },
  {
   "cell_type": "code",
   "execution_count": 6,
   "metadata": {
    "collapsed": true
   },
   "outputs": [],
   "source": [
    "x_train = input_data[:int(0.85*row)]\n",
    "x_test = input_data[int(0.85*row):]\n",
    "y_train = output_data[:int(0.85*row)]\n",
    "y_test = output_data[int(0.85*row):]"
   ]
  },
  {
   "cell_type": "markdown",
   "metadata": {},
   "source": [
    "# Model with 1 Hidden Layer"
   ]
  },
  {
   "cell_type": "code",
   "execution_count": 7,
   "metadata": {
    "collapsed": true
   },
   "outputs": [],
   "source": [
    "model1 = Sequential()\n",
    "model1.add(Dense(512, activation='relu',input_shape = (856,)))\n",
    "model1.add(Dense(num_classes,activation='softmax'))"
   ]
  },
  {
   "cell_type": "markdown",
   "metadata": {},
   "source": [
    "# Compiling the model and getting it's summary"
   ]
  },
  {
   "cell_type": "code",
   "execution_count": 8,
   "metadata": {},
   "outputs": [
    {
     "name": "stdout",
     "output_type": "stream",
     "text": [
      "_________________________________________________________________\n",
      "Layer (type)                 Output Shape              Param #   \n",
      "=================================================================\n",
      "dense_1 (Dense)              (None, 512)               438784    \n",
      "_________________________________________________________________\n",
      "dense_2 (Dense)              (None, 9)                 4617      \n",
      "=================================================================\n",
      "Total params: 443,401\n",
      "Trainable params: 443,401\n",
      "Non-trainable params: 0\n",
      "_________________________________________________________________\n"
     ]
    }
   ],
   "source": [
    "model1.compile(optimizer='rmsprop',\n",
    "          loss='categorical_crossentropy',\n",
    "          metrics=['accuracy'])\n",
    "model1.summary()"
   ]
  },
  {
   "cell_type": "markdown",
   "metadata": {},
   "source": [
    "# Fitting the model to get accuracy"
   ]
  },
  {
   "cell_type": "code",
   "execution_count": 9,
   "metadata": {},
   "outputs": [
    {
     "name": "stdout",
     "output_type": "stream",
     "text": [
      "Train on 826 samples, validate on 92 samples\n",
      "Epoch 1/12\n",
      "1s - loss: 1.4120 - acc: 0.7990 - val_loss: 0.7943 - val_acc: 0.9022\n",
      "Epoch 2/12\n",
      "0s - loss: 0.4278 - acc: 0.9576 - val_loss: 0.3658 - val_acc: 0.9022\n",
      "Epoch 3/12\n",
      "0s - loss: 0.1718 - acc: 0.9722 - val_loss: 0.2507 - val_acc: 0.9348\n",
      "Epoch 4/12\n",
      "0s - loss: 0.0871 - acc: 0.9855 - val_loss: 0.2219 - val_acc: 0.9239\n",
      "Epoch 5/12\n",
      "0s - loss: 0.0498 - acc: 0.9939 - val_loss: 0.1989 - val_acc: 0.9348\n",
      "Epoch 6/12\n",
      "0s - loss: 0.0319 - acc: 0.9952 - val_loss: 0.2145 - val_acc: 0.9348\n",
      "Epoch 7/12\n",
      "0s - loss: 0.0202 - acc: 0.9964 - val_loss: 0.2139 - val_acc: 0.9457\n",
      "Epoch 8/12\n",
      "0s - loss: 0.0137 - acc: 0.9976 - val_loss: 0.2186 - val_acc: 0.9348\n",
      "Epoch 9/12\n",
      "0s - loss: 0.0108 - acc: 0.9976 - val_loss: 0.2047 - val_acc: 0.9457\n",
      "Epoch 10/12\n",
      "0s - loss: 0.0081 - acc: 0.9964 - val_loss: 0.2304 - val_acc: 0.9457\n",
      "Epoch 11/12\n",
      "0s - loss: 0.0052 - acc: 0.9988 - val_loss: 0.2731 - val_acc: 0.9348\n",
      "Epoch 12/12\n",
      "0s - loss: 0.0050 - acc: 0.9988 - val_loss: 0.2839 - val_acc: 0.9457\n"
     ]
    }
   ],
   "source": [
    "model_fit = model1.fit(x_train, y_train,verbose=2,batch_size=batch_size,epochs=epochs,validation_split=0.1)"
   ]
  },
  {
   "cell_type": "markdown",
   "metadata": {},
   "source": [
    "# Predicting and getting the crosstab dataframe to check fails"
   ]
  },
  {
   "cell_type": "code",
   "execution_count": 10,
   "metadata": {},
   "outputs": [
    {
     "name": "stdout",
     "output_type": "stream",
     "text": [
      "\r",
      " 32/162 [====>.........................] - ETA: 0s"
     ]
    },
    {
     "data": {
      "text/html": [
       "<div>\n",
       "<table border=\"1\" class=\"dataframe\">\n",
       "  <thead>\n",
       "    <tr style=\"text-align: right;\">\n",
       "      <th>col_0</th>\n",
       "      <th>1</th>\n",
       "      <th>2</th>\n",
       "      <th>3</th>\n",
       "      <th>4</th>\n",
       "      <th>5</th>\n",
       "      <th>6</th>\n",
       "      <th>7</th>\n",
       "      <th>8</th>\n",
       "      <th>9</th>\n",
       "    </tr>\n",
       "    <tr>\n",
       "      <th>row_0</th>\n",
       "      <th></th>\n",
       "      <th></th>\n",
       "      <th></th>\n",
       "      <th></th>\n",
       "      <th></th>\n",
       "      <th></th>\n",
       "      <th></th>\n",
       "      <th></th>\n",
       "      <th></th>\n",
       "    </tr>\n",
       "  </thead>\n",
       "  <tbody>\n",
       "    <tr>\n",
       "      <th>1</th>\n",
       "      <td>18</td>\n",
       "      <td>0</td>\n",
       "      <td>0</td>\n",
       "      <td>0</td>\n",
       "      <td>0</td>\n",
       "      <td>0</td>\n",
       "      <td>0</td>\n",
       "      <td>0</td>\n",
       "      <td>0</td>\n",
       "    </tr>\n",
       "    <tr>\n",
       "      <th>2</th>\n",
       "      <td>0</td>\n",
       "      <td>18</td>\n",
       "      <td>0</td>\n",
       "      <td>0</td>\n",
       "      <td>0</td>\n",
       "      <td>0</td>\n",
       "      <td>0</td>\n",
       "      <td>0</td>\n",
       "      <td>0</td>\n",
       "    </tr>\n",
       "    <tr>\n",
       "      <th>3</th>\n",
       "      <td>0</td>\n",
       "      <td>0</td>\n",
       "      <td>17</td>\n",
       "      <td>0</td>\n",
       "      <td>0</td>\n",
       "      <td>0</td>\n",
       "      <td>1</td>\n",
       "      <td>0</td>\n",
       "      <td>0</td>\n",
       "    </tr>\n",
       "    <tr>\n",
       "      <th>4</th>\n",
       "      <td>0</td>\n",
       "      <td>0</td>\n",
       "      <td>1</td>\n",
       "      <td>18</td>\n",
       "      <td>0</td>\n",
       "      <td>0</td>\n",
       "      <td>0</td>\n",
       "      <td>0</td>\n",
       "      <td>1</td>\n",
       "    </tr>\n",
       "    <tr>\n",
       "      <th>5</th>\n",
       "      <td>0</td>\n",
       "      <td>0</td>\n",
       "      <td>0</td>\n",
       "      <td>0</td>\n",
       "      <td>18</td>\n",
       "      <td>0</td>\n",
       "      <td>0</td>\n",
       "      <td>0</td>\n",
       "      <td>0</td>\n",
       "    </tr>\n",
       "    <tr>\n",
       "      <th>6</th>\n",
       "      <td>0</td>\n",
       "      <td>0</td>\n",
       "      <td>0</td>\n",
       "      <td>0</td>\n",
       "      <td>0</td>\n",
       "      <td>18</td>\n",
       "      <td>0</td>\n",
       "      <td>0</td>\n",
       "      <td>2</td>\n",
       "    </tr>\n",
       "    <tr>\n",
       "      <th>7</th>\n",
       "      <td>0</td>\n",
       "      <td>0</td>\n",
       "      <td>0</td>\n",
       "      <td>0</td>\n",
       "      <td>0</td>\n",
       "      <td>0</td>\n",
       "      <td>17</td>\n",
       "      <td>0</td>\n",
       "      <td>0</td>\n",
       "    </tr>\n",
       "    <tr>\n",
       "      <th>8</th>\n",
       "      <td>0</td>\n",
       "      <td>0</td>\n",
       "      <td>0</td>\n",
       "      <td>0</td>\n",
       "      <td>0</td>\n",
       "      <td>0</td>\n",
       "      <td>0</td>\n",
       "      <td>18</td>\n",
       "      <td>0</td>\n",
       "    </tr>\n",
       "    <tr>\n",
       "      <th>9</th>\n",
       "      <td>0</td>\n",
       "      <td>0</td>\n",
       "      <td>0</td>\n",
       "      <td>0</td>\n",
       "      <td>0</td>\n",
       "      <td>0</td>\n",
       "      <td>0</td>\n",
       "      <td>0</td>\n",
       "      <td>15</td>\n",
       "    </tr>\n",
       "  </tbody>\n",
       "</table>\n",
       "</div>"
      ],
      "text/plain": [
       "col_0   1   2   3   4   5   6   7   8   9\n",
       "row_0                                    \n",
       "1      18   0   0   0   0   0   0   0   0\n",
       "2       0  18   0   0   0   0   0   0   0\n",
       "3       0   0  17   0   0   0   1   0   0\n",
       "4       0   0   1  18   0   0   0   0   1\n",
       "5       0   0   0   0  18   0   0   0   0\n",
       "6       0   0   0   0   0  18   0   0   2\n",
       "7       0   0   0   0   0   0  17   0   0\n",
       "8       0   0   0   0   0   0   0  18   0\n",
       "9       0   0   0   0   0   0   0   0  15"
      ]
     },
     "execution_count": 10,
     "metadata": {},
     "output_type": "execute_result"
    }
   ],
   "source": [
    "output_data = np.array(data[0])\n",
    "y_test = output_data[int(0.85*row):]\n",
    "predicted_classes = model1.predict_classes(x_test)\n",
    "predicted_classes = predicted_classes + 1\n",
    "pd.crosstab(predicted_classes,y_test)"
   ]
  },
  {
   "cell_type": "markdown",
   "metadata": {},
   "source": [
    "# Getting Test Accuracy"
   ]
  },
  {
   "cell_type": "code",
   "execution_count": 11,
   "metadata": {
    "collapsed": true
   },
   "outputs": [],
   "source": [
    "test_fail = [im for im in zip(predicted_classes,y_test) if im[0] != im[1]]\n",
    "accuracy = ((162- len(test_fail))*100/162)\n",
    "test_accuracy.append(accuracy)\n",
    "train_accuracy.append(model_fit.history['acc'][epochs-1])"
   ]
  },
  {
   "cell_type": "markdown",
   "metadata": {},
   "source": [
    "# Plot for each epoch train and validation accuracy"
   ]
  },
  {
   "cell_type": "code",
   "execution_count": 12,
   "metadata": {},
   "outputs": [
    {
     "data": {
      "image/png": "[encoded data removed]",
      "text/plain": [
       "<matplotlib.figure.Figure at 0x7f080bfc4ba8>"
      ]
     },
     "metadata": {},
     "output_type": "display_data"
    }
   ],
   "source": [
    "plt.plot(model_fit.epoch, model_fit.history['val_acc'])\n",
    "plt.plot(model_fit.epoch, model_fit.history['acc'])\n",
    "plt.legend(['Validation Accuracy','Train Accuracy'])\n",
    "plt.show()"
   ]
  },
  {
   "cell_type": "markdown",
   "metadata": {},
   "source": [
    "# Model with 2 Hidden Layers"
   ]
  },
  {
   "cell_type": "code",
   "execution_count": 13,
   "metadata": {
    "collapsed": true
   },
   "outputs": [],
   "source": [
    "output_data = np.array(data[0].apply(lambda class_of_doc : class_of_doc -1))\n",
    "input_data = np.array(data.drop(0, axis=1))\n",
    "output_data = to_categorical(output_data, num_classes)\n",
    "x_train = input_data[:int(0.85*row)]\n",
    "x_test = input_data[int(0.85*row):]\n",
    "y_train = output_data[:int(0.85*row)]\n",
    "y_test = output_data[int(0.85*row):]"
   ]
  },
  {
   "cell_type": "code",
   "execution_count": 14,
   "metadata": {
    "collapsed": true
   },
   "outputs": [],
   "source": [
    "model2 = Sequential()\n",
    "model2.add(Dense(400, activation='sigmoid',input_shape = (856,)))\n",
    "model2.add(Dense(300,activation='sigmoid'))\n",
    "model2.add(Dense(num_classes,activation='softmax'))"
   ]
  },
  {
   "cell_type": "code",
   "execution_count": 15,
   "metadata": {},
   "outputs": [
    {
     "name": "stdout",
     "output_type": "stream",
     "text": [
      "_________________________________________________________________\n",
      "Layer (type)                 Output Shape              Param #   \n",
      "=================================================================\n",
      "dense_3 (Dense)              (None, 400)               342800    \n",
      "_________________________________________________________________\n",
      "dense_4 (Dense)              (None, 300)               120300    \n",
      "_________________________________________________________________\n",
      "dense_5 (Dense)              (None, 9)                 2709      \n",
      "=================================================================\n",
      "Total params: 465,809\n",
      "Trainable params: 465,809\n",
      "Non-trainable params: 0\n",
      "_________________________________________________________________\n"
     ]
    }
   ],
   "source": [
    "model2.compile(optimizer='rmsprop',\n",
    "          loss='categorical_crossentropy',\n",
    "          metrics=['accuracy'])\n",
    "model2.summary()"
   ]
  },
  {
   "cell_type": "code",
   "execution_count": 16,
   "metadata": {},
   "outputs": [
    {
     "name": "stdout",
     "output_type": "stream",
     "text": [
      "Train on 826 samples, validate on 92 samples\n",
      "Epoch 1/12\n",
      "0s - loss: 2.2363 - acc: 0.1429 - val_loss: 2.1239 - val_acc: 0.1087\n",
      "Epoch 2/12\n",
      "0s - loss: 1.9109 - acc: 0.3208 - val_loss: 1.7306 - val_acc: 0.2609\n",
      "Epoch 3/12\n",
      "0s - loss: 1.3643 - acc: 0.6501 - val_loss: 1.2239 - val_acc: 0.5978\n",
      "Epoch 4/12\n",
      "0s - loss: 0.8897 - acc: 0.7821 - val_loss: 0.7501 - val_acc: 0.8478\n",
      "Epoch 5/12\n",
      "0s - loss: 0.5775 - acc: 0.8777 - val_loss: 0.5957 - val_acc: 0.7717\n",
      "Epoch 6/12\n",
      "0s - loss: 0.3858 - acc: 0.9189 - val_loss: 0.3970 - val_acc: 0.9130\n",
      "Epoch 7/12\n",
      "0s - loss: 0.2662 - acc: 0.9358 - val_loss: 0.3702 - val_acc: 0.8913\n",
      "Epoch 8/12\n",
      "0s - loss: 0.2064 - acc: 0.9407 - val_loss: 0.3483 - val_acc: 0.8913\n",
      "Epoch 9/12\n",
      "0s - loss: 0.1626 - acc: 0.9576 - val_loss: 0.2889 - val_acc: 0.9130\n",
      "Epoch 10/12\n",
      "0s - loss: 0.1240 - acc: 0.9697 - val_loss: 0.2245 - val_acc: 0.9457\n",
      "Epoch 11/12\n",
      "0s - loss: 0.1088 - acc: 0.9649 - val_loss: 0.2030 - val_acc: 0.9348\n",
      "Epoch 12/12\n",
      "0s - loss: 0.0840 - acc: 0.9770 - val_loss: 0.2240 - val_acc: 0.9130\n"
     ]
    }
   ],
   "source": [
    "model_fit = model2.fit(x_train,y_train,verbose=2,batch_size=batch_size,epochs=epochs,validation_split=0.1)"
   ]
  },
  {
   "cell_type": "code",
   "execution_count": 17,
   "metadata": {},
   "outputs": [
    {
     "name": "stdout",
     "output_type": "stream",
     "text": [
      "\r",
      " 32/162 [====>.........................] - ETA: 0s"
     ]
    },
    {
     "data": {
      "text/html": [
       "<div>\n",
       "<table border=\"1\" class=\"dataframe\">\n",
       "  <thead>\n",
       "    <tr style=\"text-align: right;\">\n",
       "      <th>col_0</th>\n",
       "      <th>1</th>\n",
       "      <th>2</th>\n",
       "      <th>3</th>\n",
       "      <th>4</th>\n",
       "      <th>5</th>\n",
       "      <th>6</th>\n",
       "      <th>7</th>\n",
       "      <th>8</th>\n",
       "      <th>9</th>\n",
       "    </tr>\n",
       "    <tr>\n",
       "      <th>row_0</th>\n",
       "      <th></th>\n",
       "      <th></th>\n",
       "      <th></th>\n",
       "      <th></th>\n",
       "      <th></th>\n",
       "      <th></th>\n",
       "      <th></th>\n",
       "      <th></th>\n",
       "      <th></th>\n",
       "    </tr>\n",
       "  </thead>\n",
       "  <tbody>\n",
       "    <tr>\n",
       "      <th>1</th>\n",
       "      <td>18</td>\n",
       "      <td>0</td>\n",
       "      <td>0</td>\n",
       "      <td>0</td>\n",
       "      <td>0</td>\n",
       "      <td>0</td>\n",
       "      <td>1</td>\n",
       "      <td>0</td>\n",
       "      <td>0</td>\n",
       "    </tr>\n",
       "    <tr>\n",
       "      <th>2</th>\n",
       "      <td>0</td>\n",
       "      <td>18</td>\n",
       "      <td>0</td>\n",
       "      <td>0</td>\n",
       "      <td>0</td>\n",
       "      <td>0</td>\n",
       "      <td>0</td>\n",
       "      <td>0</td>\n",
       "      <td>0</td>\n",
       "    </tr>\n",
       "    <tr>\n",
       "      <th>3</th>\n",
       "      <td>0</td>\n",
       "      <td>0</td>\n",
       "      <td>18</td>\n",
       "      <td>0</td>\n",
       "      <td>0</td>\n",
       "      <td>0</td>\n",
       "      <td>0</td>\n",
       "      <td>0</td>\n",
       "      <td>0</td>\n",
       "    </tr>\n",
       "    <tr>\n",
       "      <th>4</th>\n",
       "      <td>0</td>\n",
       "      <td>0</td>\n",
       "      <td>0</td>\n",
       "      <td>17</td>\n",
       "      <td>0</td>\n",
       "      <td>0</td>\n",
       "      <td>0</td>\n",
       "      <td>0</td>\n",
       "      <td>1</td>\n",
       "    </tr>\n",
       "    <tr>\n",
       "      <th>5</th>\n",
       "      <td>0</td>\n",
       "      <td>0</td>\n",
       "      <td>0</td>\n",
       "      <td>0</td>\n",
       "      <td>18</td>\n",
       "      <td>0</td>\n",
       "      <td>0</td>\n",
       "      <td>0</td>\n",
       "      <td>0</td>\n",
       "    </tr>\n",
       "    <tr>\n",
       "      <th>6</th>\n",
       "      <td>0</td>\n",
       "      <td>0</td>\n",
       "      <td>0</td>\n",
       "      <td>1</td>\n",
       "      <td>0</td>\n",
       "      <td>18</td>\n",
       "      <td>0</td>\n",
       "      <td>0</td>\n",
       "      <td>1</td>\n",
       "    </tr>\n",
       "    <tr>\n",
       "      <th>7</th>\n",
       "      <td>0</td>\n",
       "      <td>0</td>\n",
       "      <td>0</td>\n",
       "      <td>0</td>\n",
       "      <td>0</td>\n",
       "      <td>0</td>\n",
       "      <td>16</td>\n",
       "      <td>0</td>\n",
       "      <td>0</td>\n",
       "    </tr>\n",
       "    <tr>\n",
       "      <th>8</th>\n",
       "      <td>0</td>\n",
       "      <td>0</td>\n",
       "      <td>0</td>\n",
       "      <td>0</td>\n",
       "      <td>0</td>\n",
       "      <td>0</td>\n",
       "      <td>0</td>\n",
       "      <td>18</td>\n",
       "      <td>0</td>\n",
       "    </tr>\n",
       "    <tr>\n",
       "      <th>9</th>\n",
       "      <td>0</td>\n",
       "      <td>0</td>\n",
       "      <td>0</td>\n",
       "      <td>0</td>\n",
       "      <td>0</td>\n",
       "      <td>0</td>\n",
       "      <td>1</td>\n",
       "      <td>0</td>\n",
       "      <td>16</td>\n",
       "    </tr>\n",
       "  </tbody>\n",
       "</table>\n",
       "</div>"
      ],
      "text/plain": [
       "col_0   1   2   3   4   5   6   7   8   9\n",
       "row_0                                    \n",
       "1      18   0   0   0   0   0   1   0   0\n",
       "2       0  18   0   0   0   0   0   0   0\n",
       "3       0   0  18   0   0   0   0   0   0\n",
       "4       0   0   0  17   0   0   0   0   1\n",
       "5       0   0   0   0  18   0   0   0   0\n",
       "6       0   0   0   1   0  18   0   0   1\n",
       "7       0   0   0   0   0   0  16   0   0\n",
       "8       0   0   0   0   0   0   0  18   0\n",
       "9       0   0   0   0   0   0   1   0  16"
      ]
     },
     "execution_count": 17,
     "metadata": {},
     "output_type": "execute_result"
    }
   ],
   "source": [
    "output_data = np.array(data[0])\n",
    "y_test = output_data[int(0.85*row):]\n",
    "predicted_classes = model2.predict_classes(x_test)\n",
    "predicted_classes = predicted_classes + 1\n",
    "pd.crosstab(predicted_classes,y_test)"
   ]
  },
  {
   "cell_type": "code",
   "execution_count": 18,
   "metadata": {
    "collapsed": true
   },
   "outputs": [],
   "source": [
    "test_fail = [im for im in zip(predicted_classes,y_test) if im[0] != im[1]]\n",
    "accuracy = ((162- len(test_fail))*100/162)\n",
    "test_accuracy.append(accuracy)\n",
    "train_accuracy.append(model_fit.history['acc'][epochs-1])"
   ]
  },
  {
   "cell_type": "code",
   "execution_count": 19,
   "metadata": {},
   "outputs": [
    {
     "data": {
      "image/png": "[encoded data removed]",
      "text/plain": [
       "<matplotlib.figure.Figure at 0x7f0844071358>"
      ]
     },
     "metadata": {},
     "output_type": "display_data"
    }
   ],
   "source": [
    "plt.plot(model_fit.epoch, model_fit.history['val_acc'])\n",
    "plt.plot(model_fit.epoch, model_fit.history['acc'])\n",
    "plt.legend(['Validation Accuracy','Train Accuracy'])\n",
    "plt.show()"
   ]
  },
  {
   "cell_type": "markdown",
   "metadata": {},
   "source": [
    "# Model with 3 Hidden layers"
   ]
  },
  {
   "cell_type": "code",
   "execution_count": 20,
   "metadata": {
    "collapsed": true
   },
   "outputs": [],
   "source": [
    "output_data = np.array(data[0].apply(lambda class_of_doc : class_of_doc -1))\n",
    "input_data = np.array(data.drop(0, axis=1))\n",
    "output_data = to_categorical(output_data, num_classes)\n",
    "x_train = input_data[:int(0.85*row)]\n",
    "x_test = input_data[int(0.85*row):]\n",
    "y_train = output_data[:int(0.85*row)]\n",
    "y_test = output_data[int(0.85*row):]"
   ]
  },
  {
   "cell_type": "code",
   "execution_count": 21,
   "metadata": {
    "collapsed": true
   },
   "outputs": [],
   "source": [
    "model3 = Sequential()\n",
    "model3.add(Dense(400, activation='sigmoid',input_shape = (856,)))\n",
    "model3.add(Dense(300,activation='sigmoid'))\n",
    "model3.add(Dense(200,activation='sigmoid'))\n",
    "model3.add(Dense(num_classes,activation='softmax'))"
   ]
  },
  {
   "cell_type": "code",
   "execution_count": 22,
   "metadata": {},
   "outputs": [
    {
     "name": "stdout",
     "output_type": "stream",
     "text": [
      "_________________________________________________________________\n",
      "Layer (type)                 Output Shape              Param #   \n",
      "=================================================================\n",
      "dense_6 (Dense)              (None, 400)               342800    \n",
      "_________________________________________________________________\n",
      "dense_7 (Dense)              (None, 300)               120300    \n",
      "_________________________________________________________________\n",
      "dense_8 (Dense)              (None, 200)               60200     \n",
      "_________________________________________________________________\n",
      "dense_9 (Dense)              (None, 9)                 1809      \n",
      "=================================================================\n",
      "Total params: 525,109\n",
      "Trainable params: 525,109\n",
      "Non-trainable params: 0\n",
      "_________________________________________________________________\n"
     ]
    }
   ],
   "source": [
    "model3.compile(optimizer='rmsprop',\n",
    "          loss='categorical_crossentropy',\n",
    "          metrics=['accuracy'])\n",
    "model3.summary()"
   ]
  },
  {
   "cell_type": "code",
   "execution_count": 23,
   "metadata": {},
   "outputs": [
    {
     "name": "stdout",
     "output_type": "stream",
     "text": [
      "Train on 826 samples, validate on 92 samples\n",
      "Epoch 1/12\n",
      "0s - loss: 2.2678 - acc: 0.1114 - val_loss: 2.2193 - val_acc: 0.1739\n",
      "Epoch 2/12\n",
      "0s - loss: 2.1223 - acc: 0.2167 - val_loss: 1.9576 - val_acc: 0.3370\n",
      "Epoch 3/12\n",
      "0s - loss: 1.6804 - acc: 0.4395 - val_loss: 1.4525 - val_acc: 0.5435\n",
      "Epoch 4/12\n",
      "0s - loss: 1.0658 - acc: 0.6780 - val_loss: 0.8985 - val_acc: 0.7283\n",
      "Epoch 5/12\n",
      "0s - loss: 0.7022 - acc: 0.7942 - val_loss: 0.6689 - val_acc: 0.8043\n",
      "Epoch 6/12\n",
      "0s - loss: 0.4732 - acc: 0.8523 - val_loss: 0.5563 - val_acc: 0.8261\n",
      "Epoch 7/12\n",
      "0s - loss: 0.3435 - acc: 0.9104 - val_loss: 0.4000 - val_acc: 0.8587\n",
      "Epoch 8/12\n",
      "0s - loss: 0.2518 - acc: 0.9346 - val_loss: 0.3432 - val_acc: 0.9239\n",
      "Epoch 9/12\n",
      "0s - loss: 0.2005 - acc: 0.9395 - val_loss: 0.3245 - val_acc: 0.9239\n",
      "Epoch 10/12\n",
      "0s - loss: 0.1564 - acc: 0.9528 - val_loss: 0.4267 - val_acc: 0.8696\n",
      "Epoch 11/12\n",
      "0s - loss: 0.1271 - acc: 0.9673 - val_loss: 0.3366 - val_acc: 0.9239\n",
      "Epoch 12/12\n",
      "0s - loss: 0.1109 - acc: 0.9685 - val_loss: 0.3659 - val_acc: 0.9130\n"
     ]
    }
   ],
   "source": [
    "model_fit = model3.fit(x_train,y_train,verbose=2,batch_size=batch_size,epochs=epochs,validation_split=0.1)"
   ]
  },
  {
   "cell_type": "code",
   "execution_count": 24,
   "metadata": {},
   "outputs": [
    {
     "name": "stdout",
     "output_type": "stream",
     "text": [
      "\r",
      " 32/162 [====>.........................] - ETA: 0s"
     ]
    },
    {
     "data": {
      "text/html": [
       "<div>\n",
       "<table border=\"1\" class=\"dataframe\">\n",
       "  <thead>\n",
       "    <tr style=\"text-align: right;\">\n",
       "      <th>col_0</th>\n",
       "      <th>1</th>\n",
       "      <th>2</th>\n",
       "      <th>3</th>\n",
       "      <th>4</th>\n",
       "      <th>5</th>\n",
       "      <th>6</th>\n",
       "      <th>7</th>\n",
       "      <th>8</th>\n",
       "      <th>9</th>\n",
       "    </tr>\n",
       "    <tr>\n",
       "      <th>row_0</th>\n",
       "      <th></th>\n",
       "      <th></th>\n",
       "      <th></th>\n",
       "      <th></th>\n",
       "      <th></th>\n",
       "      <th></th>\n",
       "      <th></th>\n",
       "      <th></th>\n",
       "      <th></th>\n",
       "    </tr>\n",
       "  </thead>\n",
       "  <tbody>\n",
       "    <tr>\n",
       "      <th>1</th>\n",
       "      <td>17</td>\n",
       "      <td>0</td>\n",
       "      <td>0</td>\n",
       "      <td>0</td>\n",
       "      <td>0</td>\n",
       "      <td>0</td>\n",
       "      <td>0</td>\n",
       "      <td>0</td>\n",
       "      <td>0</td>\n",
       "    </tr>\n",
       "    <tr>\n",
       "      <th>2</th>\n",
       "      <td>0</td>\n",
       "      <td>18</td>\n",
       "      <td>0</td>\n",
       "      <td>0</td>\n",
       "      <td>0</td>\n",
       "      <td>0</td>\n",
       "      <td>0</td>\n",
       "      <td>0</td>\n",
       "      <td>0</td>\n",
       "    </tr>\n",
       "    <tr>\n",
       "      <th>3</th>\n",
       "      <td>1</td>\n",
       "      <td>0</td>\n",
       "      <td>17</td>\n",
       "      <td>0</td>\n",
       "      <td>0</td>\n",
       "      <td>0</td>\n",
       "      <td>1</td>\n",
       "      <td>0</td>\n",
       "      <td>0</td>\n",
       "    </tr>\n",
       "    <tr>\n",
       "      <th>4</th>\n",
       "      <td>0</td>\n",
       "      <td>0</td>\n",
       "      <td>1</td>\n",
       "      <td>18</td>\n",
       "      <td>0</td>\n",
       "      <td>0</td>\n",
       "      <td>0</td>\n",
       "      <td>0</td>\n",
       "      <td>2</td>\n",
       "    </tr>\n",
       "    <tr>\n",
       "      <th>5</th>\n",
       "      <td>0</td>\n",
       "      <td>0</td>\n",
       "      <td>0</td>\n",
       "      <td>0</td>\n",
       "      <td>18</td>\n",
       "      <td>0</td>\n",
       "      <td>0</td>\n",
       "      <td>0</td>\n",
       "      <td>0</td>\n",
       "    </tr>\n",
       "    <tr>\n",
       "      <th>6</th>\n",
       "      <td>0</td>\n",
       "      <td>0</td>\n",
       "      <td>0</td>\n",
       "      <td>0</td>\n",
       "      <td>0</td>\n",
       "      <td>15</td>\n",
       "      <td>0</td>\n",
       "      <td>0</td>\n",
       "      <td>0</td>\n",
       "    </tr>\n",
       "    <tr>\n",
       "      <th>7</th>\n",
       "      <td>0</td>\n",
       "      <td>0</td>\n",
       "      <td>0</td>\n",
       "      <td>0</td>\n",
       "      <td>0</td>\n",
       "      <td>0</td>\n",
       "      <td>17</td>\n",
       "      <td>0</td>\n",
       "      <td>0</td>\n",
       "    </tr>\n",
       "    <tr>\n",
       "      <th>8</th>\n",
       "      <td>0</td>\n",
       "      <td>0</td>\n",
       "      <td>0</td>\n",
       "      <td>0</td>\n",
       "      <td>0</td>\n",
       "      <td>0</td>\n",
       "      <td>0</td>\n",
       "      <td>18</td>\n",
       "      <td>0</td>\n",
       "    </tr>\n",
       "    <tr>\n",
       "      <th>9</th>\n",
       "      <td>0</td>\n",
       "      <td>0</td>\n",
       "      <td>0</td>\n",
       "      <td>0</td>\n",
       "      <td>0</td>\n",
       "      <td>3</td>\n",
       "      <td>0</td>\n",
       "      <td>0</td>\n",
       "      <td>16</td>\n",
       "    </tr>\n",
       "  </tbody>\n",
       "</table>\n",
       "</div>"
      ],
      "text/plain": [
       "col_0   1   2   3   4   5   6   7   8   9\n",
       "row_0                                    \n",
       "1      17   0   0   0   0   0   0   0   0\n",
       "2       0  18   0   0   0   0   0   0   0\n",
       "3       1   0  17   0   0   0   1   0   0\n",
       "4       0   0   1  18   0   0   0   0   2\n",
       "5       0   0   0   0  18   0   0   0   0\n",
       "6       0   0   0   0   0  15   0   0   0\n",
       "7       0   0   0   0   0   0  17   0   0\n",
       "8       0   0   0   0   0   0   0  18   0\n",
       "9       0   0   0   0   0   3   0   0  16"
      ]
     },
     "execution_count": 24,
     "metadata": {},
     "output_type": "execute_result"
    }
   ],
   "source": [
    "output_data = np.array(data[0])\n",
    "y_test = output_data[int(0.85*row):]\n",
    "predicted_classes = model3.predict_classes(x_test)\n",
    "predicted_classes = predicted_classes + 1\n",
    "pd.crosstab(predicted_classes,y_test)"
   ]
  },
  {
   "cell_type": "code",
   "execution_count": 25,
   "metadata": {
    "collapsed": true
   },
   "outputs": [],
   "source": [
    "test_fail = [im for im in zip(predicted_classes,y_test) if im[0] != im[1]]\n",
    "accuracy = ((162- len(test_fail))*100/162)\n",
    "test_accuracy.append(accuracy)\n",
    "train_accuracy.append(model_fit.history['acc'][epochs-1])"
   ]
  },
  {
   "cell_type": "code",
   "execution_count": 26,
   "metadata": {},
   "outputs": [
    {
     "data": {
      "image/png": "[encoded data removed]",
      "text/plain": [
       "<matplotlib.figure.Figure at 0x7f0804044860>"
      ]
     },
     "metadata": {},
     "output_type": "display_data"
    }
   ],
   "source": [
    "plt.plot(model_fit.epoch, model_fit.history['val_acc'])\n",
    "plt.plot(model_fit.epoch, model_fit.history['acc'])\n",
    "plt.legend(['Validation Accuracy','Train Accuracy'])\n",
    "plt.show()"
   ]
  },
  {
   "cell_type": "markdown",
   "metadata": {},
   "source": [
    "# Model with 4 Hidden Layers"
   ]
  },
  {
   "cell_type": "code",
   "execution_count": 27,
   "metadata": {
    "collapsed": true
   },
   "outputs": [],
   "source": [
    "output_data = np.array(data[0].apply(lambda class_of_doc : class_of_doc -1))\n",
    "input_data = np.array(data.drop(0, axis=1))\n",
    "output_data = to_categorical(output_data, num_classes)\n",
    "x_train = input_data[:int(0.85*row)]\n",
    "x_test = input_data[int(0.85*row):]\n",
    "y_train = output_data[:int(0.85*row)]\n",
    "y_test = output_data[int(0.85*row):]"
   ]
  },
  {
   "cell_type": "code",
   "execution_count": 28,
   "metadata": {
    "collapsed": true
   },
   "outputs": [],
   "source": [
    "model4 = Sequential()\n",
    "model4.add(Dense(400, activation='sigmoid',input_shape = (856,)))\n",
    "model4.add(Dense(300,activation='sigmoid'))\n",
    "model4.add(Dense(200,activation='sigmoid'))\n",
    "model4.add(Dense(100,activation='sigmoid'))\n",
    "model4.add(Dense(num_classes,activation='softmax'))"
   ]
  },
  {
   "cell_type": "code",
   "execution_count": 29,
   "metadata": {},
   "outputs": [
    {
     "name": "stdout",
     "output_type": "stream",
     "text": [
      "_________________________________________________________________\n",
      "Layer (type)                 Output Shape              Param #   \n",
      "=================================================================\n",
      "dense_10 (Dense)             (None, 400)               342800    \n",
      "_________________________________________________________________\n",
      "dense_11 (Dense)             (None, 300)               120300    \n",
      "_________________________________________________________________\n",
      "dense_12 (Dense)             (None, 200)               60200     \n",
      "_________________________________________________________________\n",
      "dense_13 (Dense)             (None, 100)               20100     \n",
      "_________________________________________________________________\n",
      "dense_14 (Dense)             (None, 9)                 909       \n",
      "=================================================================\n",
      "Total params: 544,309\n",
      "Trainable params: 544,309\n",
      "Non-trainable params: 0\n",
      "_________________________________________________________________\n"
     ]
    }
   ],
   "source": [
    "model4.compile(optimizer='rmsprop',\n",
    "          loss='categorical_crossentropy',\n",
    "          metrics=['accuracy'])\n",
    "model4.summary()"
   ]
  },
  {
   "cell_type": "code",
   "execution_count": 30,
   "metadata": {},
   "outputs": [
    {
     "name": "stdout",
     "output_type": "stream",
     "text": [
      "Train on 826 samples, validate on 92 samples\n",
      "Epoch 1/12\n",
      "0s - loss: 2.2463 - acc: 0.1090 - val_loss: 2.2265 - val_acc: 0.1087\n",
      "Epoch 2/12\n",
      "0s - loss: 2.1948 - acc: 0.1283 - val_loss: 2.1033 - val_acc: 0.1739\n",
      "Epoch 3/12\n",
      "0s - loss: 1.8763 - acc: 0.3196 - val_loss: 1.5678 - val_acc: 0.4783\n",
      "Epoch 4/12\n",
      "0s - loss: 1.3703 - acc: 0.5206 - val_loss: 1.2008 - val_acc: 0.6739\n",
      "Epoch 5/12\n",
      "0s - loss: 1.0117 - acc: 0.6840 - val_loss: 0.9360 - val_acc: 0.6957\n",
      "Epoch 6/12\n",
      "0s - loss: 0.7053 - acc: 0.7748 - val_loss: 0.6282 - val_acc: 0.8043\n",
      "Epoch 7/12\n",
      "0s - loss: 0.5039 - acc: 0.8523 - val_loss: 0.5329 - val_acc: 0.8043\n",
      "Epoch 8/12\n",
      "0s - loss: 0.3847 - acc: 0.8910 - val_loss: 0.6064 - val_acc: 0.8370\n",
      "Epoch 9/12\n",
      "0s - loss: 0.2879 - acc: 0.9213 - val_loss: 0.4283 - val_acc: 0.8261\n",
      "Epoch 10/12\n",
      "0s - loss: 0.2080 - acc: 0.9492 - val_loss: 0.3959 - val_acc: 0.8913\n",
      "Epoch 11/12\n",
      "0s - loss: 0.1661 - acc: 0.9528 - val_loss: 0.2663 - val_acc: 0.9348\n",
      "Epoch 12/12\n",
      "0s - loss: 0.1248 - acc: 0.9685 - val_loss: 0.3914 - val_acc: 0.8804\n"
     ]
    }
   ],
   "source": [
    "model_fit = model4.fit(x_train,y_train,verbose=2,batch_size=batch_size,epochs=epochs,validation_split=0.1)"
   ]
  },
  {
   "cell_type": "code",
   "execution_count": 31,
   "metadata": {},
   "outputs": [
    {
     "name": "stdout",
     "output_type": "stream",
     "text": [
      "\r",
      " 32/162 [====>.........................] - ETA: 0s"
     ]
    },
    {
     "data": {
      "text/html": [
       "<div>\n",
       "<table border=\"1\" class=\"dataframe\">\n",
       "  <thead>\n",
       "    <tr style=\"text-align: right;\">\n",
       "      <th>col_0</th>\n",
       "      <th>1</th>\n",
       "      <th>2</th>\n",
       "      <th>3</th>\n",
       "      <th>4</th>\n",
       "      <th>5</th>\n",
       "      <th>6</th>\n",
       "      <th>7</th>\n",
       "      <th>8</th>\n",
       "      <th>9</th>\n",
       "    </tr>\n",
       "    <tr>\n",
       "      <th>row_0</th>\n",
       "      <th></th>\n",
       "      <th></th>\n",
       "      <th></th>\n",
       "      <th></th>\n",
       "      <th></th>\n",
       "      <th></th>\n",
       "      <th></th>\n",
       "      <th></th>\n",
       "      <th></th>\n",
       "    </tr>\n",
       "  </thead>\n",
       "  <tbody>\n",
       "    <tr>\n",
       "      <th>1</th>\n",
       "      <td>17</td>\n",
       "      <td>0</td>\n",
       "      <td>0</td>\n",
       "      <td>0</td>\n",
       "      <td>0</td>\n",
       "      <td>0</td>\n",
       "      <td>0</td>\n",
       "      <td>0</td>\n",
       "      <td>0</td>\n",
       "    </tr>\n",
       "    <tr>\n",
       "      <th>2</th>\n",
       "      <td>1</td>\n",
       "      <td>18</td>\n",
       "      <td>0</td>\n",
       "      <td>0</td>\n",
       "      <td>0</td>\n",
       "      <td>0</td>\n",
       "      <td>0</td>\n",
       "      <td>0</td>\n",
       "      <td>0</td>\n",
       "    </tr>\n",
       "    <tr>\n",
       "      <th>3</th>\n",
       "      <td>0</td>\n",
       "      <td>0</td>\n",
       "      <td>12</td>\n",
       "      <td>0</td>\n",
       "      <td>0</td>\n",
       "      <td>0</td>\n",
       "      <td>0</td>\n",
       "      <td>0</td>\n",
       "      <td>0</td>\n",
       "    </tr>\n",
       "    <tr>\n",
       "      <th>4</th>\n",
       "      <td>0</td>\n",
       "      <td>0</td>\n",
       "      <td>6</td>\n",
       "      <td>18</td>\n",
       "      <td>0</td>\n",
       "      <td>1</td>\n",
       "      <td>1</td>\n",
       "      <td>0</td>\n",
       "      <td>1</td>\n",
       "    </tr>\n",
       "    <tr>\n",
       "      <th>5</th>\n",
       "      <td>0</td>\n",
       "      <td>0</td>\n",
       "      <td>0</td>\n",
       "      <td>0</td>\n",
       "      <td>18</td>\n",
       "      <td>0</td>\n",
       "      <td>0</td>\n",
       "      <td>0</td>\n",
       "      <td>0</td>\n",
       "    </tr>\n",
       "    <tr>\n",
       "      <th>6</th>\n",
       "      <td>0</td>\n",
       "      <td>0</td>\n",
       "      <td>0</td>\n",
       "      <td>0</td>\n",
       "      <td>0</td>\n",
       "      <td>7</td>\n",
       "      <td>0</td>\n",
       "      <td>0</td>\n",
       "      <td>0</td>\n",
       "    </tr>\n",
       "    <tr>\n",
       "      <th>7</th>\n",
       "      <td>0</td>\n",
       "      <td>0</td>\n",
       "      <td>0</td>\n",
       "      <td>0</td>\n",
       "      <td>0</td>\n",
       "      <td>10</td>\n",
       "      <td>17</td>\n",
       "      <td>0</td>\n",
       "      <td>4</td>\n",
       "    </tr>\n",
       "    <tr>\n",
       "      <th>8</th>\n",
       "      <td>0</td>\n",
       "      <td>0</td>\n",
       "      <td>0</td>\n",
       "      <td>0</td>\n",
       "      <td>0</td>\n",
       "      <td>0</td>\n",
       "      <td>0</td>\n",
       "      <td>18</td>\n",
       "      <td>5</td>\n",
       "    </tr>\n",
       "    <tr>\n",
       "      <th>9</th>\n",
       "      <td>0</td>\n",
       "      <td>0</td>\n",
       "      <td>0</td>\n",
       "      <td>0</td>\n",
       "      <td>0</td>\n",
       "      <td>0</td>\n",
       "      <td>0</td>\n",
       "      <td>0</td>\n",
       "      <td>8</td>\n",
       "    </tr>\n",
       "  </tbody>\n",
       "</table>\n",
       "</div>"
      ],
      "text/plain": [
       "col_0   1   2   3   4   5   6   7   8  9\n",
       "row_0                                   \n",
       "1      17   0   0   0   0   0   0   0  0\n",
       "2       1  18   0   0   0   0   0   0  0\n",
       "3       0   0  12   0   0   0   0   0  0\n",
       "4       0   0   6  18   0   1   1   0  1\n",
       "5       0   0   0   0  18   0   0   0  0\n",
       "6       0   0   0   0   0   7   0   0  0\n",
       "7       0   0   0   0   0  10  17   0  4\n",
       "8       0   0   0   0   0   0   0  18  5\n",
       "9       0   0   0   0   0   0   0   0  8"
      ]
     },
     "execution_count": 31,
     "metadata": {},
     "output_type": "execute_result"
    }
   ],
   "source": [
    "output_data = np.array(data[0])\n",
    "y_test = output_data[int(0.85*row):]\n",
    "predicted_classes = model4.predict_classes(x_test)\n",
    "predicted_classes = predicted_classes + 1\n",
    "pd.crosstab(predicted_classes,y_test)"
   ]
  },
  {
   "cell_type": "code",
   "execution_count": 32,
   "metadata": {
    "collapsed": true
   },
   "outputs": [],
   "source": [
    "test_fail = [im for im in zip(predicted_classes,y_test) if im[0] != im[1]]\n",
    "accuracy = ((162- len(test_fail))*100/162)\n",
    "test_accuracy.append(accuracy)\n",
    "train_accuracy.append(model_fit.history['acc'][epochs-1])"
   ]
  },
  {
   "cell_type": "code",
   "execution_count": 33,
   "metadata": {},
   "outputs": [
    {
     "data": {
      "image/png": "[encoded data removed]",
      "text/plain": [
       "<matplotlib.figure.Figure at 0x7f07e5316a20>"
      ]
     },
     "metadata": {},
     "output_type": "display_data"
    }
   ],
   "source": [
    "plt.plot(model_fit.epoch, model_fit.history['val_acc'])\n",
    "plt.plot(model_fit.epoch, model_fit.history['acc'])\n",
    "plt.legend(['Validation Accuracy','Train Accuracy'])\n",
    "plt.show()"
   ]
  },
  {
   "cell_type": "markdown",
   "metadata": {},
   "source": [
    "# Model with 5 hidden layers"
   ]
  },
  {
   "cell_type": "code",
   "execution_count": 34,
   "metadata": {
    "collapsed": true
   },
   "outputs": [],
   "source": [
    "output_data = np.array(data[0].apply(lambda class_of_doc : class_of_doc -1))\n",
    "input_data = np.array(data.drop(0, axis=1))\n",
    "output_data = to_categorical(output_data, num_classes)\n",
    "x_train = input_data[:int(0.85*row)]\n",
    "x_test = input_data[int(0.85*row):]\n",
    "y_train = output_data[:int(0.85*row)]\n",
    "y_test = output_data[int(0.85*row):]"
   ]
  },
  {
   "cell_type": "code",
   "execution_count": 35,
   "metadata": {
    "collapsed": true
   },
   "outputs": [],
   "source": [
    "model5 = Sequential()\n",
    "model5.add(Dense(500, activation='sigmoid',input_shape = (856,)))\n",
    "model5.add(Dense(400,activation='sigmoid'))\n",
    "model5.add(Dense(300,activation='sigmoid'))\n",
    "model5.add(Dense(200,activation='sigmoid'))\n",
    "model5.add(Dense(100,activation='sigmoid'))\n",
    "model5.add(Dense(num_classes,activation='softmax'))"
   ]
  },
  {
   "cell_type": "code",
   "execution_count": 36,
   "metadata": {},
   "outputs": [
    {
     "name": "stdout",
     "output_type": "stream",
     "text": [
      "_________________________________________________________________\n",
      "Layer (type)                 Output Shape              Param #   \n",
      "=================================================================\n",
      "dense_15 (Dense)             (None, 500)               428500    \n",
      "_________________________________________________________________\n",
      "dense_16 (Dense)             (None, 400)               200400    \n",
      "_________________________________________________________________\n",
      "dense_17 (Dense)             (None, 300)               120300    \n",
      "_________________________________________________________________\n",
      "dense_18 (Dense)             (None, 200)               60200     \n",
      "_________________________________________________________________\n",
      "dense_19 (Dense)             (None, 100)               20100     \n",
      "_________________________________________________________________\n",
      "dense_20 (Dense)             (None, 9)                 909       \n",
      "=================================================================\n",
      "Total params: 830,409\n",
      "Trainable params: 830,409\n",
      "Non-trainable params: 0\n",
      "_________________________________________________________________\n"
     ]
    }
   ],
   "source": [
    "model5.compile(optimizer='rmsprop',\n",
    "          loss='categorical_crossentropy',\n",
    "          metrics=['accuracy'])\n",
    "model5.summary()"
   ]
  },
  {
   "cell_type": "code",
   "execution_count": 37,
   "metadata": {},
   "outputs": [
    {
     "name": "stdout",
     "output_type": "stream",
     "text": [
      "Train on 826 samples, validate on 92 samples\n",
      "Epoch 1/12\n",
      "1s - loss: 2.2510 - acc: 0.0944 - val_loss: 2.2216 - val_acc: 0.1087\n",
      "Epoch 2/12\n",
      "0s - loss: 2.2256 - acc: 0.0993 - val_loss: 2.1859 - val_acc: 0.2065\n",
      "Epoch 3/12\n",
      "1s - loss: 1.9164 - acc: 0.2276 - val_loss: 1.6443 - val_acc: 0.3913\n",
      "Epoch 4/12\n",
      "1s - loss: 1.5481 - acc: 0.3717 - val_loss: 1.5156 - val_acc: 0.3913\n",
      "Epoch 5/12\n",
      "1s - loss: 1.2728 - acc: 0.4758 - val_loss: 1.2450 - val_acc: 0.4130\n",
      "Epoch 6/12\n",
      "1s - loss: 1.0499 - acc: 0.5484 - val_loss: 1.0040 - val_acc: 0.5543\n",
      "Epoch 7/12\n",
      "1s - loss: 0.8718 - acc: 0.6755 - val_loss: 0.9512 - val_acc: 0.6848\n",
      "Epoch 8/12\n",
      "1s - loss: 0.6238 - acc: 0.8087 - val_loss: 0.6484 - val_acc: 0.8261\n",
      "Epoch 9/12\n",
      "1s - loss: 0.4635 - acc: 0.8644 - val_loss: 0.6144 - val_acc: 0.8261\n",
      "Epoch 10/12\n",
      "1s - loss: 0.3342 - acc: 0.9007 - val_loss: 0.9213 - val_acc: 0.7174\n",
      "Epoch 11/12\n",
      "1s - loss: 0.2701 - acc: 0.9177 - val_loss: 0.3979 - val_acc: 0.9022\n",
      "Epoch 12/12\n",
      "0s - loss: 0.2145 - acc: 0.9443 - val_loss: 0.4267 - val_acc: 0.9022\n"
     ]
    }
   ],
   "source": [
    "model_fit = model5.fit(x_train,y_train,verbose=2,batch_size=batch_size,epochs=epochs,validation_split=0.1)"
   ]
  },
  {
   "cell_type": "code",
   "execution_count": 38,
   "metadata": {},
   "outputs": [
    {
     "name": "stdout",
     "output_type": "stream",
     "text": [
      "\r",
      " 32/162 [====>.........................] - ETA: 0s"
     ]
    },
    {
     "data": {
      "text/html": [
       "<div>\n",
       "<table border=\"1\" class=\"dataframe\">\n",
       "  <thead>\n",
       "    <tr style=\"text-align: right;\">\n",
       "      <th>col_0</th>\n",
       "      <th>1</th>\n",
       "      <th>2</th>\n",
       "      <th>3</th>\n",
       "      <th>4</th>\n",
       "      <th>5</th>\n",
       "      <th>6</th>\n",
       "      <th>7</th>\n",
       "      <th>8</th>\n",
       "      <th>9</th>\n",
       "    </tr>\n",
       "    <tr>\n",
       "      <th>row_0</th>\n",
       "      <th></th>\n",
       "      <th></th>\n",
       "      <th></th>\n",
       "      <th></th>\n",
       "      <th></th>\n",
       "      <th></th>\n",
       "      <th></th>\n",
       "      <th></th>\n",
       "      <th></th>\n",
       "    </tr>\n",
       "  </thead>\n",
       "  <tbody>\n",
       "    <tr>\n",
       "      <th>1</th>\n",
       "      <td>17</td>\n",
       "      <td>0</td>\n",
       "      <td>0</td>\n",
       "      <td>0</td>\n",
       "      <td>0</td>\n",
       "      <td>0</td>\n",
       "      <td>0</td>\n",
       "      <td>0</td>\n",
       "      <td>0</td>\n",
       "    </tr>\n",
       "    <tr>\n",
       "      <th>2</th>\n",
       "      <td>1</td>\n",
       "      <td>18</td>\n",
       "      <td>0</td>\n",
       "      <td>0</td>\n",
       "      <td>0</td>\n",
       "      <td>0</td>\n",
       "      <td>0</td>\n",
       "      <td>0</td>\n",
       "      <td>0</td>\n",
       "    </tr>\n",
       "    <tr>\n",
       "      <th>3</th>\n",
       "      <td>0</td>\n",
       "      <td>0</td>\n",
       "      <td>18</td>\n",
       "      <td>0</td>\n",
       "      <td>0</td>\n",
       "      <td>0</td>\n",
       "      <td>0</td>\n",
       "      <td>0</td>\n",
       "      <td>0</td>\n",
       "    </tr>\n",
       "    <tr>\n",
       "      <th>4</th>\n",
       "      <td>0</td>\n",
       "      <td>0</td>\n",
       "      <td>0</td>\n",
       "      <td>18</td>\n",
       "      <td>0</td>\n",
       "      <td>0</td>\n",
       "      <td>0</td>\n",
       "      <td>0</td>\n",
       "      <td>1</td>\n",
       "    </tr>\n",
       "    <tr>\n",
       "      <th>5</th>\n",
       "      <td>0</td>\n",
       "      <td>0</td>\n",
       "      <td>0</td>\n",
       "      <td>0</td>\n",
       "      <td>18</td>\n",
       "      <td>0</td>\n",
       "      <td>0</td>\n",
       "      <td>0</td>\n",
       "      <td>0</td>\n",
       "    </tr>\n",
       "    <tr>\n",
       "      <th>6</th>\n",
       "      <td>0</td>\n",
       "      <td>0</td>\n",
       "      <td>0</td>\n",
       "      <td>0</td>\n",
       "      <td>0</td>\n",
       "      <td>17</td>\n",
       "      <td>3</td>\n",
       "      <td>0</td>\n",
       "      <td>3</td>\n",
       "    </tr>\n",
       "    <tr>\n",
       "      <th>7</th>\n",
       "      <td>0</td>\n",
       "      <td>0</td>\n",
       "      <td>0</td>\n",
       "      <td>0</td>\n",
       "      <td>0</td>\n",
       "      <td>1</td>\n",
       "      <td>15</td>\n",
       "      <td>0</td>\n",
       "      <td>0</td>\n",
       "    </tr>\n",
       "    <tr>\n",
       "      <th>8</th>\n",
       "      <td>0</td>\n",
       "      <td>0</td>\n",
       "      <td>0</td>\n",
       "      <td>0</td>\n",
       "      <td>0</td>\n",
       "      <td>0</td>\n",
       "      <td>0</td>\n",
       "      <td>18</td>\n",
       "      <td>0</td>\n",
       "    </tr>\n",
       "    <tr>\n",
       "      <th>9</th>\n",
       "      <td>0</td>\n",
       "      <td>0</td>\n",
       "      <td>0</td>\n",
       "      <td>0</td>\n",
       "      <td>0</td>\n",
       "      <td>0</td>\n",
       "      <td>0</td>\n",
       "      <td>0</td>\n",
       "      <td>14</td>\n",
       "    </tr>\n",
       "  </tbody>\n",
       "</table>\n",
       "</div>"
      ],
      "text/plain": [
       "col_0   1   2   3   4   5   6   7   8   9\n",
       "row_0                                    \n",
       "1      17   0   0   0   0   0   0   0   0\n",
       "2       1  18   0   0   0   0   0   0   0\n",
       "3       0   0  18   0   0   0   0   0   0\n",
       "4       0   0   0  18   0   0   0   0   1\n",
       "5       0   0   0   0  18   0   0   0   0\n",
       "6       0   0   0   0   0  17   3   0   3\n",
       "7       0   0   0   0   0   1  15   0   0\n",
       "8       0   0   0   0   0   0   0  18   0\n",
       "9       0   0   0   0   0   0   0   0  14"
      ]
     },
     "execution_count": 38,
     "metadata": {},
     "output_type": "execute_result"
    }
   ],
   "source": [
    "output_data = np.array(data[0])\n",
    "y_test = output_data[int(0.85*row):]\n",
    "predicted_classes = model5.predict_classes(x_test)\n",
    "predicted_classes = predicted_classes + 1\n",
    "pd.crosstab(predicted_classes,y_test)"
   ]
  },
  {
   "cell_type": "code",
   "execution_count": 39,
   "metadata": {
    "collapsed": true
   },
   "outputs": [],
   "source": [
    "test_fail = [im for im in zip(predicted_classes,y_test) if im[0] != im[1]]\n",
    "accuracy = ((162- len(test_fail))*100/162)\n",
    "test_accuracy.append(accuracy)\n",
    "train_accuracy.append(model_fit.history['acc'][epochs-1])"
   ]
  },
  {
   "cell_type": "code",
   "execution_count": 40,
   "metadata": {},
   "outputs": [
    {
     "data": {
      "image/png": "[encoded data removed]",
      "text/plain": [
       "<matplotlib.figure.Figure at 0x7f07e4867a90>"
      ]
     },
     "metadata": {},
     "output_type": "display_data"
    }
   ],
   "source": [
    "plt.plot(model_fit.epoch, model_fit.history['val_acc'])\n",
    "plt.plot(model_fit.epoch, model_fit.history['acc'])\n",
    "plt.legend(['Validation Accuracy','Train Accuracy'])\n",
    "plt.show()"
   ]
  },
  {
   "cell_type": "markdown",
   "metadata": {},
   "source": [
    "# Model with 6 hidden layer"
   ]
  },
  {
   "cell_type": "code",
   "execution_count": 41,
   "metadata": {
    "collapsed": true
   },
   "outputs": [],
   "source": [
    "output_data = np.array(data[0].apply(lambda class_of_doc : class_of_doc -1))\n",
    "input_data = np.array(data.drop(0, axis=1))\n",
    "output_data = to_categorical(output_data, num_classes)\n",
    "x_train = input_data[:int(0.85*row)]\n",
    "x_test = input_data[int(0.85*row):]\n",
    "y_train = output_data[:int(0.85*row)]\n",
    "y_test = output_data[int(0.85*row):]"
   ]
  },
  {
   "cell_type": "code",
   "execution_count": 42,
   "metadata": {
    "collapsed": true
   },
   "outputs": [],
   "source": [
    "model6 = Sequential()\n",
    "model6.add(Dense(600, activation='sigmoid',input_shape = (856,)))\n",
    "model6.add(Dense(500,activation='sigmoid'))\n",
    "model6.add(Dense(400,activation='sigmoid'))\n",
    "model6.add(Dense(300,activation='sigmoid'))\n",
    "model6.add(Dense(200,activation='sigmoid'))\n",
    "model6.add(Dense(100,activation='sigmoid'))\n",
    "model6.add(Dense(num_classes,activation='softmax'))"
   ]
  },
  {
   "cell_type": "code",
   "execution_count": 43,
   "metadata": {},
   "outputs": [
    {
     "name": "stdout",
     "output_type": "stream",
     "text": [
      "_________________________________________________________________\n",
      "Layer (type)                 Output Shape              Param #   \n",
      "=================================================================\n",
      "dense_21 (Dense)             (None, 600)               514200    \n",
      "_________________________________________________________________\n",
      "dense_22 (Dense)             (None, 500)               300500    \n",
      "_________________________________________________________________\n",
      "dense_23 (Dense)             (None, 400)               200400    \n",
      "_________________________________________________________________\n",
      "dense_24 (Dense)             (None, 300)               120300    \n",
      "_________________________________________________________________\n",
      "dense_25 (Dense)             (None, 200)               60200     \n",
      "_________________________________________________________________\n",
      "dense_26 (Dense)             (None, 100)               20100     \n",
      "_________________________________________________________________\n",
      "dense_27 (Dense)             (None, 9)                 909       \n",
      "=================================================================\n",
      "Total params: 1,216,609\n",
      "Trainable params: 1,216,609\n",
      "Non-trainable params: 0\n",
      "_________________________________________________________________\n"
     ]
    }
   ],
   "source": [
    "model6.compile(optimizer='rmsprop',\n",
    "          loss='categorical_crossentropy',\n",
    "          metrics=['accuracy'])\n",
    "model6.summary()"
   ]
  },
  {
   "cell_type": "code",
   "execution_count": 44,
   "metadata": {},
   "outputs": [
    {
     "name": "stdout",
     "output_type": "stream",
     "text": [
      "Train on 826 samples, validate on 92 samples\n",
      "Epoch 1/12\n",
      "1s - loss: 2.2517 - acc: 0.1162 - val_loss: 2.2197 - val_acc: 0.1196\n",
      "Epoch 2/12\n",
      "1s - loss: 2.2298 - acc: 0.1271 - val_loss: 2.2268 - val_acc: 0.1087\n",
      "Epoch 3/12\n",
      "1s - loss: 2.1729 - acc: 0.1368 - val_loss: 1.9514 - val_acc: 0.2609\n",
      "Epoch 4/12\n",
      "1s - loss: 1.7706 - acc: 0.2518 - val_loss: 1.7452 - val_acc: 0.2500\n",
      "Epoch 5/12\n",
      "1s - loss: 1.5766 - acc: 0.3172 - val_loss: 1.5063 - val_acc: 0.4022\n",
      "Epoch 6/12\n",
      "1s - loss: 1.4219 - acc: 0.4056 - val_loss: 1.8288 - val_acc: 0.2717\n",
      "Epoch 7/12\n",
      "1s - loss: 1.2787 - acc: 0.4976 - val_loss: 1.6761 - val_acc: 0.3261\n",
      "Epoch 8/12\n",
      "1s - loss: 1.0807 - acc: 0.6247 - val_loss: 1.1788 - val_acc: 0.5978\n",
      "Epoch 9/12\n",
      "1s - loss: 0.8526 - acc: 0.7058 - val_loss: 0.8460 - val_acc: 0.7174\n",
      "Epoch 10/12\n",
      "1s - loss: 0.7339 - acc: 0.7482 - val_loss: 1.0169 - val_acc: 0.6522\n",
      "Epoch 11/12\n",
      "1s - loss: 0.6269 - acc: 0.7845 - val_loss: 0.8921 - val_acc: 0.6957\n",
      "Epoch 12/12\n",
      "1s - loss: 0.5027 - acc: 0.8317 - val_loss: 0.6476 - val_acc: 0.8152\n"
     ]
    }
   ],
   "source": [
    "model_fit = model6.fit(x_train,y_train,verbose=2,batch_size=batch_size,epochs=epochs,validation_split=0.1)"
   ]
  },
  {
   "cell_type": "code",
   "execution_count": 45,
   "metadata": {},
   "outputs": [
    {
     "name": "stdout",
     "output_type": "stream",
     "text": [
      "\r",
      " 32/162 [====>.........................] - ETA: 0s"
     ]
    },
    {
     "data": {
      "text/html": [
       "<div>\n",
       "<table border=\"1\" class=\"dataframe\">\n",
       "  <thead>\n",
       "    <tr style=\"text-align: right;\">\n",
       "      <th>col_0</th>\n",
       "      <th>1</th>\n",
       "      <th>2</th>\n",
       "      <th>3</th>\n",
       "      <th>4</th>\n",
       "      <th>5</th>\n",
       "      <th>6</th>\n",
       "      <th>7</th>\n",
       "      <th>8</th>\n",
       "      <th>9</th>\n",
       "    </tr>\n",
       "    <tr>\n",
       "      <th>row_0</th>\n",
       "      <th></th>\n",
       "      <th></th>\n",
       "      <th></th>\n",
       "      <th></th>\n",
       "      <th></th>\n",
       "      <th></th>\n",
       "      <th></th>\n",
       "      <th></th>\n",
       "      <th></th>\n",
       "    </tr>\n",
       "  </thead>\n",
       "  <tbody>\n",
       "    <tr>\n",
       "      <th>1</th>\n",
       "      <td>17</td>\n",
       "      <td>0</td>\n",
       "      <td>0</td>\n",
       "      <td>4</td>\n",
       "      <td>0</td>\n",
       "      <td>0</td>\n",
       "      <td>0</td>\n",
       "      <td>0</td>\n",
       "      <td>0</td>\n",
       "    </tr>\n",
       "    <tr>\n",
       "      <th>2</th>\n",
       "      <td>0</td>\n",
       "      <td>16</td>\n",
       "      <td>0</td>\n",
       "      <td>0</td>\n",
       "      <td>0</td>\n",
       "      <td>0</td>\n",
       "      <td>0</td>\n",
       "      <td>9</td>\n",
       "      <td>1</td>\n",
       "    </tr>\n",
       "    <tr>\n",
       "      <th>3</th>\n",
       "      <td>0</td>\n",
       "      <td>0</td>\n",
       "      <td>15</td>\n",
       "      <td>0</td>\n",
       "      <td>0</td>\n",
       "      <td>0</td>\n",
       "      <td>0</td>\n",
       "      <td>0</td>\n",
       "      <td>0</td>\n",
       "    </tr>\n",
       "    <tr>\n",
       "      <th>4</th>\n",
       "      <td>1</td>\n",
       "      <td>1</td>\n",
       "      <td>3</td>\n",
       "      <td>14</td>\n",
       "      <td>0</td>\n",
       "      <td>0</td>\n",
       "      <td>1</td>\n",
       "      <td>0</td>\n",
       "      <td>1</td>\n",
       "    </tr>\n",
       "    <tr>\n",
       "      <th>5</th>\n",
       "      <td>0</td>\n",
       "      <td>0</td>\n",
       "      <td>0</td>\n",
       "      <td>0</td>\n",
       "      <td>18</td>\n",
       "      <td>0</td>\n",
       "      <td>0</td>\n",
       "      <td>0</td>\n",
       "      <td>0</td>\n",
       "    </tr>\n",
       "    <tr>\n",
       "      <th>6</th>\n",
       "      <td>0</td>\n",
       "      <td>1</td>\n",
       "      <td>0</td>\n",
       "      <td>0</td>\n",
       "      <td>0</td>\n",
       "      <td>15</td>\n",
       "      <td>2</td>\n",
       "      <td>0</td>\n",
       "      <td>3</td>\n",
       "    </tr>\n",
       "    <tr>\n",
       "      <th>7</th>\n",
       "      <td>0</td>\n",
       "      <td>0</td>\n",
       "      <td>0</td>\n",
       "      <td>0</td>\n",
       "      <td>0</td>\n",
       "      <td>3</td>\n",
       "      <td>15</td>\n",
       "      <td>0</td>\n",
       "      <td>0</td>\n",
       "    </tr>\n",
       "    <tr>\n",
       "      <th>8</th>\n",
       "      <td>0</td>\n",
       "      <td>0</td>\n",
       "      <td>0</td>\n",
       "      <td>0</td>\n",
       "      <td>0</td>\n",
       "      <td>0</td>\n",
       "      <td>0</td>\n",
       "      <td>9</td>\n",
       "      <td>0</td>\n",
       "    </tr>\n",
       "    <tr>\n",
       "      <th>9</th>\n",
       "      <td>0</td>\n",
       "      <td>0</td>\n",
       "      <td>0</td>\n",
       "      <td>0</td>\n",
       "      <td>0</td>\n",
       "      <td>0</td>\n",
       "      <td>0</td>\n",
       "      <td>0</td>\n",
       "      <td>13</td>\n",
       "    </tr>\n",
       "  </tbody>\n",
       "</table>\n",
       "</div>"
      ],
      "text/plain": [
       "col_0   1   2   3   4   5   6   7  8   9\n",
       "row_0                                   \n",
       "1      17   0   0   4   0   0   0  0   0\n",
       "2       0  16   0   0   0   0   0  9   1\n",
       "3       0   0  15   0   0   0   0  0   0\n",
       "4       1   1   3  14   0   0   1  0   1\n",
       "5       0   0   0   0  18   0   0  0   0\n",
       "6       0   1   0   0   0  15   2  0   3\n",
       "7       0   0   0   0   0   3  15  0   0\n",
       "8       0   0   0   0   0   0   0  9   0\n",
       "9       0   0   0   0   0   0   0  0  13"
      ]
     },
     "execution_count": 45,
     "metadata": {},
     "output_type": "execute_result"
    }
   ],
   "source": [
    "output_data = np.array(data[0])\n",
    "y_test = output_data[int(0.85*row):]\n",
    "predicted_classes = model6.predict_classes(x_test)\n",
    "predicted_classes = predicted_classes + 1\n",
    "pd.crosstab(predicted_classes,y_test)"
   ]
  },
  {
   "cell_type": "code",
   "execution_count": 46,
   "metadata": {
    "collapsed": true
   },
   "outputs": [],
   "source": [
    "test_fail = [im for im in zip(predicted_classes,y_test) if im[0] != im[1]]\n",
    "accuracy = ((162- len(test_fail))*100/162)\n",
    "test_accuracy.append(accuracy)\n",
    "train_accuracy.append(model_fit.history['acc'][epochs-1])"
   ]
  },
  {
   "cell_type": "code",
   "execution_count": 47,
   "metadata": {},
   "outputs": [
    {
     "data": {
      "image/png": "[encoded data removed]",
      "text/plain": [
       "<matplotlib.figure.Figure at 0x7f07df4b1908>"
      ]
     },
     "metadata": {},
     "output_type": "display_data"
    }
   ],
   "source": [
    "plt.plot(model_fit.epoch, model_fit.history['val_acc'])\n",
    "plt.plot(model_fit.epoch, model_fit.history['acc'])\n",
    "plt.legend(['Validation Accuracy','Train Accuracy'])\n",
    "plt.show()"
   ]
  },
  {
   "cell_type": "markdown",
   "metadata": {},
   "source": [
    "# Model with 7 Hidden layer"
   ]
  },
  {
   "cell_type": "code",
   "execution_count": 48,
   "metadata": {
    "collapsed": true
   },
   "outputs": [],
   "source": [
    "output_data = np.array(data[0].apply(lambda class_of_doc : class_of_doc -1))\n",
    "input_data = np.array(data.drop(0, axis=1))\n",
    "output_data = to_categorical(output_data, num_classes)\n",
    "x_train = input_data[:int(0.85*row)]\n",
    "x_test = input_data[int(0.85*row):]\n",
    "y_train = output_data[:int(0.85*row)]\n",
    "y_test = output_data[int(0.85*row):]"
   ]
  },
  {
   "cell_type": "code",
   "execution_count": 49,
   "metadata": {
    "collapsed": true
   },
   "outputs": [],
   "source": [
    "model7 = Sequential()\n",
    "model7.add(Dense(700, activation='sigmoid',input_shape = (856,)))\n",
    "model7.add(Dense(600,activation='sigmoid'))\n",
    "model7.add(Dense(500,activation='sigmoid'))\n",
    "model7.add(Dense(400,activation='sigmoid'))\n",
    "model7.add(Dense(300,activation='sigmoid'))\n",
    "model7.add(Dense(200,activation='sigmoid'))\n",
    "model7.add(Dense(100,activation='sigmoid'))\n",
    "model7.add(Dense(num_classes,activation='softmax'))"
   ]
  },
  {
   "cell_type": "code",
   "execution_count": 50,
   "metadata": {},
   "outputs": [
    {
     "name": "stdout",
     "output_type": "stream",
     "text": [
      "_________________________________________________________________\n",
      "Layer (type)                 Output Shape              Param #   \n",
      "=================================================================\n",
      "dense_28 (Dense)             (None, 700)               599900    \n",
      "_________________________________________________________________\n",
      "dense_29 (Dense)             (None, 600)               420600    \n",
      "_________________________________________________________________\n",
      "dense_30 (Dense)             (None, 500)               300500    \n",
      "_________________________________________________________________\n",
      "dense_31 (Dense)             (None, 400)               200400    \n",
      "_________________________________________________________________\n",
      "dense_32 (Dense)             (None, 300)               120300    \n",
      "_________________________________________________________________\n",
      "dense_33 (Dense)             (None, 200)               60200     \n",
      "_________________________________________________________________\n",
      "dense_34 (Dense)             (None, 100)               20100     \n",
      "_________________________________________________________________\n",
      "dense_35 (Dense)             (None, 9)                 909       \n",
      "=================================================================\n",
      "Total params: 1,722,909\n",
      "Trainable params: 1,722,909\n",
      "Non-trainable params: 0\n",
      "_________________________________________________________________\n"
     ]
    }
   ],
   "source": [
    "model7.compile(optimizer='rmsprop',\n",
    "          loss='categorical_crossentropy',\n",
    "          metrics=['accuracy'])\n",
    "model7.summary()"
   ]
  },
  {
   "cell_type": "code",
   "execution_count": 51,
   "metadata": {},
   "outputs": [
    {
     "name": "stdout",
     "output_type": "stream",
     "text": [
      "Train on 826 samples, validate on 92 samples\n",
      "Epoch 1/12\n",
      "2s - loss: 2.2523 - acc: 0.1041 - val_loss: 2.2168 - val_acc: 0.1087\n",
      "Epoch 2/12\n",
      "2s - loss: 2.2368 - acc: 0.1005 - val_loss: 2.2218 - val_acc: 0.1196\n",
      "Epoch 3/12\n",
      "2s - loss: 2.2281 - acc: 0.1271 - val_loss: 2.2123 - val_acc: 0.1087\n",
      "Epoch 4/12\n",
      "2s - loss: 2.1933 - acc: 0.1392 - val_loss: 2.2859 - val_acc: 0.1087\n",
      "Epoch 5/12\n",
      "2s - loss: 1.8662 - acc: 0.2264 - val_loss: 1.7568 - val_acc: 0.2826\n",
      "Epoch 6/12\n",
      "2s - loss: 1.6886 - acc: 0.2627 - val_loss: 2.0342 - val_acc: 0.1196\n",
      "Epoch 7/12\n",
      "2s - loss: 1.5834 - acc: 0.3136 - val_loss: 1.4892 - val_acc: 0.3913\n",
      "Epoch 8/12\n",
      "2s - loss: 1.4523 - acc: 0.3571 - val_loss: 1.4491 - val_acc: 0.3370\n",
      "Epoch 9/12\n",
      "2s - loss: 1.3349 - acc: 0.3995 - val_loss: 1.3181 - val_acc: 0.4457\n",
      "Epoch 10/12\n",
      "2s - loss: 1.2535 - acc: 0.4370 - val_loss: 1.7969 - val_acc: 0.2500\n",
      "Epoch 11/12\n",
      "2s - loss: 1.1956 - acc: 0.4673 - val_loss: 1.2582 - val_acc: 0.5000\n",
      "Epoch 12/12\n",
      "2s - loss: 1.1290 - acc: 0.4770 - val_loss: 1.5148 - val_acc: 0.3587\n"
     ]
    }
   ],
   "source": [
    "model_fit = model7.fit(x_train,y_train,verbose=2,batch_size=batch_size,epochs=epochs,validation_split=0.1)"
   ]
  },
  {
   "cell_type": "code",
   "execution_count": 52,
   "metadata": {},
   "outputs": [
    {
     "name": "stdout",
     "output_type": "stream",
     "text": [
      "\r",
      " 32/162 [====>.........................] - ETA: 0s"
     ]
    },
    {
     "data": {
      "text/html": [
       "<div>\n",
       "<table border=\"1\" class=\"dataframe\">\n",
       "  <thead>\n",
       "    <tr style=\"text-align: right;\">\n",
       "      <th>col_0</th>\n",
       "      <th>1</th>\n",
       "      <th>2</th>\n",
       "      <th>3</th>\n",
       "      <th>4</th>\n",
       "      <th>5</th>\n",
       "      <th>6</th>\n",
       "      <th>7</th>\n",
       "      <th>8</th>\n",
       "      <th>9</th>\n",
       "    </tr>\n",
       "    <tr>\n",
       "      <th>row_0</th>\n",
       "      <th></th>\n",
       "      <th></th>\n",
       "      <th></th>\n",
       "      <th></th>\n",
       "      <th></th>\n",
       "      <th></th>\n",
       "      <th></th>\n",
       "      <th></th>\n",
       "      <th></th>\n",
       "    </tr>\n",
       "  </thead>\n",
       "  <tbody>\n",
       "    <tr>\n",
       "      <th>1</th>\n",
       "      <td>17</td>\n",
       "      <td>0</td>\n",
       "      <td>0</td>\n",
       "      <td>0</td>\n",
       "      <td>0</td>\n",
       "      <td>0</td>\n",
       "      <td>15</td>\n",
       "      <td>7</td>\n",
       "      <td>0</td>\n",
       "    </tr>\n",
       "    <tr>\n",
       "      <th>2</th>\n",
       "      <td>1</td>\n",
       "      <td>13</td>\n",
       "      <td>0</td>\n",
       "      <td>2</td>\n",
       "      <td>0</td>\n",
       "      <td>15</td>\n",
       "      <td>2</td>\n",
       "      <td>4</td>\n",
       "      <td>4</td>\n",
       "    </tr>\n",
       "    <tr>\n",
       "      <th>3</th>\n",
       "      <td>0</td>\n",
       "      <td>0</td>\n",
       "      <td>7</td>\n",
       "      <td>2</td>\n",
       "      <td>5</td>\n",
       "      <td>0</td>\n",
       "      <td>0</td>\n",
       "      <td>0</td>\n",
       "      <td>0</td>\n",
       "    </tr>\n",
       "    <tr>\n",
       "      <th>4</th>\n",
       "      <td>0</td>\n",
       "      <td>0</td>\n",
       "      <td>5</td>\n",
       "      <td>4</td>\n",
       "      <td>0</td>\n",
       "      <td>0</td>\n",
       "      <td>0</td>\n",
       "      <td>0</td>\n",
       "      <td>0</td>\n",
       "    </tr>\n",
       "    <tr>\n",
       "      <th>5</th>\n",
       "      <td>0</td>\n",
       "      <td>0</td>\n",
       "      <td>0</td>\n",
       "      <td>0</td>\n",
       "      <td>13</td>\n",
       "      <td>0</td>\n",
       "      <td>0</td>\n",
       "      <td>0</td>\n",
       "      <td>0</td>\n",
       "    </tr>\n",
       "    <tr>\n",
       "      <th>6</th>\n",
       "      <td>0</td>\n",
       "      <td>3</td>\n",
       "      <td>0</td>\n",
       "      <td>3</td>\n",
       "      <td>0</td>\n",
       "      <td>3</td>\n",
       "      <td>1</td>\n",
       "      <td>1</td>\n",
       "      <td>14</td>\n",
       "    </tr>\n",
       "    <tr>\n",
       "      <th>8</th>\n",
       "      <td>0</td>\n",
       "      <td>2</td>\n",
       "      <td>0</td>\n",
       "      <td>0</td>\n",
       "      <td>0</td>\n",
       "      <td>0</td>\n",
       "      <td>0</td>\n",
       "      <td>6</td>\n",
       "      <td>0</td>\n",
       "    </tr>\n",
       "    <tr>\n",
       "      <th>9</th>\n",
       "      <td>0</td>\n",
       "      <td>0</td>\n",
       "      <td>6</td>\n",
       "      <td>7</td>\n",
       "      <td>0</td>\n",
       "      <td>0</td>\n",
       "      <td>0</td>\n",
       "      <td>0</td>\n",
       "      <td>0</td>\n",
       "    </tr>\n",
       "  </tbody>\n",
       "</table>\n",
       "</div>"
      ],
      "text/plain": [
       "col_0   1   2  3  4   5   6   7  8   9\n",
       "row_0                                 \n",
       "1      17   0  0  0   0   0  15  7   0\n",
       "2       1  13  0  2   0  15   2  4   4\n",
       "3       0   0  7  2   5   0   0  0   0\n",
       "4       0   0  5  4   0   0   0  0   0\n",
       "5       0   0  0  0  13   0   0  0   0\n",
       "6       0   3  0  3   0   3   1  1  14\n",
       "8       0   2  0  0   0   0   0  6   0\n",
       "9       0   0  6  7   0   0   0  0   0"
      ]
     },
     "execution_count": 52,
     "metadata": {},
     "output_type": "execute_result"
    }
   ],
   "source": [
    "output_data = np.array(data[0])\n",
    "y_test = output_data[int(0.85*row):]\n",
    "predicted_classes = model7.predict_classes(x_test)\n",
    "predicted_classes = predicted_classes + 1\n",
    "pd.crosstab(predicted_classes,y_test)"
   ]
  },
  {
   "cell_type": "code",
   "execution_count": 53,
   "metadata": {
    "collapsed": true
   },
   "outputs": [],
   "source": [
    "test_fail = [im for im in zip(predicted_classes,y_test) if im[0] != im[1]]\n",
    "accuracy = ((162- len(test_fail))*100/162)\n",
    "test_accuracy.append(accuracy)\n",
    "train_accuracy.append(model_fit.history['acc'][epochs-1])"
   ]
  },
  {
   "cell_type": "code",
   "execution_count": 54,
   "metadata": {},
   "outputs": [
    {
     "data": {
      "image/png": "[encoded data removed]",
      "text/plain": [
       "<matplotlib.figure.Figure at 0x7f07dd33ae80>"
      ]
     },
     "metadata": {},
     "output_type": "display_data"
    }
   ],
   "source": [
    "plt.plot(model_fit.epoch, model_fit.history['val_acc'])\n",
    "plt.plot(model_fit.epoch, model_fit.history['acc'])\n",
    "plt.legend(['Validation Accuracy','Train Accuracy'])\n",
    "plt.show()"
   ]
  },
  {
   "cell_type": "markdown",
   "metadata": {},
   "source": [
    "# Model with 8 Hidden layers"
   ]
  },
  {
   "cell_type": "code",
   "execution_count": 55,
   "metadata": {
    "collapsed": true
   },
   "outputs": [],
   "source": [
    "output_data = np.array(data[0].apply(lambda class_of_doc : class_of_doc -1))\n",
    "input_data = np.array(data.drop(0, axis=1))\n",
    "output_data = to_categorical(output_data, num_classes)\n",
    "x_train = input_data[:int(0.85*row)]\n",
    "x_test = input_data[int(0.85*row):]\n",
    "y_train = output_data[:int(0.85*row)]\n",
    "y_test = output_data[int(0.85*row):]"
   ]
  },
  {
   "cell_type": "code",
   "execution_count": 56,
   "metadata": {
    "collapsed": true
   },
   "outputs": [],
   "source": [
    "model8 = Sequential()\n",
    "model8.add(Dense(800, activation='sigmoid',input_shape = (856,)))\n",
    "model8.add(Dense(700,activation='sigmoid'))\n",
    "model8.add(Dense(600,activation='sigmoid'))\n",
    "model8.add(Dense(500,activation='sigmoid'))\n",
    "model8.add(Dense(400,activation='sigmoid'))\n",
    "model8.add(Dense(300,activation='sigmoid'))\n",
    "model8.add(Dense(200,activation='sigmoid'))\n",
    "model8.add(Dense(100,activation='sigmoid'))\n",
    "model8.add(Dense(num_classes,activation='softmax'))"
   ]
  },
  {
   "cell_type": "code",
   "execution_count": 57,
   "metadata": {},
   "outputs": [
    {
     "name": "stdout",
     "output_type": "stream",
     "text": [
      "_________________________________________________________________\n",
      "Layer (type)                 Output Shape              Param #   \n",
      "=================================================================\n",
      "dense_36 (Dense)             (None, 800)               685600    \n",
      "_________________________________________________________________\n",
      "dense_37 (Dense)             (None, 700)               560700    \n",
      "_________________________________________________________________\n",
      "dense_38 (Dense)             (None, 600)               420600    \n",
      "_________________________________________________________________\n",
      "dense_39 (Dense)             (None, 500)               300500    \n",
      "_________________________________________________________________\n",
      "dense_40 (Dense)             (None, 400)               200400    \n",
      "_________________________________________________________________\n",
      "dense_41 (Dense)             (None, 300)               120300    \n",
      "_________________________________________________________________\n",
      "dense_42 (Dense)             (None, 200)               60200     \n",
      "_________________________________________________________________\n",
      "dense_43 (Dense)             (None, 100)               20100     \n",
      "_________________________________________________________________\n",
      "dense_44 (Dense)             (None, 9)                 909       \n",
      "=================================================================\n",
      "Total params: 2,369,309\n",
      "Trainable params: 2,369,309\n",
      "Non-trainable params: 0\n",
      "_________________________________________________________________\n"
     ]
    }
   ],
   "source": [
    "model8.compile(optimizer='rmsprop',\n",
    "          loss='categorical_crossentropy',\n",
    "          metrics=['accuracy'])\n",
    "model8.summary()"
   ]
  },
  {
   "cell_type": "code",
   "execution_count": 58,
   "metadata": {},
   "outputs": [
    {
     "name": "stdout",
     "output_type": "stream",
     "text": [
      "Train on 826 samples, validate on 92 samples\n",
      "Epoch 1/12\n",
      "3s - loss: 2.2525 - acc: 0.1041 - val_loss: 2.2294 - val_acc: 0.1196\n",
      "Epoch 2/12\n",
      "3s - loss: 2.2318 - acc: 0.1077 - val_loss: 2.2159 - val_acc: 0.1087\n",
      "Epoch 3/12\n",
      "3s - loss: 2.2311 - acc: 0.0932 - val_loss: 2.2032 - val_acc: 0.1196\n",
      "Epoch 4/12\n",
      "2s - loss: 2.2255 - acc: 0.1174 - val_loss: 2.2068 - val_acc: 0.1087\n",
      "Epoch 5/12\n",
      "2s - loss: 2.2252 - acc: 0.1041 - val_loss: 2.2098 - val_acc: 0.1087\n",
      "Epoch 6/12\n",
      "2s - loss: 2.2195 - acc: 0.1017 - val_loss: 2.2250 - val_acc: 0.1087\n",
      "Epoch 7/12\n",
      "2s - loss: 2.2213 - acc: 0.0956 - val_loss: 2.2040 - val_acc: 0.1087\n",
      "Epoch 8/12\n",
      "2s - loss: 2.2147 - acc: 0.1102 - val_loss: 2.2262 - val_acc: 0.1087\n",
      "Epoch 9/12\n",
      "2s - loss: 2.2196 - acc: 0.1138 - val_loss: 2.2030 - val_acc: 0.1087\n",
      "Epoch 10/12\n",
      "2s - loss: 2.2157 - acc: 0.0920 - val_loss: 2.2167 - val_acc: 0.1087\n",
      "Epoch 11/12\n",
      "2s - loss: 2.2181 - acc: 0.0993 - val_loss: 2.2093 - val_acc: 0.1087\n",
      "Epoch 12/12\n",
      "3s - loss: 2.2203 - acc: 0.1029 - val_loss: 2.2040 - val_acc: 0.1087\n"
     ]
    }
   ],
   "source": [
    "model_fit = model8.fit(x_train,y_train,verbose=2,batch_size=batch_size,epochs=epochs,validation_split=0.1)"
   ]
  },
  {
   "cell_type": "code",
   "execution_count": 59,
   "metadata": {},
   "outputs": [
    {
     "name": "stdout",
     "output_type": "stream",
     "text": [
      "162/162 [==============================] - 0s     \n"
     ]
    },
    {
     "data": {
      "text/html": [
       "<div>\n",
       "<table border=\"1\" class=\"dataframe\">\n",
       "  <thead>\n",
       "    <tr style=\"text-align: right;\">\n",
       "      <th>col_0</th>\n",
       "      <th>1</th>\n",
       "      <th>2</th>\n",
       "      <th>3</th>\n",
       "      <th>4</th>\n",
       "      <th>5</th>\n",
       "      <th>6</th>\n",
       "      <th>7</th>\n",
       "      <th>8</th>\n",
       "      <th>9</th>\n",
       "    </tr>\n",
       "    <tr>\n",
       "      <th>row_0</th>\n",
       "      <th></th>\n",
       "      <th></th>\n",
       "      <th></th>\n",
       "      <th></th>\n",
       "      <th></th>\n",
       "      <th></th>\n",
       "      <th></th>\n",
       "      <th></th>\n",
       "      <th></th>\n",
       "    </tr>\n",
       "  </thead>\n",
       "  <tbody>\n",
       "    <tr>\n",
       "      <th>5</th>\n",
       "      <td>18</td>\n",
       "      <td>18</td>\n",
       "      <td>18</td>\n",
       "      <td>18</td>\n",
       "      <td>18</td>\n",
       "      <td>18</td>\n",
       "      <td>18</td>\n",
       "      <td>18</td>\n",
       "      <td>18</td>\n",
       "    </tr>\n",
       "  </tbody>\n",
       "</table>\n",
       "</div>"
      ],
      "text/plain": [
       "col_0   1   2   3   4   5   6   7   8   9\n",
       "row_0                                    \n",
       "5      18  18  18  18  18  18  18  18  18"
      ]
     },
     "execution_count": 59,
     "metadata": {},
     "output_type": "execute_result"
    }
   ],
   "source": [
    "output_data = np.array(data[0])\n",
    "y_test = output_data[int(0.85*row):]\n",
    "predicted_classes = model8.predict_classes(x_test)\n",
    "predicted_classes = predicted_classes + 1\n",
    "pd.crosstab(predicted_classes,y_test)"
   ]
  },
  {
   "cell_type": "code",
   "execution_count": 60,
   "metadata": {
    "collapsed": true
   },
   "outputs": [],
   "source": [
    "test_fail = [im for im in zip(predicted_classes,y_test) if im[0] != im[1]]\n",
    "accuracy = ((162- len(test_fail))*100/162)\n",
    "test_accuracy.append(accuracy)\n",
    "train_accuracy.append(model_fit.history['acc'][epochs-1])"
   ]
  },
  {
   "cell_type": "code",
   "execution_count": 61,
   "metadata": {},
   "outputs": [
    {
     "data": {
      "image/png": "[encoded data removed]",
      "text/plain": [
       "<matplotlib.figure.Figure at 0x7f07dd28a940>"
      ]
     },
     "metadata": {},
     "output_type": "display_data"
    }
   ],
   "source": [
    "plt.plot(model_fit.epoch, model_fit.history['val_acc'])\n",
    "plt.plot(model_fit.epoch, model_fit.history['acc'])\n",
    "plt.legend(['Validation Accuracy','Train Accuracy'])\n",
    "plt.show()"
   ]
  },
  {
   "cell_type": "markdown",
   "metadata": {},
   "source": [
    "# Model with 9 Hidden layers"
   ]
  },
  {
   "cell_type": "code",
   "execution_count": 62,
   "metadata": {
    "collapsed": true
   },
   "outputs": [],
   "source": [
    "output_data = np.array(data[0].apply(lambda class_of_doc : class_of_doc -1))\n",
    "input_data = np.array(data.drop(0, axis=1))\n",
    "output_data = to_categorical(output_data, num_classes)\n",
    "x_train = input_data[:int(0.85*row)]\n",
    "x_test = input_data[int(0.85*row):]\n",
    "y_train = output_data[:int(0.85*row)]\n",
    "y_test = output_data[int(0.85*row):]"
   ]
  },
  {
   "cell_type": "code",
   "execution_count": 63,
   "metadata": {
    "collapsed": true
   },
   "outputs": [],
   "source": [
    "model9 = Sequential()\n",
    "model9.add(Dense(900, activation='sigmoid',input_shape = (856,)))\n",
    "model9.add(Dense(800,activation='sigmoid'))\n",
    "model9.add(Dense(700,activation='sigmoid'))\n",
    "model9.add(Dense(600,activation='sigmoid'))\n",
    "model9.add(Dense(500,activation='sigmoid'))\n",
    "model9.add(Dense(400,activation='sigmoid'))\n",
    "model9.add(Dense(300,activation='sigmoid'))\n",
    "model9.add(Dense(200,activation='sigmoid'))\n",
    "model9.add(Dense(100,activation='sigmoid'))\n",
    "model9.add(Dense(num_classes,activation='softmax'))"
   ]
  },
  {
   "cell_type": "code",
   "execution_count": 64,
   "metadata": {},
   "outputs": [
    {
     "name": "stdout",
     "output_type": "stream",
     "text": [
      "_________________________________________________________________\n",
      "Layer (type)                 Output Shape              Param #   \n",
      "=================================================================\n",
      "dense_45 (Dense)             (None, 900)               771300    \n",
      "_________________________________________________________________\n",
      "dense_46 (Dense)             (None, 800)               720800    \n",
      "_________________________________________________________________\n",
      "dense_47 (Dense)             (None, 700)               560700    \n",
      "_________________________________________________________________\n",
      "dense_48 (Dense)             (None, 600)               420600    \n",
      "_________________________________________________________________\n",
      "dense_49 (Dense)             (None, 500)               300500    \n",
      "_________________________________________________________________\n",
      "dense_50 (Dense)             (None, 400)               200400    \n",
      "_________________________________________________________________\n",
      "dense_51 (Dense)             (None, 300)               120300    \n",
      "_________________________________________________________________\n",
      "dense_52 (Dense)             (None, 200)               60200     \n",
      "_________________________________________________________________\n",
      "dense_53 (Dense)             (None, 100)               20100     \n",
      "_________________________________________________________________\n",
      "dense_54 (Dense)             (None, 9)                 909       \n",
      "=================================================================\n",
      "Total params: 3,175,809\n",
      "Trainable params: 3,175,809\n",
      "Non-trainable params: 0\n",
      "_________________________________________________________________\n"
     ]
    }
   ],
   "source": [
    "model9.compile(optimizer='rmsprop',\n",
    "          loss='categorical_crossentropy',\n",
    "          metrics=['accuracy'])\n",
    "model9.summary()"
   ]
  },
  {
   "cell_type": "code",
   "execution_count": 65,
   "metadata": {},
   "outputs": [
    {
     "name": "stdout",
     "output_type": "stream",
     "text": [
      "Train on 826 samples, validate on 92 samples\n",
      "Epoch 1/12\n",
      "4s - loss: 2.2491 - acc: 0.1029 - val_loss: 2.2193 - val_acc: 0.1087\n",
      "Epoch 2/12\n",
      "4s - loss: 2.2354 - acc: 0.1065 - val_loss: 2.2377 - val_acc: 0.1087\n",
      "Epoch 3/12\n",
      "3s - loss: 2.2255 - acc: 0.1150 - val_loss: 2.2455 - val_acc: 0.1087\n",
      "Epoch 4/12\n",
      "3s - loss: 2.2289 - acc: 0.0981 - val_loss: 2.2119 - val_acc: 0.1087\n",
      "Epoch 5/12\n",
      "3s - loss: 2.2213 - acc: 0.1077 - val_loss: 2.2241 - val_acc: 0.1087\n",
      "Epoch 6/12\n",
      "4s - loss: 2.2185 - acc: 0.1065 - val_loss: 2.2296 - val_acc: 0.1087\n",
      "Epoch 7/12\n",
      "4s - loss: 2.2130 - acc: 0.1114 - val_loss: 2.2101 - val_acc: 0.1087\n",
      "Epoch 8/12\n",
      "4s - loss: 2.2183 - acc: 0.0920 - val_loss: 2.1993 - val_acc: 0.1087\n",
      "Epoch 9/12\n",
      "4s - loss: 2.2144 - acc: 0.0993 - val_loss: 2.2045 - val_acc: 0.1196\n",
      "Epoch 10/12\n",
      "3s - loss: 2.2150 - acc: 0.1017 - val_loss: 2.2084 - val_acc: 0.1087\n",
      "Epoch 11/12\n",
      "3s - loss: 2.2172 - acc: 0.1053 - val_loss: 2.2019 - val_acc: 0.1196\n",
      "Epoch 12/12\n",
      "4s - loss: 2.2152 - acc: 0.0993 - val_loss: 2.2051 - val_acc: 0.1196\n"
     ]
    }
   ],
   "source": [
    "model_fit = model9.fit(x_train,y_train,verbose=2,batch_size=batch_size,epochs=epochs,validation_split=0.1)"
   ]
  },
  {
   "cell_type": "code",
   "execution_count": 66,
   "metadata": {},
   "outputs": [
    {
     "name": "stdout",
     "output_type": "stream",
     "text": [
      "160/162 [============================>.] - ETA: 0s"
     ]
    },
    {
     "data": {
      "text/html": [
       "<div>\n",
       "<table border=\"1\" class=\"dataframe\">\n",
       "  <thead>\n",
       "    <tr style=\"text-align: right;\">\n",
       "      <th>col_0</th>\n",
       "      <th>1</th>\n",
       "      <th>2</th>\n",
       "      <th>3</th>\n",
       "      <th>4</th>\n",
       "      <th>5</th>\n",
       "      <th>6</th>\n",
       "      <th>7</th>\n",
       "      <th>8</th>\n",
       "      <th>9</th>\n",
       "    </tr>\n",
       "    <tr>\n",
       "      <th>row_0</th>\n",
       "      <th></th>\n",
       "      <th></th>\n",
       "      <th></th>\n",
       "      <th></th>\n",
       "      <th></th>\n",
       "      <th></th>\n",
       "      <th></th>\n",
       "      <th></th>\n",
       "      <th></th>\n",
       "    </tr>\n",
       "  </thead>\n",
       "  <tbody>\n",
       "    <tr>\n",
       "      <th>8</th>\n",
       "      <td>18</td>\n",
       "      <td>18</td>\n",
       "      <td>18</td>\n",
       "      <td>18</td>\n",
       "      <td>18</td>\n",
       "      <td>18</td>\n",
       "      <td>18</td>\n",
       "      <td>18</td>\n",
       "      <td>18</td>\n",
       "    </tr>\n",
       "  </tbody>\n",
       "</table>\n",
       "</div>"
      ],
      "text/plain": [
       "col_0   1   2   3   4   5   6   7   8   9\n",
       "row_0                                    \n",
       "8      18  18  18  18  18  18  18  18  18"
      ]
     },
     "execution_count": 66,
     "metadata": {},
     "output_type": "execute_result"
    }
   ],
   "source": [
    "output_data = np.array(data[0])\n",
    "y_test = output_data[int(0.85*row):]\n",
    "predicted_classes = model9.predict_classes(x_test)\n",
    "predicted_classes = predicted_classes + 1\n",
    "pd.crosstab(predicted_classes,y_test)"
   ]
  },
  {
   "cell_type": "code",
   "execution_count": 67,
   "metadata": {
    "collapsed": true
   },
   "outputs": [],
   "source": [
    "test_fail = [im for im in zip(predicted_classes,y_test) if im[0] != im[1]]\n",
    "accuracy = ((162- len(test_fail))*100/162)\n",
    "test_accuracy.append(accuracy)\n",
    "train_accuracy.append(model_fit.history['acc'][epochs-1])"
   ]
  },
  {
   "cell_type": "code",
   "execution_count": 68,
   "metadata": {},
   "outputs": [
    {
     "data": {
      "image/png": "[encoded data removed]",
      "text/plain": [
       "<matplotlib.figure.Figure at 0x7f07d4abde80>"
      ]
     },
     "metadata": {},
     "output_type": "display_data"
    }
   ],
   "source": [
    "plt.plot(model_fit.epoch, model_fit.history['val_acc'])\n",
    "plt.plot(model_fit.epoch, model_fit.history['acc'])\n",
    "plt.legend(['Validation Accuracy','Train Accuracy'])\n",
    "plt.show()"
   ]
  },
  {
   "cell_type": "markdown",
   "metadata": {},
   "source": [
    "# Model with 10 Hidden layer"
   ]
  },
  {
   "cell_type": "code",
   "execution_count": 69,
   "metadata": {
    "collapsed": true
   },
   "outputs": [],
   "source": [
    "output_data = np.array(data[0].apply(lambda class_of_doc : class_of_doc -1))\n",
    "input_data = np.array(data.drop(0, axis=1))\n",
    "output_data = to_categorical(output_data, num_classes)\n",
    "x_train = input_data[:int(0.85*row)]\n",
    "x_test = input_data[int(0.85*row):]\n",
    "y_train = output_data[:int(0.85*row)]\n",
    "y_test = output_data[int(0.85*row):]"
   ]
  },
  {
   "cell_type": "code",
   "execution_count": 70,
   "metadata": {
    "collapsed": true
   },
   "outputs": [],
   "source": [
    "model10 = Sequential()\n",
    "model10.add(Dense(1000, activation='sigmoid',input_shape = (856,)))\n",
    "model10.add(Dense(900,activation='sigmoid'))\n",
    "model10.add(Dense(800,activation='sigmoid'))\n",
    "model10.add(Dense(700,activation='sigmoid'))\n",
    "model10.add(Dense(600,activation='sigmoid'))\n",
    "model10.add(Dense(500,activation='sigmoid'))\n",
    "model10.add(Dense(400,activation='sigmoid'))\n",
    "model10.add(Dense(300,activation='sigmoid'))\n",
    "model10.add(Dense(200,activation='sigmoid'))\n",
    "model10.add(Dense(100,activation='sigmoid'))\n",
    "model10.add(Dense(num_classes,activation='softmax'))"
   ]
  },
  {
   "cell_type": "code",
   "execution_count": 71,
   "metadata": {},
   "outputs": [
    {
     "name": "stdout",
     "output_type": "stream",
     "text": [
      "_________________________________________________________________\n",
      "Layer (type)                 Output Shape              Param #   \n",
      "=================================================================\n",
      "dense_55 (Dense)             (None, 1000)              857000    \n",
      "_________________________________________________________________\n",
      "dense_56 (Dense)             (None, 900)               900900    \n",
      "_________________________________________________________________\n",
      "dense_57 (Dense)             (None, 800)               720800    \n",
      "_________________________________________________________________\n",
      "dense_58 (Dense)             (None, 700)               560700    \n",
      "_________________________________________________________________\n",
      "dense_59 (Dense)             (None, 600)               420600    \n",
      "_________________________________________________________________\n",
      "dense_60 (Dense)             (None, 500)               300500    \n",
      "_________________________________________________________________\n",
      "dense_61 (Dense)             (None, 400)               200400    \n",
      "_________________________________________________________________\n",
      "dense_62 (Dense)             (None, 300)               120300    \n",
      "_________________________________________________________________\n",
      "dense_63 (Dense)             (None, 200)               60200     \n",
      "_________________________________________________________________\n",
      "dense_64 (Dense)             (None, 100)               20100     \n",
      "_________________________________________________________________\n",
      "dense_65 (Dense)             (None, 9)                 909       \n",
      "=================================================================\n",
      "Total params: 4,162,409\n",
      "Trainable params: 4,162,409\n",
      "Non-trainable params: 0\n",
      "_________________________________________________________________\n"
     ]
    }
   ],
   "source": [
    "model10.compile(optimizer='rmsprop',\n",
    "          loss='categorical_crossentropy',\n",
    "          metrics=['accuracy'])\n",
    "model10.summary()"
   ]
  },
  {
   "cell_type": "code",
   "execution_count": 72,
   "metadata": {},
   "outputs": [
    {
     "name": "stdout",
     "output_type": "stream",
     "text": [
      "Train on 826 samples, validate on 92 samples\n",
      "Epoch 1/12\n",
      "5s - loss: 2.2495 - acc: 0.1017 - val_loss: 2.2458 - val_acc: 0.1087\n",
      "Epoch 2/12\n",
      "5s - loss: 2.2290 - acc: 0.1077 - val_loss: 2.2079 - val_acc: 0.1087\n",
      "Epoch 3/12\n",
      "5s - loss: 2.2301 - acc: 0.1017 - val_loss: 2.2175 - val_acc: 0.1196\n",
      "Epoch 4/12\n",
      "5s - loss: 2.2149 - acc: 0.1162 - val_loss: 2.2149 - val_acc: 0.1196\n",
      "Epoch 5/12\n",
      "5s - loss: 2.2181 - acc: 0.1186 - val_loss: 2.2105 - val_acc: 0.1087\n",
      "Epoch 6/12\n",
      "5s - loss: 2.2175 - acc: 0.1005 - val_loss: 2.2090 - val_acc: 0.1087\n",
      "Epoch 7/12\n",
      "5s - loss: 2.2186 - acc: 0.0896 - val_loss: 2.2061 - val_acc: 0.1087\n",
      "Epoch 8/12\n",
      "5s - loss: 2.2168 - acc: 0.0932 - val_loss: 2.2046 - val_acc: 0.1196\n",
      "Epoch 9/12\n",
      "5s - loss: 2.2123 - acc: 0.1174 - val_loss: 2.2046 - val_acc: 0.1087\n",
      "Epoch 10/12\n",
      "5s - loss: 2.2159 - acc: 0.0956 - val_loss: 2.2061 - val_acc: 0.1087\n",
      "Epoch 11/12\n",
      "4s - loss: 2.2144 - acc: 0.0896 - val_loss: 2.2131 - val_acc: 0.1087\n",
      "Epoch 12/12\n",
      "5s - loss: 2.2169 - acc: 0.1029 - val_loss: 2.2019 - val_acc: 0.1087\n"
     ]
    }
   ],
   "source": [
    "model_fit = model10.fit(x_train,y_train,verbose=2,batch_size=batch_size,epochs=epochs,validation_split=0.1)"
   ]
  },
  {
   "cell_type": "code",
   "execution_count": 73,
   "metadata": {},
   "outputs": [
    {
     "name": "stdout",
     "output_type": "stream",
     "text": [
      "128/162 [======================>.......] - ETA: 0s"
     ]
    },
    {
     "data": {
      "text/html": [
       "<div>\n",
       "<table border=\"1\" class=\"dataframe\">\n",
       "  <thead>\n",
       "    <tr style=\"text-align: right;\">\n",
       "      <th>col_0</th>\n",
       "      <th>1</th>\n",
       "      <th>2</th>\n",
       "      <th>3</th>\n",
       "      <th>4</th>\n",
       "      <th>5</th>\n",
       "      <th>6</th>\n",
       "      <th>7</th>\n",
       "      <th>8</th>\n",
       "      <th>9</th>\n",
       "    </tr>\n",
       "    <tr>\n",
       "      <th>row_0</th>\n",
       "      <th></th>\n",
       "      <th></th>\n",
       "      <th></th>\n",
       "      <th></th>\n",
       "      <th></th>\n",
       "      <th></th>\n",
       "      <th></th>\n",
       "      <th></th>\n",
       "      <th></th>\n",
       "    </tr>\n",
       "  </thead>\n",
       "  <tbody>\n",
       "    <tr>\n",
       "      <th>5</th>\n",
       "      <td>18</td>\n",
       "      <td>18</td>\n",
       "      <td>18</td>\n",
       "      <td>18</td>\n",
       "      <td>18</td>\n",
       "      <td>18</td>\n",
       "      <td>18</td>\n",
       "      <td>18</td>\n",
       "      <td>18</td>\n",
       "    </tr>\n",
       "  </tbody>\n",
       "</table>\n",
       "</div>"
      ],
      "text/plain": [
       "col_0   1   2   3   4   5   6   7   8   9\n",
       "row_0                                    \n",
       "5      18  18  18  18  18  18  18  18  18"
      ]
     },
     "execution_count": 73,
     "metadata": {},
     "output_type": "execute_result"
    }
   ],
   "source": [
    "output_data = np.array(data[0])\n",
    "y_test = output_data[int(0.85*row):]\n",
    "predicted_classes = model10.predict_classes(x_test)\n",
    "predicted_classes = predicted_classes + 1\n",
    "pd.crosstab(predicted_classes,y_test)"
   ]
  },
  {
   "cell_type": "code",
   "execution_count": 74,
   "metadata": {
    "collapsed": true
   },
   "outputs": [],
   "source": [
    "test_fail = [im for im in zip(predicted_classes,y_test) if im[0] != im[1]]\n",
    "accuracy = ((162- len(test_fail))*100/162)\n",
    "test_accuracy.append(accuracy)\n",
    "train_accuracy.append(model_fit.history['acc'][epochs-1])"
   ]
  },
  {
   "cell_type": "code",
   "execution_count": 75,
   "metadata": {},
   "outputs": [
    {
     "data": {
      "image/png": "[encoded data removed]",
      "text/plain": [
       "<matplotlib.figure.Figure at 0x7f07df456c50>"
      ]
     },
     "metadata": {},
     "output_type": "display_data"
    }
   ],
   "source": [
    "plt.plot(model_fit.epoch, model_fit.history['val_acc'])\n",
    "plt.plot(model_fit.epoch, model_fit.history['acc'])\n",
    "plt.legend(['Validation Accuracy','Train Accuracy'])\n",
    "plt.show()"
   ]
  },
  {
   "cell_type": "code",
   "execution_count": 76,
   "metadata": {},
   "outputs": [
    {
     "data": {
      "text/plain": [
       "[96.91358024691358,\n",
       " 96.91358024691358,\n",
       " 95.06172839506173,\n",
       " 82.09876543209876,\n",
       " 94.44444444444444,\n",
       " 81.48148148148148,\n",
       " 38.888888888888886,\n",
       " 11.11111111111111,\n",
       " 11.11111111111111,\n",
       " 11.11111111111111]"
      ]
     },
     "execution_count": 76,
     "metadata": {},
     "output_type": "execute_result"
    }
   ],
   "source": [
    "test_accuracy"
   ]
  },
  {
   "cell_type": "code",
   "execution_count": 77,
   "metadata": {},
   "outputs": [
    {
     "data": {
      "text/plain": [
       "[99.878934653561572,\n",
       " 97.699758244484443,\n",
       " 96.852300848279683,\n",
       " 96.852300588501578,\n",
       " 94.430992764941706,\n",
       " 83.171913294757545,\n",
       " 47.699757768224572,\n",
       " 10.29055716230852,\n",
       " 9.9273610165563682,\n",
       " 10.290557119012167]"
      ]
     },
     "execution_count": 77,
     "metadata": {},
     "output_type": "execute_result"
    }
   ],
   "source": [
    "train_accuracy = [t*100 for t in train_accuracy]\n",
    "train_accuracy"
   ]
  },
  {
   "cell_type": "code",
   "execution_count": 78,
   "metadata": {
    "collapsed": true
   },
   "outputs": [],
   "source": [
    "model_plot = pd.concat([pd.DataFrame([1,2,3,4,5,6,7,8,9,10]), pd.DataFrame(train_accuracy),pd.DataFrame(test_accuracy)],axis=1)"
   ]
  },
  {
   "cell_type": "code",
   "execution_count": 79,
   "metadata": {
    "collapsed": true
   },
   "outputs": [],
   "source": [
    "model_plot.columns = ['Model','Training Accuracy','Test Accuracy']"
   ]
  },
  {
   "cell_type": "code",
   "execution_count": 80,
   "metadata": {
    "collapsed": true
   },
   "outputs": [],
   "source": [
    "model_plot = model_plot.set_index(['Model'])"
   ]
  },
  {
   "cell_type": "code",
   "execution_count": 81,
   "metadata": {},
   "outputs": [
    {
     "data": {
      "image/png": "[encoded data removed]",
      "text/plain": [
       "<matplotlib.figure.Figure at 0x7f07d099f240>"
      ]
     },
     "metadata": {},
     "output_type": "display_data"
    }
   ],
   "source": [
    "model_plot.plot(kind='bar')\n",
    "plt.show()"
   ]
  },
  {
   "cell_type": "markdown",
   "metadata": {},
   "source": [
    "# Applying EarlyStopping and Drop Out on Model 2(best model)"
   ]
  },
  {
   "cell_type": "code",
   "execution_count": 82,
   "metadata": {
    "collapsed": true
   },
   "outputs": [],
   "source": [
    "output_data = np.array(data[0].apply(lambda class_of_doc : class_of_doc -1))\n",
    "input_data = np.array(data.drop(0, axis=1))\n",
    "output_data = to_categorical(output_data, num_classes)\n",
    "x_train = input_data[:int(0.85*row)]\n",
    "x_test = input_data[int(0.85*row):]\n",
    "y_train = output_data[:int(0.85*row)]\n",
    "y_test = output_data[int(0.85*row):]"
   ]
  },
  {
   "cell_type": "code",
   "execution_count": 83,
   "metadata": {
    "collapsed": true
   },
   "outputs": [],
   "source": [
    "model = Sequential()\n",
    "model.add(Dropout(0.2,input_shape = (856,)))\n",
    "model.add(Dense(400, activation='sigmoid'))\n",
    "model.add(Dropout(0.2))\n",
    "model.add(Dense(200,activation='sigmoid'))\n",
    "model.add(Dropout(0.2))\n",
    "model.add(Dense(num_classes,activation='softmax'))\n",
    "earlystop = [keras.callbacks.EarlyStopping(monitor='val_acc',min_delta = 0.01,mode = 'max', patience=10)]\n",
    "model.compile(optimizer='rmsprop',\n",
    "          loss='categorical_crossentropy',\n",
    "          metrics=['accuracy'])"
   ]
  },
  {
   "cell_type": "code",
   "execution_count": 84,
   "metadata": {},
   "outputs": [
    {
     "name": "stdout",
     "output_type": "stream",
     "text": [
      "Train on 734 samples, validate on 184 samples\n",
      "Epoch 1/100\n",
      "0s - loss: 2.2627 - acc: 0.1335 - val_loss: 2.3232 - val_acc: 0.1141\n",
      "Epoch 2/100\n",
      "0s - loss: 2.1102 - acc: 0.2207 - val_loss: 2.0265 - val_acc: 0.2880\n",
      "Epoch 3/100\n",
      "0s - loss: 1.9134 - acc: 0.3488 - val_loss: 1.8309 - val_acc: 0.3315\n",
      "Epoch 4/100\n",
      "0s - loss: 1.5671 - acc: 0.5082 - val_loss: 1.4779 - val_acc: 0.5217\n",
      "Epoch 5/100\n",
      "0s - loss: 1.2523 - acc: 0.6431 - val_loss: 1.1822 - val_acc: 0.6522\n",
      "Epoch 6/100\n",
      "0s - loss: 0.9887 - acc: 0.7357 - val_loss: 1.0246 - val_acc: 0.5978\n",
      "Epoch 7/100\n",
      "0s - loss: 0.7929 - acc: 0.7847 - val_loss: 0.7904 - val_acc: 0.7283\n",
      "Epoch 8/100\n",
      "0s - loss: 0.6932 - acc: 0.7970 - val_loss: 0.5648 - val_acc: 0.8804\n",
      "Epoch 9/100\n",
      "0s - loss: 0.5980 - acc: 0.8311 - val_loss: 0.5039 - val_acc: 0.8261\n",
      "Epoch 10/100\n",
      "0s - loss: 0.4837 - acc: 0.8542 - val_loss: 0.6615 - val_acc: 0.7446\n",
      "Epoch 11/100\n",
      "0s - loss: 0.4107 - acc: 0.8815 - val_loss: 0.3995 - val_acc: 0.9130\n",
      "Epoch 12/100\n",
      "0s - loss: 0.3585 - acc: 0.8842 - val_loss: 0.3506 - val_acc: 0.8804\n",
      "Epoch 13/100\n",
      "0s - loss: 0.3079 - acc: 0.9101 - val_loss: 0.3303 - val_acc: 0.9076\n",
      "Epoch 14/100\n",
      "0s - loss: 0.3419 - acc: 0.8883 - val_loss: 0.2767 - val_acc: 0.9348\n",
      "Epoch 15/100\n",
      "0s - loss: 0.2739 - acc: 0.9237 - val_loss: 0.2969 - val_acc: 0.9130\n",
      "Epoch 16/100\n",
      "0s - loss: 0.2826 - acc: 0.9128 - val_loss: 0.3334 - val_acc: 0.8859\n",
      "Epoch 17/100\n",
      "0s - loss: 0.2896 - acc: 0.9142 - val_loss: 0.2616 - val_acc: 0.9293\n",
      "Epoch 18/100\n",
      "0s - loss: 0.2307 - acc: 0.9223 - val_loss: 0.2244 - val_acc: 0.9293\n",
      "Epoch 19/100\n",
      "0s - loss: 0.2636 - acc: 0.9210 - val_loss: 0.2190 - val_acc: 0.9185\n",
      "Epoch 20/100\n",
      "0s - loss: 0.2331 - acc: 0.9237 - val_loss: 0.3040 - val_acc: 0.9022\n",
      "Epoch 21/100\n",
      "0s - loss: 0.2332 - acc: 0.9251 - val_loss: 0.1926 - val_acc: 0.9348\n",
      "Epoch 22/100\n",
      "0s - loss: 0.1964 - acc: 0.9332 - val_loss: 0.2102 - val_acc: 0.9239\n",
      "Epoch 23/100\n",
      "0s - loss: 0.1992 - acc: 0.9305 - val_loss: 0.1680 - val_acc: 0.9402\n",
      "Epoch 24/100\n",
      "0s - loss: 0.2302 - acc: 0.9292 - val_loss: 0.1529 - val_acc: 0.9511\n",
      "Epoch 25/100\n",
      "0s - loss: 0.1833 - acc: 0.9428 - val_loss: 0.1657 - val_acc: 0.9402\n",
      "Epoch 26/100\n",
      "0s - loss: 0.1672 - acc: 0.9496 - val_loss: 0.1549 - val_acc: 0.9511\n",
      "Epoch 27/100\n",
      "0s - loss: 0.1891 - acc: 0.9346 - val_loss: 0.1742 - val_acc: 0.9511\n",
      "Epoch 28/100\n",
      "0s - loss: 0.1671 - acc: 0.9496 - val_loss: 0.1506 - val_acc: 0.9511\n",
      "Epoch 29/100\n",
      "0s - loss: 0.1751 - acc: 0.9360 - val_loss: 0.1476 - val_acc: 0.9457\n",
      "Epoch 30/100\n",
      "0s - loss: 0.1304 - acc: 0.9591 - val_loss: 0.1530 - val_acc: 0.9565\n",
      "Epoch 31/100\n",
      "0s - loss: 0.2009 - acc: 0.9332 - val_loss: 0.1607 - val_acc: 0.9457\n",
      "Epoch 32/100\n",
      "0s - loss: 0.1581 - acc: 0.9523 - val_loss: 0.1660 - val_acc: 0.9239\n",
      "Epoch 33/100\n",
      "0s - loss: 0.1472 - acc: 0.9441 - val_loss: 0.1665 - val_acc: 0.9293\n",
      "Epoch 34/100\n",
      "0s - loss: 0.1599 - acc: 0.9455 - val_loss: 0.1697 - val_acc: 0.9348\n",
      "Epoch 35/100\n",
      "0s - loss: 0.1242 - acc: 0.9619 - val_loss: 0.1837 - val_acc: 0.9348\n"
     ]
    }
   ],
   "source": [
    "model_fit = model.fit(x_train,y_train,verbose=2,batch_size=batch_size,\n",
    "                       epochs = 100,\n",
    "                       validation_split = 0.2,\n",
    "                       callbacks = earlystop)"
   ]
  },
  {
   "cell_type": "code",
   "execution_count": 85,
   "metadata": {},
   "outputs": [
    {
     "name": "stdout",
     "output_type": "stream",
     "text": [
      "\r",
      " 32/162 [====>.........................] - ETA: 0s"
     ]
    },
    {
     "data": {
      "text/html": [
       "<div>\n",
       "<table border=\"1\" class=\"dataframe\">\n",
       "  <thead>\n",
       "    <tr style=\"text-align: right;\">\n",
       "      <th>col_0</th>\n",
       "      <th>1</th>\n",
       "      <th>2</th>\n",
       "      <th>3</th>\n",
       "      <th>4</th>\n",
       "      <th>5</th>\n",
       "      <th>6</th>\n",
       "      <th>7</th>\n",
       "      <th>8</th>\n",
       "      <th>9</th>\n",
       "    </tr>\n",
       "    <tr>\n",
       "      <th>row_0</th>\n",
       "      <th></th>\n",
       "      <th></th>\n",
       "      <th></th>\n",
       "      <th></th>\n",
       "      <th></th>\n",
       "      <th></th>\n",
       "      <th></th>\n",
       "      <th></th>\n",
       "      <th></th>\n",
       "    </tr>\n",
       "  </thead>\n",
       "  <tbody>\n",
       "    <tr>\n",
       "      <th>1</th>\n",
       "      <td>18</td>\n",
       "      <td>0</td>\n",
       "      <td>0</td>\n",
       "      <td>0</td>\n",
       "      <td>0</td>\n",
       "      <td>0</td>\n",
       "      <td>0</td>\n",
       "      <td>0</td>\n",
       "      <td>0</td>\n",
       "    </tr>\n",
       "    <tr>\n",
       "      <th>2</th>\n",
       "      <td>0</td>\n",
       "      <td>18</td>\n",
       "      <td>0</td>\n",
       "      <td>0</td>\n",
       "      <td>0</td>\n",
       "      <td>0</td>\n",
       "      <td>1</td>\n",
       "      <td>0</td>\n",
       "      <td>0</td>\n",
       "    </tr>\n",
       "    <tr>\n",
       "      <th>3</th>\n",
       "      <td>0</td>\n",
       "      <td>0</td>\n",
       "      <td>18</td>\n",
       "      <td>0</td>\n",
       "      <td>0</td>\n",
       "      <td>0</td>\n",
       "      <td>0</td>\n",
       "      <td>0</td>\n",
       "      <td>0</td>\n",
       "    </tr>\n",
       "    <tr>\n",
       "      <th>4</th>\n",
       "      <td>0</td>\n",
       "      <td>0</td>\n",
       "      <td>0</td>\n",
       "      <td>18</td>\n",
       "      <td>0</td>\n",
       "      <td>0</td>\n",
       "      <td>0</td>\n",
       "      <td>0</td>\n",
       "      <td>1</td>\n",
       "    </tr>\n",
       "    <tr>\n",
       "      <th>5</th>\n",
       "      <td>0</td>\n",
       "      <td>0</td>\n",
       "      <td>0</td>\n",
       "      <td>0</td>\n",
       "      <td>18</td>\n",
       "      <td>0</td>\n",
       "      <td>0</td>\n",
       "      <td>0</td>\n",
       "      <td>0</td>\n",
       "    </tr>\n",
       "    <tr>\n",
       "      <th>6</th>\n",
       "      <td>0</td>\n",
       "      <td>0</td>\n",
       "      <td>0</td>\n",
       "      <td>0</td>\n",
       "      <td>0</td>\n",
       "      <td>18</td>\n",
       "      <td>0</td>\n",
       "      <td>0</td>\n",
       "      <td>1</td>\n",
       "    </tr>\n",
       "    <tr>\n",
       "      <th>7</th>\n",
       "      <td>0</td>\n",
       "      <td>0</td>\n",
       "      <td>0</td>\n",
       "      <td>0</td>\n",
       "      <td>0</td>\n",
       "      <td>0</td>\n",
       "      <td>17</td>\n",
       "      <td>0</td>\n",
       "      <td>0</td>\n",
       "    </tr>\n",
       "    <tr>\n",
       "      <th>8</th>\n",
       "      <td>0</td>\n",
       "      <td>0</td>\n",
       "      <td>0</td>\n",
       "      <td>0</td>\n",
       "      <td>0</td>\n",
       "      <td>0</td>\n",
       "      <td>0</td>\n",
       "      <td>18</td>\n",
       "      <td>0</td>\n",
       "    </tr>\n",
       "    <tr>\n",
       "      <th>9</th>\n",
       "      <td>0</td>\n",
       "      <td>0</td>\n",
       "      <td>0</td>\n",
       "      <td>0</td>\n",
       "      <td>0</td>\n",
       "      <td>0</td>\n",
       "      <td>0</td>\n",
       "      <td>0</td>\n",
       "      <td>16</td>\n",
       "    </tr>\n",
       "  </tbody>\n",
       "</table>\n",
       "</div>"
      ],
      "text/plain": [
       "col_0   1   2   3   4   5   6   7   8   9\n",
       "row_0                                    \n",
       "1      18   0   0   0   0   0   0   0   0\n",
       "2       0  18   0   0   0   0   1   0   0\n",
       "3       0   0  18   0   0   0   0   0   0\n",
       "4       0   0   0  18   0   0   0   0   1\n",
       "5       0   0   0   0  18   0   0   0   0\n",
       "6       0   0   0   0   0  18   0   0   1\n",
       "7       0   0   0   0   0   0  17   0   0\n",
       "8       0   0   0   0   0   0   0  18   0\n",
       "9       0   0   0   0   0   0   0   0  16"
      ]
     },
     "execution_count": 85,
     "metadata": {},
     "output_type": "execute_result"
    }
   ],
   "source": [
    "output_data = np.array(data[0])\n",
    "y_test = output_data[int(0.85*row):]\n",
    "predicted_classes = model.predict_classes(x_test)\n",
    "predicted_classes = predicted_classes + 1\n",
    "pd.crosstab(predicted_classes,y_test)"
   ]
  },
  {
   "cell_type": "code",
   "execution_count": 86,
   "metadata": {},
   "outputs": [
    {
     "data": {
      "image/png": "[encoded data removed]",
      "text/plain": [
       "<matplotlib.figure.Figure at 0x7f07cafef128>"
      ]
     },
     "metadata": {},
     "output_type": "display_data"
    }
   ],
   "source": [
    "plt.plot(model_fit.epoch, model_fit.history['val_acc'])\n",
    "plt.plot(model_fit.epoch, model_fit.history['acc'])\n",
    "plt.legend(['Validation Accuracy','Train Accuracy'])\n",
    "plt.show()"
   ]
  },
  {
   "cell_type": "markdown",
   "metadata": {},
   "source": [
    "# Predicting the output upon the above model weights and bias"
   ]
  },
  {
   "cell_type": "code",
   "execution_count": 87,
   "metadata": {
    "collapsed": true
   },
   "outputs": [],
   "source": [
    "import math\n",
    "def sigmoid(x):\n",
    "    return (1/(1+math.exp(-x)))\n",
    "def softmax(w, t = 1.0):\n",
    "    npa = np.array\n",
    "    e = np.exp(npa(w) / t)\n",
    "    dist = e / np.sum(e)\n",
    "    return dist"
   ]
  },
  {
   "cell_type": "code",
   "execution_count": 88,
   "metadata": {
    "collapsed": true
   },
   "outputs": [],
   "source": [
    "weights = model.get_weights()\n",
    "w0 = weights[0]\n",
    "b0 = weights[1]\n",
    "w1 = weights[2]\n",
    "b1 = weights[3]\n",
    "w2 = weights[4]\n",
    "b2 = weights[5]"
   ]
  },
  {
   "cell_type": "code",
   "execution_count": 89,
   "metadata": {},
   "outputs": [
    {
     "name": "stdout",
     "output_type": "stream",
     "text": [
      "8\n",
      "1/1 [==============================] - 0s\n"
     ]
    },
    {
     "data": {
      "text/plain": [
       "8"
      ]
     },
     "execution_count": 89,
     "metadata": {},
     "output_type": "execute_result"
    }
   ],
   "source": [
    "input1 = x_test[15]\n",
    "input1 = input1.reshape((1,856))\n",
    "input2 = input1.dot(w0) + b0\n",
    "i2= []\n",
    "input2 = input2.reshape((400))\n",
    "for k in input2:\n",
    "    i2.append(sigmoid(k))\n",
    "input2 = np.array(i2)\n",
    "\n",
    "input2 = input2.reshape((1,400))\n",
    "input3 = input2.dot(w1) + b1\n",
    "i3 = []\n",
    "input3 = input3.reshape((200))\n",
    "for k in input3:\n",
    "    i3.append(sigmoid(k))\n",
    "input3 = np.array(i3)\n",
    "\n",
    "input3 = input3.reshape((1,200))\n",
    "output = input3.dot(w2) + b2\n",
    "output = output.reshape((9))\n",
    "output = softmax(output)\n",
    "output = output.reshape((1,9))\n",
    "print(np.argmax(output))\n",
    "int(model.predict_classes(input1))"
   ]
  },
  {
   "cell_type": "markdown",
   "metadata": {},
   "source": [
    "# Method to predict using the model"
   ]
  },
  {
   "cell_type": "code",
   "execution_count": 95,
   "metadata": {
    "collapsed": true
   },
   "outputs": [],
   "source": [
    "def check_model(model, x_test, element):\n",
    "    input_to_layer = x_test[element]\n",
    "    shape, = input_to_layer.shape\n",
    "    input_to_layer = input_to_layer.reshape((1,shape))\n",
    "    actual_class  = int(model.predict_classes(input_to_layer))\n",
    "    weights = model.get_weights()\n",
    "    number_of_layer = 0\n",
    "    last_layer = 3\n",
    "    for i in range(0,len(weights),2):\n",
    "        number_of_layer += 1\n",
    "        weight = weights[i]\n",
    "        bias = weights[i+1]\n",
    "        row, = bias.shape\n",
    "        input_to_layer = input_to_layer.dot(weight) + bias\n",
    "        input_to_layer = input_to_layer.reshape((row))\n",
    "        inp = []\n",
    "        if number_of_layer != last_layer:\n",
    "            for i in input_to_layer:\n",
    "                inp.append(sigmoid(i))\n",
    "            input_to_layer = np.array(inp)\n",
    "            input_to_layer = input_to_layer.reshape((1,row))\n",
    "        elif number_of_layer == last_layer:\n",
    "            input_to_layer = softmax(input_to_layer)\n",
    "            input_to_layer = input_to_layer.reshape((1,row))\n",
    "            predicted_class = np.argmax(input_to_layer)\n",
    "            if actual_class == predicted_class:\n",
    "                message = 'Success'\n",
    "            else:\n",
    "                message == 'Fail'\n",
    "    return message, actual_class, predicted_class"
   ]
  },
  {
   "cell_type": "code",
   "execution_count": 96,
   "metadata": {},
   "outputs": [
    {
     "name": "stdout",
     "output_type": "stream",
     "text": [
      "1/1 [==============================] - 0s\n"
     ]
    },
    {
     "data": {
      "text/plain": [
       "('Success', 6, 6)"
      ]
     },
     "execution_count": 96,
     "metadata": {},
     "output_type": "execute_result"
    }
   ],
   "source": [
    "check_model(model,x_test,15)"
   ]
  },
  {
   "cell_type": "code",
   "execution_count": null,
   "metadata": {
    "collapsed": true
   },
   "outputs": [],
   "source": []
  }
 ],
 "metadata": {
  "kernelspec": {
   "display_name": "Python 3",
   "language": "python",
   "name": "python3"
  },
  "language_info": {
   "codemirror_mode": {
    "name": "ipython",
    "version": 3
   },
   "file_extension": ".py",
   "mimetype": "text/x-python",
   "name": "python",
   "nbconvert_exporter": "python",
   "pygments_lexer": "ipython3",
   "version": "3.5.2"
  }
 },
 "nbformat": 4,
 "nbformat_minor": 2
}
