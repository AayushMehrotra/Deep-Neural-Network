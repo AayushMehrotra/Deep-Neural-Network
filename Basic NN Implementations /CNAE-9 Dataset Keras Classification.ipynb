{
 "cells": [
  {
   "cell_type": "markdown",
   "metadata": {},
   "source": [
    "# Imports"
   ]
  },
  {
   "cell_type": "code",
   "execution_count": 106,
   "metadata": {},
   "outputs": [],
   "source": [
    "import pandas as pd\n",
    "import numpy as np\n",
    "import random\n",
    "import keras\n",
    "import matplotlib.pyplot as plt\n",
    "\n",
    "from keras.layers import Dense\n",
    "from keras.layers import Dropout\n",
    "from keras.models import Sequential\n",
    "from keras.optimizers import RMSprop\n",
    "from keras.utils import to_categorical"
   ]
  },
  {
   "cell_type": "markdown",
   "metadata": {},
   "source": [
    "# Shuffling my Data"
   ]
  },
  {
   "cell_type": "markdown",
   "metadata": {},
   "source": [
    "# Reading the Data and getting the shape"
   ]
  },
  {
   "cell_type": "code",
   "execution_count": 2,
   "metadata": {},
   "outputs": [],
   "source": [
    "data = pd.read_csv('data/CNAE-9.data',header= None)\n",
    "row, column = data.shape"
   ]
  },
  {
   "cell_type": "markdown",
   "metadata": {},
   "source": [
    "# Getting the Y and X data"
   ]
  },
  {
   "cell_type": "code",
   "execution_count": 3,
   "metadata": {},
   "outputs": [],
   "source": [
    "output_data = np.array(data[0].apply(lambda class_of_doc : class_of_doc -1))\n",
    "input_data = np.array(data.drop(0, axis=1))"
   ]
  },
  {
   "cell_type": "markdown",
   "metadata": {},
   "source": [
    "# Defining variables "
   ]
  },
  {
   "cell_type": "code",
   "execution_count": 4,
   "metadata": {},
   "outputs": [],
   "source": [
    "epochs = 12\n",
    "num_classes = len(pd.unique(output_data))\n",
    "batch_size = 12\n",
    "test_accuracy = []\n",
    "train_accuracy = []"
   ]
  },
  {
   "cell_type": "markdown",
   "metadata": {},
   "source": [
    "# One Hot coding for Y Data"
   ]
  },
  {
   "cell_type": "code",
   "execution_count": 5,
   "metadata": {},
   "outputs": [],
   "source": [
    "output_data = to_categorical(output_data, num_classes)"
   ]
  },
  {
   "cell_type": "markdown",
   "metadata": {},
   "source": [
    "# Splitting the train/test data (85-15) & Getting X_train/Y_train and X_test/Y_test"
   ]
  },
  {
   "cell_type": "code",
   "execution_count": 6,
   "metadata": {},
   "outputs": [],
   "source": [
    "x_train = input_data[:int(0.85*row)]\n",
    "x_test = input_data[int(0.85*row):]\n",
    "y_train = output_data[:int(0.85*row)]\n",
    "y_test = output_data[int(0.85*row):]"
   ]
  },
  {
   "cell_type": "markdown",
   "metadata": {},
   "source": [
    "# Model with 1 Hidden Layer"
   ]
  },
  {
   "cell_type": "code",
   "execution_count": 7,
   "metadata": {},
   "outputs": [],
   "source": [
    "model1 = Sequential()\n",
    "model1.add(Dense(512, activation='relu',input_shape = (856,)))\n",
    "model1.add(Dense(num_classes,activation='softmax'))"
   ]
  },
  {
   "cell_type": "markdown",
   "metadata": {},
   "source": [
    "# Compiling the model and getting it's summary"
   ]
  },
  {
   "cell_type": "code",
   "execution_count": 8,
   "metadata": {},
   "outputs": [
    {
     "name": "stdout",
     "output_type": "stream",
     "text": [
      "_________________________________________________________________\n",
      "Layer (type)                 Output Shape              Param #   \n",
      "=================================================================\n",
      "dense_1 (Dense)              (None, 512)               438784    \n",
      "_________________________________________________________________\n",
      "dense_2 (Dense)              (None, 9)                 4617      \n",
      "=================================================================\n",
      "Total params: 443,401\n",
      "Trainable params: 443,401\n",
      "Non-trainable params: 0\n",
      "_________________________________________________________________\n"
     ]
    }
   ],
   "source": [
    "model1.compile(optimizer='rmsprop',\n",
    "          loss='categorical_crossentropy',\n",
    "          metrics=['accuracy'])\n",
    "model1.summary()"
   ]
  },
  {
   "cell_type": "markdown",
   "metadata": {},
   "source": [
    "# Fitting the model to get accuracy"
   ]
  },
  {
   "cell_type": "code",
   "execution_count": 9,
   "metadata": {},
   "outputs": [
    {
     "name": "stdout",
     "output_type": "stream",
     "text": [
      "Train on 826 samples, validate on 92 samples\n",
      "Epoch 1/12\n",
      "0s - loss: 1.3904 - acc: 0.8087 - val_loss: 0.7664 - val_acc: 0.9022\n",
      "Epoch 2/12\n",
      "0s - loss: 0.4182 - acc: 0.9492 - val_loss: 0.3580 - val_acc: 0.9457\n",
      "Epoch 3/12\n",
      "0s - loss: 0.1683 - acc: 0.9782 - val_loss: 0.2453 - val_acc: 0.9348\n",
      "Epoch 4/12\n",
      "0s - loss: 0.0864 - acc: 0.9867 - val_loss: 0.2175 - val_acc: 0.9348\n",
      "Epoch 5/12\n",
      "0s - loss: 0.0485 - acc: 0.9915 - val_loss: 0.1870 - val_acc: 0.9457\n",
      "Epoch 6/12\n",
      "0s - loss: 0.0305 - acc: 0.9952 - val_loss: 0.2012 - val_acc: 0.9348\n",
      "Epoch 7/12\n",
      "0s - loss: 0.0192 - acc: 0.9976 - val_loss: 0.2024 - val_acc: 0.9457\n",
      "Epoch 8/12\n",
      "0s - loss: 0.0131 - acc: 0.9988 - val_loss: 0.2248 - val_acc: 0.9457\n",
      "Epoch 9/12\n",
      "0s - loss: 0.0089 - acc: 0.9964 - val_loss: 0.2198 - val_acc: 0.9348\n",
      "Epoch 10/12\n",
      "0s - loss: 0.0075 - acc: 0.9988 - val_loss: 0.2297 - val_acc: 0.9457\n",
      "Epoch 11/12\n",
      "0s - loss: 0.0062 - acc: 0.9964 - val_loss: 0.2656 - val_acc: 0.9457\n",
      "Epoch 12/12\n",
      "0s - loss: 0.0044 - acc: 0.9988 - val_loss: 0.2583 - val_acc: 0.9457\n"
     ]
    }
   ],
   "source": [
    "model_fit = model1.fit(x_train, y_train,verbose=2,batch_size=batch_size,epochs=epochs,validation_split=0.1)"
   ]
  },
  {
   "cell_type": "markdown",
   "metadata": {},
   "source": [
    "# Predicting and getting the crosstab dataframe to check fails"
   ]
  },
  {
   "cell_type": "code",
   "execution_count": 10,
   "metadata": {},
   "outputs": [
    {
     "name": "stdout",
     "output_type": "stream",
     "text": [
      "\r",
      " 32/162 [====>.........................] - ETA: 0s"
     ]
    },
    {
     "data": {
      "text/html": [
       "<div>\n",
       "<table border=\"1\" class=\"dataframe\">\n",
       "  <thead>\n",
       "    <tr style=\"text-align: right;\">\n",
       "      <th>col_0</th>\n",
       "      <th>1</th>\n",
       "      <th>2</th>\n",
       "      <th>3</th>\n",
       "      <th>4</th>\n",
       "      <th>5</th>\n",
       "      <th>6</th>\n",
       "      <th>7</th>\n",
       "      <th>8</th>\n",
       "      <th>9</th>\n",
       "    </tr>\n",
       "    <tr>\n",
       "      <th>row_0</th>\n",
       "      <th></th>\n",
       "      <th></th>\n",
       "      <th></th>\n",
       "      <th></th>\n",
       "      <th></th>\n",
       "      <th></th>\n",
       "      <th></th>\n",
       "      <th></th>\n",
       "      <th></th>\n",
       "    </tr>\n",
       "  </thead>\n",
       "  <tbody>\n",
       "    <tr>\n",
       "      <th>1</th>\n",
       "      <td>18</td>\n",
       "      <td>0</td>\n",
       "      <td>0</td>\n",
       "      <td>0</td>\n",
       "      <td>0</td>\n",
       "      <td>0</td>\n",
       "      <td>0</td>\n",
       "      <td>0</td>\n",
       "      <td>0</td>\n",
       "    </tr>\n",
       "    <tr>\n",
       "      <th>2</th>\n",
       "      <td>0</td>\n",
       "      <td>18</td>\n",
       "      <td>0</td>\n",
       "      <td>0</td>\n",
       "      <td>0</td>\n",
       "      <td>0</td>\n",
       "      <td>0</td>\n",
       "      <td>0</td>\n",
       "      <td>0</td>\n",
       "    </tr>\n",
       "    <tr>\n",
       "      <th>3</th>\n",
       "      <td>0</td>\n",
       "      <td>0</td>\n",
       "      <td>17</td>\n",
       "      <td>0</td>\n",
       "      <td>0</td>\n",
       "      <td>0</td>\n",
       "      <td>1</td>\n",
       "      <td>0</td>\n",
       "      <td>0</td>\n",
       "    </tr>\n",
       "    <tr>\n",
       "      <th>4</th>\n",
       "      <td>0</td>\n",
       "      <td>0</td>\n",
       "      <td>1</td>\n",
       "      <td>18</td>\n",
       "      <td>0</td>\n",
       "      <td>0</td>\n",
       "      <td>0</td>\n",
       "      <td>0</td>\n",
       "      <td>1</td>\n",
       "    </tr>\n",
       "    <tr>\n",
       "      <th>5</th>\n",
       "      <td>0</td>\n",
       "      <td>0</td>\n",
       "      <td>0</td>\n",
       "      <td>0</td>\n",
       "      <td>18</td>\n",
       "      <td>0</td>\n",
       "      <td>0</td>\n",
       "      <td>0</td>\n",
       "      <td>0</td>\n",
       "    </tr>\n",
       "    <tr>\n",
       "      <th>6</th>\n",
       "      <td>0</td>\n",
       "      <td>0</td>\n",
       "      <td>0</td>\n",
       "      <td>0</td>\n",
       "      <td>0</td>\n",
       "      <td>18</td>\n",
       "      <td>0</td>\n",
       "      <td>0</td>\n",
       "      <td>2</td>\n",
       "    </tr>\n",
       "    <tr>\n",
       "      <th>7</th>\n",
       "      <td>0</td>\n",
       "      <td>0</td>\n",
       "      <td>0</td>\n",
       "      <td>0</td>\n",
       "      <td>0</td>\n",
       "      <td>0</td>\n",
       "      <td>17</td>\n",
       "      <td>0</td>\n",
       "      <td>0</td>\n",
       "    </tr>\n",
       "    <tr>\n",
       "      <th>8</th>\n",
       "      <td>0</td>\n",
       "      <td>0</td>\n",
       "      <td>0</td>\n",
       "      <td>0</td>\n",
       "      <td>0</td>\n",
       "      <td>0</td>\n",
       "      <td>0</td>\n",
       "      <td>18</td>\n",
       "      <td>0</td>\n",
       "    </tr>\n",
       "    <tr>\n",
       "      <th>9</th>\n",
       "      <td>0</td>\n",
       "      <td>0</td>\n",
       "      <td>0</td>\n",
       "      <td>0</td>\n",
       "      <td>0</td>\n",
       "      <td>0</td>\n",
       "      <td>0</td>\n",
       "      <td>0</td>\n",
       "      <td>15</td>\n",
       "    </tr>\n",
       "  </tbody>\n",
       "</table>\n",
       "</div>"
      ],
      "text/plain": [
       "col_0   1   2   3   4   5   6   7   8   9\n",
       "row_0                                    \n",
       "1      18   0   0   0   0   0   0   0   0\n",
       "2       0  18   0   0   0   0   0   0   0\n",
       "3       0   0  17   0   0   0   1   0   0\n",
       "4       0   0   1  18   0   0   0   0   1\n",
       "5       0   0   0   0  18   0   0   0   0\n",
       "6       0   0   0   0   0  18   0   0   2\n",
       "7       0   0   0   0   0   0  17   0   0\n",
       "8       0   0   0   0   0   0   0  18   0\n",
       "9       0   0   0   0   0   0   0   0  15"
      ]
     },
     "execution_count": 10,
     "metadata": {},
     "output_type": "execute_result"
    }
   ],
   "source": [
    "output_data = np.array(data[0])\n",
    "y_test = output_data[int(0.85*row):]\n",
    "predicted_classes = model1.predict_classes(x_test)\n",
    "predicted_classes = predicted_classes + 1\n",
    "pd.crosstab(predicted_classes,y_test)"
   ]
  },
  {
   "cell_type": "markdown",
   "metadata": {},
   "source": [
    "# Getting Test Accuracy"
   ]
  },
  {
   "cell_type": "code",
   "execution_count": 11,
   "metadata": {},
   "outputs": [],
   "source": [
    "test_fail = [im for im in zip(predicted_classes,y_test) if im[0] != im[1]]\n",
    "accuracy = ((162- len(test_fail))*100/162)\n",
    "test_accuracy.append(accuracy)\n",
    "train_accuracy.append(model_fit.history['acc'][epochs-1])"
   ]
  },
  {
   "cell_type": "markdown",
   "metadata": {},
   "source": [
    "# Plot for each epoch train and validation accuracy"
   ]
  },
  {
   "cell_type": "code",
   "execution_count": 12,
   "metadata": {},
   "outputs": [
    {
     "data": {
      "image/png": "[encoded data removed]",
      "text/plain": [
       "<matplotlib.figure.Figure at 0x7f1c438dcf60>"
      ]
     },
     "metadata": {},
     "output_type": "display_data"
    }
   ],
   "source": [
    "plt.plot(model_fit.epoch, model_fit.history['val_acc'])\n",
    "plt.plot(model_fit.epoch, model_fit.history['acc'])\n",
    "plt.legend(['Validation Accuracy','Train Accuracy'])\n",
    "plt.show()"
   ]
  },
  {
   "cell_type": "markdown",
   "metadata": {},
   "source": [
    "# Model with 2 Hidden Layers"
   ]
  },
  {
   "cell_type": "code",
   "execution_count": 13,
   "metadata": {
    "collapsed": true
   },
   "outputs": [],
   "source": [
    "output_data = np.array(data[0].apply(lambda class_of_doc : class_of_doc -1))\n",
    "input_data = np.array(data.drop(0, axis=1))\n",
    "output_data = to_categorical(output_data, num_classes)\n",
    "x_train = input_data[:int(0.85*row)]\n",
    "x_test = input_data[int(0.85*row):]\n",
    "y_train = output_data[:int(0.85*row)]\n",
    "y_test = output_data[int(0.85*row):]"
   ]
  },
  {
   "cell_type": "code",
   "execution_count": 14,
   "metadata": {
    "collapsed": true
   },
   "outputs": [],
   "source": [
    "model2 = Sequential()\n",
    "model2.add(Dense(400, activation='sigmoid',input_shape = (856,)))\n",
    "model2.add(Dense(300,activation='sigmoid'))\n",
    "model2.add(Dense(num_classes,activation='softmax'))"
   ]
  },
  {
   "cell_type": "code",
   "execution_count": 15,
   "metadata": {},
   "outputs": [
    {
     "name": "stdout",
     "output_type": "stream",
     "text": [
      "_________________________________________________________________\n",
      "Layer (type)                 Output Shape              Param #   \n",
      "=================================================================\n",
      "dense_3 (Dense)              (None, 400)               342800    \n",
      "_________________________________________________________________\n",
      "dense_4 (Dense)              (None, 300)               120300    \n",
      "_________________________________________________________________\n",
      "dense_5 (Dense)              (None, 9)                 2709      \n",
      "=================================================================\n",
      "Total params: 465,809\n",
      "Trainable params: 465,809\n",
      "Non-trainable params: 0\n",
      "_________________________________________________________________\n"
     ]
    }
   ],
   "source": [
    "model2.compile(optimizer='rmsprop',\n",
    "          loss='categorical_crossentropy',\n",
    "          metrics=['accuracy'])\n",
    "model2.summary()"
   ]
  },
  {
   "cell_type": "code",
   "execution_count": 16,
   "metadata": {},
   "outputs": [
    {
     "name": "stdout",
     "output_type": "stream",
     "text": [
      "Train on 826 samples, validate on 92 samples\n",
      "Epoch 1/12\n",
      "0s - loss: 2.2415 - acc: 0.1538 - val_loss: 2.1227 - val_acc: 0.1196\n",
      "Epoch 2/12\n",
      "0s - loss: 1.9084 - acc: 0.3499 - val_loss: 1.7023 - val_acc: 0.4022\n",
      "Epoch 3/12\n",
      "0s - loss: 1.3683 - acc: 0.6283 - val_loss: 1.2333 - val_acc: 0.5761\n",
      "Epoch 4/12\n",
      "0s - loss: 0.9236 - acc: 0.7494 - val_loss: 0.7561 - val_acc: 0.8696\n",
      "Epoch 5/12\n",
      "0s - loss: 0.5916 - acc: 0.8814 - val_loss: 0.5594 - val_acc: 0.8804\n",
      "Epoch 6/12\n",
      "0s - loss: 0.3923 - acc: 0.9225 - val_loss: 0.4288 - val_acc: 0.9022\n",
      "Epoch 7/12\n",
      "0s - loss: 0.2752 - acc: 0.9334 - val_loss: 0.3876 - val_acc: 0.9130\n",
      "Epoch 8/12\n",
      "0s - loss: 0.2080 - acc: 0.9552 - val_loss: 0.2707 - val_acc: 0.9239\n",
      "Epoch 9/12\n",
      "0s - loss: 0.1587 - acc: 0.9649 - val_loss: 0.3405 - val_acc: 0.8913\n",
      "Epoch 10/12\n",
      "0s - loss: 0.1270 - acc: 0.9637 - val_loss: 0.3585 - val_acc: 0.9022\n",
      "Epoch 11/12\n",
      "0s - loss: 0.1035 - acc: 0.9758 - val_loss: 0.2530 - val_acc: 0.9022\n",
      "Epoch 12/12\n",
      "0s - loss: 0.0840 - acc: 0.9806 - val_loss: 0.2273 - val_acc: 0.9348\n"
     ]
    }
   ],
   "source": [
    "model_fit = model2.fit(x_train,y_train,verbose=2,batch_size=batch_size,epochs=epochs,validation_split=0.1)"
   ]
  },
  {
   "cell_type": "code",
   "execution_count": 17,
   "metadata": {},
   "outputs": [
    {
     "name": "stdout",
     "output_type": "stream",
     "text": [
      "\r",
      " 32/162 [====>.........................] - ETA: 0s"
     ]
    },
    {
     "data": {
      "text/html": [
       "<div>\n",
       "<table border=\"1\" class=\"dataframe\">\n",
       "  <thead>\n",
       "    <tr style=\"text-align: right;\">\n",
       "      <th>col_0</th>\n",
       "      <th>1</th>\n",
       "      <th>2</th>\n",
       "      <th>3</th>\n",
       "      <th>4</th>\n",
       "      <th>5</th>\n",
       "      <th>6</th>\n",
       "      <th>7</th>\n",
       "      <th>8</th>\n",
       "      <th>9</th>\n",
       "    </tr>\n",
       "    <tr>\n",
       "      <th>row_0</th>\n",
       "      <th></th>\n",
       "      <th></th>\n",
       "      <th></th>\n",
       "      <th></th>\n",
       "      <th></th>\n",
       "      <th></th>\n",
       "      <th></th>\n",
       "      <th></th>\n",
       "      <th></th>\n",
       "    </tr>\n",
       "  </thead>\n",
       "  <tbody>\n",
       "    <tr>\n",
       "      <th>1</th>\n",
       "      <td>18</td>\n",
       "      <td>0</td>\n",
       "      <td>0</td>\n",
       "      <td>0</td>\n",
       "      <td>0</td>\n",
       "      <td>0</td>\n",
       "      <td>1</td>\n",
       "      <td>0</td>\n",
       "      <td>0</td>\n",
       "    </tr>\n",
       "    <tr>\n",
       "      <th>2</th>\n",
       "      <td>0</td>\n",
       "      <td>18</td>\n",
       "      <td>0</td>\n",
       "      <td>0</td>\n",
       "      <td>0</td>\n",
       "      <td>0</td>\n",
       "      <td>0</td>\n",
       "      <td>0</td>\n",
       "      <td>0</td>\n",
       "    </tr>\n",
       "    <tr>\n",
       "      <th>3</th>\n",
       "      <td>0</td>\n",
       "      <td>0</td>\n",
       "      <td>17</td>\n",
       "      <td>0</td>\n",
       "      <td>0</td>\n",
       "      <td>0</td>\n",
       "      <td>0</td>\n",
       "      <td>0</td>\n",
       "      <td>0</td>\n",
       "    </tr>\n",
       "    <tr>\n",
       "      <th>4</th>\n",
       "      <td>0</td>\n",
       "      <td>0</td>\n",
       "      <td>1</td>\n",
       "      <td>18</td>\n",
       "      <td>0</td>\n",
       "      <td>0</td>\n",
       "      <td>0</td>\n",
       "      <td>0</td>\n",
       "      <td>1</td>\n",
       "    </tr>\n",
       "    <tr>\n",
       "      <th>5</th>\n",
       "      <td>0</td>\n",
       "      <td>0</td>\n",
       "      <td>0</td>\n",
       "      <td>0</td>\n",
       "      <td>18</td>\n",
       "      <td>0</td>\n",
       "      <td>0</td>\n",
       "      <td>0</td>\n",
       "      <td>0</td>\n",
       "    </tr>\n",
       "    <tr>\n",
       "      <th>6</th>\n",
       "      <td>0</td>\n",
       "      <td>0</td>\n",
       "      <td>0</td>\n",
       "      <td>0</td>\n",
       "      <td>0</td>\n",
       "      <td>18</td>\n",
       "      <td>0</td>\n",
       "      <td>0</td>\n",
       "      <td>1</td>\n",
       "    </tr>\n",
       "    <tr>\n",
       "      <th>7</th>\n",
       "      <td>0</td>\n",
       "      <td>0</td>\n",
       "      <td>0</td>\n",
       "      <td>0</td>\n",
       "      <td>0</td>\n",
       "      <td>0</td>\n",
       "      <td>17</td>\n",
       "      <td>0</td>\n",
       "      <td>0</td>\n",
       "    </tr>\n",
       "    <tr>\n",
       "      <th>8</th>\n",
       "      <td>0</td>\n",
       "      <td>0</td>\n",
       "      <td>0</td>\n",
       "      <td>0</td>\n",
       "      <td>0</td>\n",
       "      <td>0</td>\n",
       "      <td>0</td>\n",
       "      <td>18</td>\n",
       "      <td>0</td>\n",
       "    </tr>\n",
       "    <tr>\n",
       "      <th>9</th>\n",
       "      <td>0</td>\n",
       "      <td>0</td>\n",
       "      <td>0</td>\n",
       "      <td>0</td>\n",
       "      <td>0</td>\n",
       "      <td>0</td>\n",
       "      <td>0</td>\n",
       "      <td>0</td>\n",
       "      <td>16</td>\n",
       "    </tr>\n",
       "  </tbody>\n",
       "</table>\n",
       "</div>"
      ],
      "text/plain": [
       "col_0   1   2   3   4   5   6   7   8   9\n",
       "row_0                                    \n",
       "1      18   0   0   0   0   0   1   0   0\n",
       "2       0  18   0   0   0   0   0   0   0\n",
       "3       0   0  17   0   0   0   0   0   0\n",
       "4       0   0   1  18   0   0   0   0   1\n",
       "5       0   0   0   0  18   0   0   0   0\n",
       "6       0   0   0   0   0  18   0   0   1\n",
       "7       0   0   0   0   0   0  17   0   0\n",
       "8       0   0   0   0   0   0   0  18   0\n",
       "9       0   0   0   0   0   0   0   0  16"
      ]
     },
     "execution_count": 17,
     "metadata": {},
     "output_type": "execute_result"
    }
   ],
   "source": [
    "output_data = np.array(data[0])\n",
    "y_test = output_data[int(0.85*row):]\n",
    "predicted_classes = model2.predict_classes(x_test)\n",
    "predicted_classes = predicted_classes + 1\n",
    "pd.crosstab(predicted_classes,y_test)"
   ]
  },
  {
   "cell_type": "code",
   "execution_count": 18,
   "metadata": {},
   "outputs": [],
   "source": [
    "test_fail = [im for im in zip(predicted_classes,y_test) if im[0] != im[1]]\n",
    "accuracy = ((162- len(test_fail))*100/162)\n",
    "test_accuracy.append(accuracy)\n",
    "train_accuracy.append(model_fit.history['acc'][epochs-1])"
   ]
  },
  {
   "cell_type": "code",
   "execution_count": 19,
   "metadata": {},
   "outputs": [
    {
     "data": {
      "image/png": "[encoded data removed]",
      "text/plain": [
       "<matplotlib.figure.Figure at 0x7f1c4383e8d0>"
      ]
     },
     "metadata": {},
     "output_type": "display_data"
    }
   ],
   "source": [
    "plt.plot(model_fit.epoch, model_fit.history['val_acc'])\n",
    "plt.plot(model_fit.epoch, model_fit.history['acc'])\n",
    "plt.legend(['Validation Accuracy','Train Accuracy'])\n",
    "plt.show()"
   ]
  },
  {
   "cell_type": "markdown",
   "metadata": {},
   "source": [
    "# Model with 3 Hidden layers"
   ]
  },
  {
   "cell_type": "code",
   "execution_count": 20,
   "metadata": {
    "collapsed": true
   },
   "outputs": [],
   "source": [
    "output_data = np.array(data[0].apply(lambda class_of_doc : class_of_doc -1))\n",
    "input_data = np.array(data.drop(0, axis=1))\n",
    "output_data = to_categorical(output_data, num_classes)\n",
    "x_train = input_data[:int(0.85*row)]\n",
    "x_test = input_data[int(0.85*row):]\n",
    "y_train = output_data[:int(0.85*row)]\n",
    "y_test = output_data[int(0.85*row):]"
   ]
  },
  {
   "cell_type": "code",
   "execution_count": 21,
   "metadata": {
    "collapsed": true
   },
   "outputs": [],
   "source": [
    "model3 = Sequential()\n",
    "model3.add(Dense(400, activation='sigmoid',input_shape = (856,)))\n",
    "model3.add(Dense(300,activation='sigmoid'))\n",
    "model3.add(Dense(200,activation='sigmoid'))\n",
    "model3.add(Dense(num_classes,activation='softmax'))"
   ]
  },
  {
   "cell_type": "code",
   "execution_count": 22,
   "metadata": {},
   "outputs": [
    {
     "name": "stdout",
     "output_type": "stream",
     "text": [
      "_________________________________________________________________\n",
      "Layer (type)                 Output Shape              Param #   \n",
      "=================================================================\n",
      "dense_6 (Dense)              (None, 400)               342800    \n",
      "_________________________________________________________________\n",
      "dense_7 (Dense)              (None, 300)               120300    \n",
      "_________________________________________________________________\n",
      "dense_8 (Dense)              (None, 200)               60200     \n",
      "_________________________________________________________________\n",
      "dense_9 (Dense)              (None, 9)                 1809      \n",
      "=================================================================\n",
      "Total params: 525,109\n",
      "Trainable params: 525,109\n",
      "Non-trainable params: 0\n",
      "_________________________________________________________________\n"
     ]
    }
   ],
   "source": [
    "model3.compile(optimizer='rmsprop',\n",
    "          loss='categorical_crossentropy',\n",
    "          metrics=['accuracy'])\n",
    "model3.summary()"
   ]
  },
  {
   "cell_type": "code",
   "execution_count": 23,
   "metadata": {},
   "outputs": [
    {
     "name": "stdout",
     "output_type": "stream",
     "text": [
      "Train on 826 samples, validate on 92 samples\n",
      "Epoch 1/12\n",
      "0s - loss: 2.2483 - acc: 0.1259 - val_loss: 2.2348 - val_acc: 0.1304\n",
      "Epoch 2/12\n",
      "0s - loss: 2.1418 - acc: 0.1998 - val_loss: 2.0397 - val_acc: 0.1957\n",
      "Epoch 3/12\n",
      "0s - loss: 1.7072 - acc: 0.4286 - val_loss: 1.4499 - val_acc: 0.4565\n",
      "Epoch 4/12\n",
      "0s - loss: 1.0989 - acc: 0.6477 - val_loss: 0.9563 - val_acc: 0.7717\n",
      "Epoch 5/12\n",
      "0s - loss: 0.7085 - acc: 0.7893 - val_loss: 0.7343 - val_acc: 0.7500\n",
      "Epoch 6/12\n",
      "0s - loss: 0.4807 - acc: 0.8596 - val_loss: 0.5470 - val_acc: 0.8913\n",
      "Epoch 7/12\n",
      "0s - loss: 0.3482 - acc: 0.9031 - val_loss: 0.4145 - val_acc: 0.8913\n",
      "Epoch 8/12\n",
      "0s - loss: 0.2499 - acc: 0.9346 - val_loss: 0.3420 - val_acc: 0.8696\n",
      "Epoch 9/12\n",
      "0s - loss: 0.1816 - acc: 0.9516 - val_loss: 0.2607 - val_acc: 0.9239\n",
      "Epoch 10/12\n",
      "0s - loss: 0.1424 - acc: 0.9613 - val_loss: 0.2397 - val_acc: 0.9348\n",
      "Epoch 11/12\n",
      "0s - loss: 0.1226 - acc: 0.9637 - val_loss: 0.2669 - val_acc: 0.9239\n",
      "Epoch 12/12\n",
      "0s - loss: 0.0831 - acc: 0.9746 - val_loss: 0.2845 - val_acc: 0.9022\n"
     ]
    }
   ],
   "source": [
    "model_fit = model3.fit(x_train,y_train,verbose=2,batch_size=batch_size,epochs=epochs,validation_split=0.1)"
   ]
  },
  {
   "cell_type": "code",
   "execution_count": 24,
   "metadata": {},
   "outputs": [
    {
     "name": "stdout",
     "output_type": "stream",
     "text": [
      "\r",
      " 32/162 [====>.........................] - ETA: 0s"
     ]
    },
    {
     "data": {
      "text/html": [
       "<div>\n",
       "<table border=\"1\" class=\"dataframe\">\n",
       "  <thead>\n",
       "    <tr style=\"text-align: right;\">\n",
       "      <th>col_0</th>\n",
       "      <th>1</th>\n",
       "      <th>2</th>\n",
       "      <th>3</th>\n",
       "      <th>4</th>\n",
       "      <th>5</th>\n",
       "      <th>6</th>\n",
       "      <th>7</th>\n",
       "      <th>8</th>\n",
       "      <th>9</th>\n",
       "    </tr>\n",
       "    <tr>\n",
       "      <th>row_0</th>\n",
       "      <th></th>\n",
       "      <th></th>\n",
       "      <th></th>\n",
       "      <th></th>\n",
       "      <th></th>\n",
       "      <th></th>\n",
       "      <th></th>\n",
       "      <th></th>\n",
       "      <th></th>\n",
       "    </tr>\n",
       "  </thead>\n",
       "  <tbody>\n",
       "    <tr>\n",
       "      <th>1</th>\n",
       "      <td>17</td>\n",
       "      <td>0</td>\n",
       "      <td>0</td>\n",
       "      <td>0</td>\n",
       "      <td>0</td>\n",
       "      <td>0</td>\n",
       "      <td>0</td>\n",
       "      <td>0</td>\n",
       "      <td>0</td>\n",
       "    </tr>\n",
       "    <tr>\n",
       "      <th>2</th>\n",
       "      <td>1</td>\n",
       "      <td>18</td>\n",
       "      <td>0</td>\n",
       "      <td>0</td>\n",
       "      <td>0</td>\n",
       "      <td>0</td>\n",
       "      <td>0</td>\n",
       "      <td>0</td>\n",
       "      <td>0</td>\n",
       "    </tr>\n",
       "    <tr>\n",
       "      <th>3</th>\n",
       "      <td>0</td>\n",
       "      <td>0</td>\n",
       "      <td>17</td>\n",
       "      <td>0</td>\n",
       "      <td>0</td>\n",
       "      <td>0</td>\n",
       "      <td>0</td>\n",
       "      <td>0</td>\n",
       "      <td>0</td>\n",
       "    </tr>\n",
       "    <tr>\n",
       "      <th>4</th>\n",
       "      <td>0</td>\n",
       "      <td>0</td>\n",
       "      <td>1</td>\n",
       "      <td>18</td>\n",
       "      <td>0</td>\n",
       "      <td>0</td>\n",
       "      <td>0</td>\n",
       "      <td>0</td>\n",
       "      <td>1</td>\n",
       "    </tr>\n",
       "    <tr>\n",
       "      <th>5</th>\n",
       "      <td>0</td>\n",
       "      <td>0</td>\n",
       "      <td>0</td>\n",
       "      <td>0</td>\n",
       "      <td>18</td>\n",
       "      <td>0</td>\n",
       "      <td>0</td>\n",
       "      <td>0</td>\n",
       "      <td>0</td>\n",
       "    </tr>\n",
       "    <tr>\n",
       "      <th>6</th>\n",
       "      <td>0</td>\n",
       "      <td>0</td>\n",
       "      <td>0</td>\n",
       "      <td>0</td>\n",
       "      <td>0</td>\n",
       "      <td>17</td>\n",
       "      <td>0</td>\n",
       "      <td>0</td>\n",
       "      <td>0</td>\n",
       "    </tr>\n",
       "    <tr>\n",
       "      <th>7</th>\n",
       "      <td>0</td>\n",
       "      <td>0</td>\n",
       "      <td>0</td>\n",
       "      <td>0</td>\n",
       "      <td>0</td>\n",
       "      <td>0</td>\n",
       "      <td>15</td>\n",
       "      <td>0</td>\n",
       "      <td>0</td>\n",
       "    </tr>\n",
       "    <tr>\n",
       "      <th>8</th>\n",
       "      <td>0</td>\n",
       "      <td>0</td>\n",
       "      <td>0</td>\n",
       "      <td>0</td>\n",
       "      <td>0</td>\n",
       "      <td>0</td>\n",
       "      <td>0</td>\n",
       "      <td>18</td>\n",
       "      <td>0</td>\n",
       "    </tr>\n",
       "    <tr>\n",
       "      <th>9</th>\n",
       "      <td>0</td>\n",
       "      <td>0</td>\n",
       "      <td>0</td>\n",
       "      <td>0</td>\n",
       "      <td>0</td>\n",
       "      <td>1</td>\n",
       "      <td>3</td>\n",
       "      <td>0</td>\n",
       "      <td>17</td>\n",
       "    </tr>\n",
       "  </tbody>\n",
       "</table>\n",
       "</div>"
      ],
      "text/plain": [
       "col_0   1   2   3   4   5   6   7   8   9\n",
       "row_0                                    \n",
       "1      17   0   0   0   0   0   0   0   0\n",
       "2       1  18   0   0   0   0   0   0   0\n",
       "3       0   0  17   0   0   0   0   0   0\n",
       "4       0   0   1  18   0   0   0   0   1\n",
       "5       0   0   0   0  18   0   0   0   0\n",
       "6       0   0   0   0   0  17   0   0   0\n",
       "7       0   0   0   0   0   0  15   0   0\n",
       "8       0   0   0   0   0   0   0  18   0\n",
       "9       0   0   0   0   0   1   3   0  17"
      ]
     },
     "execution_count": 24,
     "metadata": {},
     "output_type": "execute_result"
    }
   ],
   "source": [
    "output_data = np.array(data[0])\n",
    "y_test = output_data[int(0.85*row):]\n",
    "predicted_classes = model3.predict_classes(x_test)\n",
    "predicted_classes = predicted_classes + 1\n",
    "pd.crosstab(predicted_classes,y_test)"
   ]
  },
  {
   "cell_type": "code",
   "execution_count": 25,
   "metadata": {},
   "outputs": [],
   "source": [
    "test_fail = [im for im in zip(predicted_classes,y_test) if im[0] != im[1]]\n",
    "accuracy = ((162- len(test_fail))*100/162)\n",
    "test_accuracy.append(accuracy)\n",
    "train_accuracy.append(model_fit.history['acc'][epochs-1])"
   ]
  },
  {
   "cell_type": "code",
   "execution_count": 26,
   "metadata": {},
   "outputs": [
    {
     "data": {
      "image/png": "[encoded data removed]",
      "text/plain": [
       "<matplotlib.figure.Figure at 0x7f1c1dac6d30>"
      ]
     },
     "metadata": {},
     "output_type": "display_data"
    }
   ],
   "source": [
    "plt.plot(model_fit.epoch, model_fit.history['val_acc'])\n",
    "plt.plot(model_fit.epoch, model_fit.history['acc'])\n",
    "plt.legend(['Validation Accuracy','Train Accuracy'])\n",
    "plt.show()"
   ]
  },
  {
   "cell_type": "markdown",
   "metadata": {},
   "source": [
    "# Model with 4 Hidden Layers"
   ]
  },
  {
   "cell_type": "code",
   "execution_count": 27,
   "metadata": {
    "collapsed": true
   },
   "outputs": [],
   "source": [
    "output_data = np.array(data[0].apply(lambda class_of_doc : class_of_doc -1))\n",
    "input_data = np.array(data.drop(0, axis=1))\n",
    "output_data = to_categorical(output_data, num_classes)\n",
    "x_train = input_data[:int(0.85*row)]\n",
    "x_test = input_data[int(0.85*row):]\n",
    "y_train = output_data[:int(0.85*row)]\n",
    "y_test = output_data[int(0.85*row):]"
   ]
  },
  {
   "cell_type": "code",
   "execution_count": 28,
   "metadata": {
    "collapsed": true
   },
   "outputs": [],
   "source": [
    "model4 = Sequential()\n",
    "model4.add(Dense(400, activation='sigmoid',input_shape = (856,)))\n",
    "model4.add(Dense(300,activation='sigmoid'))\n",
    "model4.add(Dense(200,activation='sigmoid'))\n",
    "model4.add(Dense(100,activation='sigmoid'))\n",
    "model4.add(Dense(num_classes,activation='softmax'))"
   ]
  },
  {
   "cell_type": "code",
   "execution_count": 29,
   "metadata": {},
   "outputs": [
    {
     "name": "stdout",
     "output_type": "stream",
     "text": [
      "_________________________________________________________________\n",
      "Layer (type)                 Output Shape              Param #   \n",
      "=================================================================\n",
      "dense_10 (Dense)             (None, 400)               342800    \n",
      "_________________________________________________________________\n",
      "dense_11 (Dense)             (None, 300)               120300    \n",
      "_________________________________________________________________\n",
      "dense_12 (Dense)             (None, 200)               60200     \n",
      "_________________________________________________________________\n",
      "dense_13 (Dense)             (None, 100)               20100     \n",
      "_________________________________________________________________\n",
      "dense_14 (Dense)             (None, 9)                 909       \n",
      "=================================================================\n",
      "Total params: 544,309\n",
      "Trainable params: 544,309\n",
      "Non-trainable params: 0\n",
      "_________________________________________________________________\n"
     ]
    }
   ],
   "source": [
    "model4.compile(optimizer='rmsprop',\n",
    "          loss='categorical_crossentropy',\n",
    "          metrics=['accuracy'])\n",
    "model4.summary()"
   ]
  },
  {
   "cell_type": "code",
   "execution_count": 30,
   "metadata": {},
   "outputs": [
    {
     "name": "stdout",
     "output_type": "stream",
     "text": [
      "Train on 826 samples, validate on 92 samples\n",
      "Epoch 1/12\n",
      "0s - loss: 2.2469 - acc: 0.1223 - val_loss: 2.2167 - val_acc: 0.1087\n",
      "Epoch 2/12\n",
      "0s - loss: 2.2068 - acc: 0.1368 - val_loss: 2.1498 - val_acc: 0.2065\n",
      "Epoch 3/12\n",
      "0s - loss: 1.9438 - acc: 0.3184 - val_loss: 1.6673 - val_acc: 0.3478\n",
      "Epoch 4/12\n",
      "0s - loss: 1.3722 - acc: 0.5073 - val_loss: 1.2170 - val_acc: 0.5652\n",
      "Epoch 5/12\n",
      "0s - loss: 1.0162 - acc: 0.6574 - val_loss: 1.0653 - val_acc: 0.6413\n",
      "Epoch 6/12\n",
      "0s - loss: 0.7539 - acc: 0.7603 - val_loss: 0.7806 - val_acc: 0.7717\n",
      "Epoch 7/12\n",
      "0s - loss: 0.5706 - acc: 0.8281 - val_loss: 0.6407 - val_acc: 0.8152\n",
      "Epoch 8/12\n",
      "0s - loss: 0.4413 - acc: 0.8910 - val_loss: 0.5580 - val_acc: 0.8370\n",
      "Epoch 9/12\n",
      "0s - loss: 0.3400 - acc: 0.9189 - val_loss: 0.4934 - val_acc: 0.8370\n",
      "Epoch 10/12\n",
      "0s - loss: 0.2850 - acc: 0.9274 - val_loss: 0.4340 - val_acc: 0.9022\n",
      "Epoch 11/12\n",
      "0s - loss: 0.2402 - acc: 0.9358 - val_loss: 0.4076 - val_acc: 0.9130\n",
      "Epoch 12/12\n",
      "0s - loss: 0.1813 - acc: 0.9564 - val_loss: 0.3915 - val_acc: 0.9022\n"
     ]
    }
   ],
   "source": [
    "model_fit = model4.fit(x_train,y_train,verbose=2,batch_size=batch_size,epochs=epochs,validation_split=0.1)"
   ]
  },
  {
   "cell_type": "code",
   "execution_count": 31,
   "metadata": {},
   "outputs": [
    {
     "name": "stdout",
     "output_type": "stream",
     "text": [
      "\r",
      " 32/162 [====>.........................] - ETA: 0s"
     ]
    },
    {
     "data": {
      "text/html": [
       "<div>\n",
       "<table border=\"1\" class=\"dataframe\">\n",
       "  <thead>\n",
       "    <tr style=\"text-align: right;\">\n",
       "      <th>col_0</th>\n",
       "      <th>1</th>\n",
       "      <th>2</th>\n",
       "      <th>3</th>\n",
       "      <th>4</th>\n",
       "      <th>5</th>\n",
       "      <th>6</th>\n",
       "      <th>7</th>\n",
       "      <th>8</th>\n",
       "      <th>9</th>\n",
       "    </tr>\n",
       "    <tr>\n",
       "      <th>row_0</th>\n",
       "      <th></th>\n",
       "      <th></th>\n",
       "      <th></th>\n",
       "      <th></th>\n",
       "      <th></th>\n",
       "      <th></th>\n",
       "      <th></th>\n",
       "      <th></th>\n",
       "      <th></th>\n",
       "    </tr>\n",
       "  </thead>\n",
       "  <tbody>\n",
       "    <tr>\n",
       "      <th>1</th>\n",
       "      <td>17</td>\n",
       "      <td>1</td>\n",
       "      <td>0</td>\n",
       "      <td>0</td>\n",
       "      <td>0</td>\n",
       "      <td>0</td>\n",
       "      <td>0</td>\n",
       "      <td>0</td>\n",
       "      <td>0</td>\n",
       "    </tr>\n",
       "    <tr>\n",
       "      <th>2</th>\n",
       "      <td>0</td>\n",
       "      <td>17</td>\n",
       "      <td>0</td>\n",
       "      <td>0</td>\n",
       "      <td>0</td>\n",
       "      <td>0</td>\n",
       "      <td>0</td>\n",
       "      <td>0</td>\n",
       "      <td>0</td>\n",
       "    </tr>\n",
       "    <tr>\n",
       "      <th>3</th>\n",
       "      <td>0</td>\n",
       "      <td>0</td>\n",
       "      <td>18</td>\n",
       "      <td>0</td>\n",
       "      <td>0</td>\n",
       "      <td>0</td>\n",
       "      <td>0</td>\n",
       "      <td>0</td>\n",
       "      <td>0</td>\n",
       "    </tr>\n",
       "    <tr>\n",
       "      <th>4</th>\n",
       "      <td>0</td>\n",
       "      <td>0</td>\n",
       "      <td>0</td>\n",
       "      <td>16</td>\n",
       "      <td>0</td>\n",
       "      <td>0</td>\n",
       "      <td>0</td>\n",
       "      <td>0</td>\n",
       "      <td>1</td>\n",
       "    </tr>\n",
       "    <tr>\n",
       "      <th>5</th>\n",
       "      <td>0</td>\n",
       "      <td>0</td>\n",
       "      <td>0</td>\n",
       "      <td>0</td>\n",
       "      <td>18</td>\n",
       "      <td>0</td>\n",
       "      <td>0</td>\n",
       "      <td>0</td>\n",
       "      <td>0</td>\n",
       "    </tr>\n",
       "    <tr>\n",
       "      <th>6</th>\n",
       "      <td>1</td>\n",
       "      <td>0</td>\n",
       "      <td>0</td>\n",
       "      <td>0</td>\n",
       "      <td>0</td>\n",
       "      <td>17</td>\n",
       "      <td>2</td>\n",
       "      <td>0</td>\n",
       "      <td>0</td>\n",
       "    </tr>\n",
       "    <tr>\n",
       "      <th>7</th>\n",
       "      <td>0</td>\n",
       "      <td>0</td>\n",
       "      <td>0</td>\n",
       "      <td>0</td>\n",
       "      <td>0</td>\n",
       "      <td>0</td>\n",
       "      <td>16</td>\n",
       "      <td>0</td>\n",
       "      <td>0</td>\n",
       "    </tr>\n",
       "    <tr>\n",
       "      <th>8</th>\n",
       "      <td>0</td>\n",
       "      <td>0</td>\n",
       "      <td>0</td>\n",
       "      <td>0</td>\n",
       "      <td>0</td>\n",
       "      <td>0</td>\n",
       "      <td>0</td>\n",
       "      <td>18</td>\n",
       "      <td>1</td>\n",
       "    </tr>\n",
       "    <tr>\n",
       "      <th>9</th>\n",
       "      <td>0</td>\n",
       "      <td>0</td>\n",
       "      <td>0</td>\n",
       "      <td>2</td>\n",
       "      <td>0</td>\n",
       "      <td>1</td>\n",
       "      <td>0</td>\n",
       "      <td>0</td>\n",
       "      <td>16</td>\n",
       "    </tr>\n",
       "  </tbody>\n",
       "</table>\n",
       "</div>"
      ],
      "text/plain": [
       "col_0   1   2   3   4   5   6   7   8   9\n",
       "row_0                                    \n",
       "1      17   1   0   0   0   0   0   0   0\n",
       "2       0  17   0   0   0   0   0   0   0\n",
       "3       0   0  18   0   0   0   0   0   0\n",
       "4       0   0   0  16   0   0   0   0   1\n",
       "5       0   0   0   0  18   0   0   0   0\n",
       "6       1   0   0   0   0  17   2   0   0\n",
       "7       0   0   0   0   0   0  16   0   0\n",
       "8       0   0   0   0   0   0   0  18   1\n",
       "9       0   0   0   2   0   1   0   0  16"
      ]
     },
     "execution_count": 31,
     "metadata": {},
     "output_type": "execute_result"
    }
   ],
   "source": [
    "output_data = np.array(data[0])\n",
    "y_test = output_data[int(0.85*row):]\n",
    "predicted_classes = model4.predict_classes(x_test)\n",
    "predicted_classes = predicted_classes + 1\n",
    "pd.crosstab(predicted_classes,y_test)"
   ]
  },
  {
   "cell_type": "code",
   "execution_count": 32,
   "metadata": {},
   "outputs": [],
   "source": [
    "test_fail = [im for im in zip(predicted_classes,y_test) if im[0] != im[1]]\n",
    "accuracy = ((162- len(test_fail))*100/162)\n",
    "test_accuracy.append(accuracy)\n",
    "train_accuracy.append(model_fit.history['acc'][epochs-1])"
   ]
  },
  {
   "cell_type": "code",
   "execution_count": 33,
   "metadata": {},
   "outputs": [
    {
     "data": {
      "image/png": "[encoded data removed]",
      "text/plain": [
       "<matplotlib.figure.Figure at 0x7f1c1cd8a8d0>"
      ]
     },
     "metadata": {},
     "output_type": "display_data"
    }
   ],
   "source": [
    "plt.plot(model_fit.epoch, model_fit.history['val_acc'])\n",
    "plt.plot(model_fit.epoch, model_fit.history['acc'])\n",
    "plt.legend(['Validation Accuracy','Train Accuracy'])\n",
    "plt.show()"
   ]
  },
  {
   "cell_type": "markdown",
   "metadata": {},
   "source": [
    "# Model with 5 hidden layers"
   ]
  },
  {
   "cell_type": "code",
   "execution_count": 34,
   "metadata": {
    "collapsed": true
   },
   "outputs": [],
   "source": [
    "output_data = np.array(data[0].apply(lambda class_of_doc : class_of_doc -1))\n",
    "input_data = np.array(data.drop(0, axis=1))\n",
    "output_data = to_categorical(output_data, num_classes)\n",
    "x_train = input_data[:int(0.85*row)]\n",
    "x_test = input_data[int(0.85*row):]\n",
    "y_train = output_data[:int(0.85*row)]\n",
    "y_test = output_data[int(0.85*row):]"
   ]
  },
  {
   "cell_type": "code",
   "execution_count": 35,
   "metadata": {
    "collapsed": true
   },
   "outputs": [],
   "source": [
    "model5 = Sequential()\n",
    "model5.add(Dense(500, activation='sigmoid',input_shape = (856,)))\n",
    "model5.add(Dense(400,activation='sigmoid'))\n",
    "model5.add(Dense(300,activation='sigmoid'))\n",
    "model5.add(Dense(200,activation='sigmoid'))\n",
    "model5.add(Dense(100,activation='sigmoid'))\n",
    "model5.add(Dense(num_classes,activation='softmax'))"
   ]
  },
  {
   "cell_type": "code",
   "execution_count": 36,
   "metadata": {},
   "outputs": [
    {
     "name": "stdout",
     "output_type": "stream",
     "text": [
      "_________________________________________________________________\n",
      "Layer (type)                 Output Shape              Param #   \n",
      "=================================================================\n",
      "dense_15 (Dense)             (None, 500)               428500    \n",
      "_________________________________________________________________\n",
      "dense_16 (Dense)             (None, 400)               200400    \n",
      "_________________________________________________________________\n",
      "dense_17 (Dense)             (None, 300)               120300    \n",
      "_________________________________________________________________\n",
      "dense_18 (Dense)             (None, 200)               60200     \n",
      "_________________________________________________________________\n",
      "dense_19 (Dense)             (None, 100)               20100     \n",
      "_________________________________________________________________\n",
      "dense_20 (Dense)             (None, 9)                 909       \n",
      "=================================================================\n",
      "Total params: 830,409\n",
      "Trainable params: 830,409\n",
      "Non-trainable params: 0\n",
      "_________________________________________________________________\n"
     ]
    }
   ],
   "source": [
    "model5.compile(optimizer='rmsprop',\n",
    "          loss='categorical_crossentropy',\n",
    "          metrics=['accuracy'])\n",
    "model5.summary()"
   ]
  },
  {
   "cell_type": "code",
   "execution_count": 37,
   "metadata": {},
   "outputs": [
    {
     "name": "stdout",
     "output_type": "stream",
     "text": [
      "Train on 826 samples, validate on 92 samples\n",
      "Epoch 1/12\n",
      "1s - loss: 2.2527 - acc: 0.0956 - val_loss: 2.2095 - val_acc: 0.1196\n",
      "Epoch 2/12\n",
      "0s - loss: 2.2189 - acc: 0.1186 - val_loss: 2.2248 - val_acc: 0.1087\n",
      "Epoch 3/12\n",
      "0s - loss: 1.9732 - acc: 0.2688 - val_loss: 1.5701 - val_acc: 0.4674\n",
      "Epoch 4/12\n",
      "0s - loss: 1.3346 - acc: 0.5000 - val_loss: 1.3355 - val_acc: 0.4891\n",
      "Epoch 5/12\n",
      "0s - loss: 1.0066 - acc: 0.6295 - val_loss: 0.8765 - val_acc: 0.7500\n",
      "Epoch 6/12\n",
      "0s - loss: 0.7961 - acc: 0.7191 - val_loss: 0.8037 - val_acc: 0.6957\n",
      "Epoch 7/12\n",
      "0s - loss: 0.6413 - acc: 0.7579 - val_loss: 0.6368 - val_acc: 0.7935\n",
      "Epoch 8/12\n",
      "0s - loss: 0.5418 - acc: 0.7954 - val_loss: 0.6848 - val_acc: 0.7717\n",
      "Epoch 9/12\n",
      "0s - loss: 0.4585 - acc: 0.8329 - val_loss: 0.6527 - val_acc: 0.7500\n",
      "Epoch 10/12\n",
      "0s - loss: 0.3849 - acc: 0.8584 - val_loss: 0.7394 - val_acc: 0.6957\n",
      "Epoch 11/12\n",
      "0s - loss: 0.3666 - acc: 0.8826 - val_loss: 0.7371 - val_acc: 0.8152\n",
      "Epoch 12/12\n",
      "0s - loss: 0.3323 - acc: 0.8935 - val_loss: 0.5095 - val_acc: 0.8804\n"
     ]
    }
   ],
   "source": [
    "model_fit = model5.fit(x_train,y_train,verbose=2,batch_size=batch_size,epochs=epochs,validation_split=0.1)"
   ]
  },
  {
   "cell_type": "code",
   "execution_count": 38,
   "metadata": {},
   "outputs": [
    {
     "name": "stdout",
     "output_type": "stream",
     "text": [
      "\r",
      " 32/162 [====>.........................] - ETA: 0s"
     ]
    },
    {
     "data": {
      "text/html": [
       "<div>\n",
       "<table border=\"1\" class=\"dataframe\">\n",
       "  <thead>\n",
       "    <tr style=\"text-align: right;\">\n",
       "      <th>col_0</th>\n",
       "      <th>1</th>\n",
       "      <th>2</th>\n",
       "      <th>3</th>\n",
       "      <th>4</th>\n",
       "      <th>5</th>\n",
       "      <th>6</th>\n",
       "      <th>7</th>\n",
       "      <th>8</th>\n",
       "      <th>9</th>\n",
       "    </tr>\n",
       "    <tr>\n",
       "      <th>row_0</th>\n",
       "      <th></th>\n",
       "      <th></th>\n",
       "      <th></th>\n",
       "      <th></th>\n",
       "      <th></th>\n",
       "      <th></th>\n",
       "      <th></th>\n",
       "      <th></th>\n",
       "      <th></th>\n",
       "    </tr>\n",
       "  </thead>\n",
       "  <tbody>\n",
       "    <tr>\n",
       "      <th>1</th>\n",
       "      <td>15</td>\n",
       "      <td>0</td>\n",
       "      <td>0</td>\n",
       "      <td>0</td>\n",
       "      <td>0</td>\n",
       "      <td>0</td>\n",
       "      <td>0</td>\n",
       "      <td>1</td>\n",
       "      <td>0</td>\n",
       "    </tr>\n",
       "    <tr>\n",
       "      <th>2</th>\n",
       "      <td>0</td>\n",
       "      <td>18</td>\n",
       "      <td>0</td>\n",
       "      <td>0</td>\n",
       "      <td>0</td>\n",
       "      <td>0</td>\n",
       "      <td>0</td>\n",
       "      <td>2</td>\n",
       "      <td>0</td>\n",
       "    </tr>\n",
       "    <tr>\n",
       "      <th>3</th>\n",
       "      <td>3</td>\n",
       "      <td>0</td>\n",
       "      <td>16</td>\n",
       "      <td>0</td>\n",
       "      <td>0</td>\n",
       "      <td>0</td>\n",
       "      <td>1</td>\n",
       "      <td>0</td>\n",
       "      <td>0</td>\n",
       "    </tr>\n",
       "    <tr>\n",
       "      <th>4</th>\n",
       "      <td>0</td>\n",
       "      <td>0</td>\n",
       "      <td>1</td>\n",
       "      <td>15</td>\n",
       "      <td>0</td>\n",
       "      <td>0</td>\n",
       "      <td>0</td>\n",
       "      <td>0</td>\n",
       "      <td>0</td>\n",
       "    </tr>\n",
       "    <tr>\n",
       "      <th>5</th>\n",
       "      <td>0</td>\n",
       "      <td>0</td>\n",
       "      <td>0</td>\n",
       "      <td>0</td>\n",
       "      <td>18</td>\n",
       "      <td>0</td>\n",
       "      <td>0</td>\n",
       "      <td>0</td>\n",
       "      <td>0</td>\n",
       "    </tr>\n",
       "    <tr>\n",
       "      <th>6</th>\n",
       "      <td>0</td>\n",
       "      <td>0</td>\n",
       "      <td>0</td>\n",
       "      <td>0</td>\n",
       "      <td>0</td>\n",
       "      <td>16</td>\n",
       "      <td>2</td>\n",
       "      <td>0</td>\n",
       "      <td>2</td>\n",
       "    </tr>\n",
       "    <tr>\n",
       "      <th>7</th>\n",
       "      <td>0</td>\n",
       "      <td>0</td>\n",
       "      <td>0</td>\n",
       "      <td>0</td>\n",
       "      <td>0</td>\n",
       "      <td>0</td>\n",
       "      <td>15</td>\n",
       "      <td>0</td>\n",
       "      <td>0</td>\n",
       "    </tr>\n",
       "    <tr>\n",
       "      <th>8</th>\n",
       "      <td>0</td>\n",
       "      <td>0</td>\n",
       "      <td>0</td>\n",
       "      <td>0</td>\n",
       "      <td>0</td>\n",
       "      <td>0</td>\n",
       "      <td>0</td>\n",
       "      <td>15</td>\n",
       "      <td>0</td>\n",
       "    </tr>\n",
       "    <tr>\n",
       "      <th>9</th>\n",
       "      <td>0</td>\n",
       "      <td>0</td>\n",
       "      <td>1</td>\n",
       "      <td>3</td>\n",
       "      <td>0</td>\n",
       "      <td>2</td>\n",
       "      <td>0</td>\n",
       "      <td>0</td>\n",
       "      <td>16</td>\n",
       "    </tr>\n",
       "  </tbody>\n",
       "</table>\n",
       "</div>"
      ],
      "text/plain": [
       "col_0   1   2   3   4   5   6   7   8   9\n",
       "row_0                                    \n",
       "1      15   0   0   0   0   0   0   1   0\n",
       "2       0  18   0   0   0   0   0   2   0\n",
       "3       3   0  16   0   0   0   1   0   0\n",
       "4       0   0   1  15   0   0   0   0   0\n",
       "5       0   0   0   0  18   0   0   0   0\n",
       "6       0   0   0   0   0  16   2   0   2\n",
       "7       0   0   0   0   0   0  15   0   0\n",
       "8       0   0   0   0   0   0   0  15   0\n",
       "9       0   0   1   3   0   2   0   0  16"
      ]
     },
     "execution_count": 38,
     "metadata": {},
     "output_type": "execute_result"
    }
   ],
   "source": [
    "output_data = np.array(data[0])\n",
    "y_test = output_data[int(0.85*row):]\n",
    "predicted_classes = model5.predict_classes(x_test)\n",
    "predicted_classes = predicted_classes + 1\n",
    "pd.crosstab(predicted_classes,y_test)"
   ]
  },
  {
   "cell_type": "code",
   "execution_count": 39,
   "metadata": {},
   "outputs": [],
   "source": [
    "test_fail = [im for im in zip(predicted_classes,y_test) if im[0] != im[1]]\n",
    "accuracy = ((162- len(test_fail))*100/162)\n",
    "test_accuracy.append(accuracy)\n",
    "train_accuracy.append(model_fit.history['acc'][epochs-1])"
   ]
  },
  {
   "cell_type": "code",
   "execution_count": 40,
   "metadata": {},
   "outputs": [
    {
     "data": {
      "image/png": "[encoded data removed]",
      "text/plain": [
       "<matplotlib.figure.Figure at 0x7f1c17ed5fd0>"
      ]
     },
     "metadata": {},
     "output_type": "display_data"
    }
   ],
   "source": [
    "plt.plot(model_fit.epoch, model_fit.history['val_acc'])\n",
    "plt.plot(model_fit.epoch, model_fit.history['acc'])\n",
    "plt.legend(['Validation Accuracy','Train Accuracy'])\n",
    "plt.show()"
   ]
  },
  {
   "cell_type": "markdown",
   "metadata": {},
   "source": [
    "# Model with 6 hidden layer"
   ]
  },
  {
   "cell_type": "code",
   "execution_count": 41,
   "metadata": {
    "collapsed": true
   },
   "outputs": [],
   "source": [
    "output_data = np.array(data[0].apply(lambda class_of_doc : class_of_doc -1))\n",
    "input_data = np.array(data.drop(0, axis=1))\n",
    "output_data = to_categorical(output_data, num_classes)\n",
    "x_train = input_data[:int(0.85*row)]\n",
    "x_test = input_data[int(0.85*row):]\n",
    "y_train = output_data[:int(0.85*row)]\n",
    "y_test = output_data[int(0.85*row):]"
   ]
  },
  {
   "cell_type": "code",
   "execution_count": 42,
   "metadata": {
    "collapsed": true
   },
   "outputs": [],
   "source": [
    "model6 = Sequential()\n",
    "model6.add(Dense(600, activation='sigmoid',input_shape = (856,)))\n",
    "model6.add(Dense(500,activation='sigmoid'))\n",
    "model6.add(Dense(400,activation='sigmoid'))\n",
    "model6.add(Dense(300,activation='sigmoid'))\n",
    "model6.add(Dense(200,activation='sigmoid'))\n",
    "model6.add(Dense(100,activation='sigmoid'))\n",
    "model6.add(Dense(num_classes,activation='softmax'))"
   ]
  },
  {
   "cell_type": "code",
   "execution_count": 43,
   "metadata": {},
   "outputs": [
    {
     "name": "stdout",
     "output_type": "stream",
     "text": [
      "_________________________________________________________________\n",
      "Layer (type)                 Output Shape              Param #   \n",
      "=================================================================\n",
      "dense_21 (Dense)             (None, 600)               514200    \n",
      "_________________________________________________________________\n",
      "dense_22 (Dense)             (None, 500)               300500    \n",
      "_________________________________________________________________\n",
      "dense_23 (Dense)             (None, 400)               200400    \n",
      "_________________________________________________________________\n",
      "dense_24 (Dense)             (None, 300)               120300    \n",
      "_________________________________________________________________\n",
      "dense_25 (Dense)             (None, 200)               60200     \n",
      "_________________________________________________________________\n",
      "dense_26 (Dense)             (None, 100)               20100     \n",
      "_________________________________________________________________\n",
      "dense_27 (Dense)             (None, 9)                 909       \n",
      "=================================================================\n",
      "Total params: 1,216,609\n",
      "Trainable params: 1,216,609\n",
      "Non-trainable params: 0\n",
      "_________________________________________________________________\n"
     ]
    }
   ],
   "source": [
    "model6.compile(optimizer='rmsprop',\n",
    "          loss='categorical_crossentropy',\n",
    "          metrics=['accuracy'])\n",
    "model6.summary()"
   ]
  },
  {
   "cell_type": "code",
   "execution_count": 44,
   "metadata": {},
   "outputs": [
    {
     "name": "stdout",
     "output_type": "stream",
     "text": [
      "Train on 826 samples, validate on 92 samples\n",
      "Epoch 1/12\n",
      "1s - loss: 2.2600 - acc: 0.0993 - val_loss: 2.2244 - val_acc: 0.1087\n",
      "Epoch 2/12\n",
      "1s - loss: 2.2357 - acc: 0.0908 - val_loss: 2.2108 - val_acc: 0.1739\n",
      "Epoch 3/12\n",
      "1s - loss: 2.0299 - acc: 0.1646 - val_loss: 1.7869 - val_acc: 0.2174\n",
      "Epoch 4/12\n",
      "1s - loss: 1.7163 - acc: 0.2421 - val_loss: 1.6446 - val_acc: 0.2609\n",
      "Epoch 5/12\n",
      "1s - loss: 1.6067 - acc: 0.3087 - val_loss: 1.6419 - val_acc: 0.2717\n",
      "Epoch 6/12\n",
      "1s - loss: 1.4718 - acc: 0.3765 - val_loss: 1.5263 - val_acc: 0.4348\n",
      "Epoch 7/12\n",
      "1s - loss: 1.3798 - acc: 0.3995 - val_loss: 1.3348 - val_acc: 0.4130\n",
      "Epoch 8/12\n",
      "1s - loss: 1.2699 - acc: 0.4661 - val_loss: 1.4902 - val_acc: 0.3261\n",
      "Epoch 9/12\n",
      "1s - loss: 1.1664 - acc: 0.4903 - val_loss: 1.4653 - val_acc: 0.3913\n",
      "Epoch 10/12\n",
      "1s - loss: 1.0961 - acc: 0.5145 - val_loss: 1.1558 - val_acc: 0.5543\n",
      "Epoch 11/12\n",
      "1s - loss: 1.0181 - acc: 0.5545 - val_loss: 1.3544 - val_acc: 0.4130\n",
      "Epoch 12/12\n",
      "1s - loss: 0.9618 - acc: 0.6017 - val_loss: 1.2305 - val_acc: 0.5000\n"
     ]
    }
   ],
   "source": [
    "model_fit = model6.fit(x_train,y_train,verbose=2,batch_size=batch_size,epochs=epochs,validation_split=0.1)"
   ]
  },
  {
   "cell_type": "code",
   "execution_count": 45,
   "metadata": {},
   "outputs": [
    {
     "name": "stdout",
     "output_type": "stream",
     "text": [
      "\r",
      " 32/162 [====>.........................] - ETA: 0s"
     ]
    },
    {
     "data": {
      "text/html": [
       "<div>\n",
       "<table border=\"1\" class=\"dataframe\">\n",
       "  <thead>\n",
       "    <tr style=\"text-align: right;\">\n",
       "      <th>col_0</th>\n",
       "      <th>1</th>\n",
       "      <th>2</th>\n",
       "      <th>3</th>\n",
       "      <th>4</th>\n",
       "      <th>5</th>\n",
       "      <th>6</th>\n",
       "      <th>7</th>\n",
       "      <th>8</th>\n",
       "      <th>9</th>\n",
       "    </tr>\n",
       "    <tr>\n",
       "      <th>row_0</th>\n",
       "      <th></th>\n",
       "      <th></th>\n",
       "      <th></th>\n",
       "      <th></th>\n",
       "      <th></th>\n",
       "      <th></th>\n",
       "      <th></th>\n",
       "      <th></th>\n",
       "      <th></th>\n",
       "    </tr>\n",
       "  </thead>\n",
       "  <tbody>\n",
       "    <tr>\n",
       "      <th>1</th>\n",
       "      <td>13</td>\n",
       "      <td>0</td>\n",
       "      <td>7</td>\n",
       "      <td>1</td>\n",
       "      <td>0</td>\n",
       "      <td>0</td>\n",
       "      <td>0</td>\n",
       "      <td>2</td>\n",
       "      <td>0</td>\n",
       "    </tr>\n",
       "    <tr>\n",
       "      <th>2</th>\n",
       "      <td>0</td>\n",
       "      <td>16</td>\n",
       "      <td>1</td>\n",
       "      <td>7</td>\n",
       "      <td>0</td>\n",
       "      <td>1</td>\n",
       "      <td>0</td>\n",
       "      <td>0</td>\n",
       "      <td>5</td>\n",
       "    </tr>\n",
       "    <tr>\n",
       "      <th>3</th>\n",
       "      <td>0</td>\n",
       "      <td>0</td>\n",
       "      <td>6</td>\n",
       "      <td>0</td>\n",
       "      <td>0</td>\n",
       "      <td>0</td>\n",
       "      <td>0</td>\n",
       "      <td>6</td>\n",
       "      <td>0</td>\n",
       "    </tr>\n",
       "    <tr>\n",
       "      <th>4</th>\n",
       "      <td>5</td>\n",
       "      <td>1</td>\n",
       "      <td>4</td>\n",
       "      <td>6</td>\n",
       "      <td>0</td>\n",
       "      <td>0</td>\n",
       "      <td>1</td>\n",
       "      <td>1</td>\n",
       "      <td>0</td>\n",
       "    </tr>\n",
       "    <tr>\n",
       "      <th>5</th>\n",
       "      <td>0</td>\n",
       "      <td>0</td>\n",
       "      <td>0</td>\n",
       "      <td>0</td>\n",
       "      <td>17</td>\n",
       "      <td>0</td>\n",
       "      <td>0</td>\n",
       "      <td>0</td>\n",
       "      <td>0</td>\n",
       "    </tr>\n",
       "    <tr>\n",
       "      <th>6</th>\n",
       "      <td>0</td>\n",
       "      <td>0</td>\n",
       "      <td>0</td>\n",
       "      <td>0</td>\n",
       "      <td>0</td>\n",
       "      <td>15</td>\n",
       "      <td>1</td>\n",
       "      <td>0</td>\n",
       "      <td>2</td>\n",
       "    </tr>\n",
       "    <tr>\n",
       "      <th>7</th>\n",
       "      <td>0</td>\n",
       "      <td>0</td>\n",
       "      <td>0</td>\n",
       "      <td>0</td>\n",
       "      <td>0</td>\n",
       "      <td>0</td>\n",
       "      <td>15</td>\n",
       "      <td>0</td>\n",
       "      <td>0</td>\n",
       "    </tr>\n",
       "    <tr>\n",
       "      <th>8</th>\n",
       "      <td>0</td>\n",
       "      <td>0</td>\n",
       "      <td>0</td>\n",
       "      <td>0</td>\n",
       "      <td>1</td>\n",
       "      <td>0</td>\n",
       "      <td>0</td>\n",
       "      <td>9</td>\n",
       "      <td>0</td>\n",
       "    </tr>\n",
       "    <tr>\n",
       "      <th>9</th>\n",
       "      <td>0</td>\n",
       "      <td>1</td>\n",
       "      <td>0</td>\n",
       "      <td>4</td>\n",
       "      <td>0</td>\n",
       "      <td>2</td>\n",
       "      <td>1</td>\n",
       "      <td>0</td>\n",
       "      <td>11</td>\n",
       "    </tr>\n",
       "  </tbody>\n",
       "</table>\n",
       "</div>"
      ],
      "text/plain": [
       "col_0   1   2  3  4   5   6   7  8   9\n",
       "row_0                                 \n",
       "1      13   0  7  1   0   0   0  2   0\n",
       "2       0  16  1  7   0   1   0  0   5\n",
       "3       0   0  6  0   0   0   0  6   0\n",
       "4       5   1  4  6   0   0   1  1   0\n",
       "5       0   0  0  0  17   0   0  0   0\n",
       "6       0   0  0  0   0  15   1  0   2\n",
       "7       0   0  0  0   0   0  15  0   0\n",
       "8       0   0  0  0   1   0   0  9   0\n",
       "9       0   1  0  4   0   2   1  0  11"
      ]
     },
     "execution_count": 45,
     "metadata": {},
     "output_type": "execute_result"
    }
   ],
   "source": [
    "output_data = np.array(data[0])\n",
    "y_test = output_data[int(0.85*row):]\n",
    "predicted_classes = model6.predict_classes(x_test)\n",
    "predicted_classes = predicted_classes + 1\n",
    "pd.crosstab(predicted_classes,y_test)"
   ]
  },
  {
   "cell_type": "code",
   "execution_count": 46,
   "metadata": {},
   "outputs": [],
   "source": [
    "test_fail = [im for im in zip(predicted_classes,y_test) if im[0] != im[1]]\n",
    "accuracy = ((162- len(test_fail))*100/162)\n",
    "test_accuracy.append(accuracy)\n",
    "train_accuracy.append(model_fit.history['acc'][epochs-1])"
   ]
  },
  {
   "cell_type": "code",
   "execution_count": 47,
   "metadata": {},
   "outputs": [
    {
     "data": {
      "image/png": "[encoded data removed]",
      "text/plain": [
       "<matplotlib.figure.Figure at 0x7f1c16acacf8>"
      ]
     },
     "metadata": {},
     "output_type": "display_data"
    }
   ],
   "source": [
    "plt.plot(model_fit.epoch, model_fit.history['val_acc'])\n",
    "plt.plot(model_fit.epoch, model_fit.history['acc'])\n",
    "plt.legend(['Validation Accuracy','Train Accuracy'])\n",
    "plt.show()"
   ]
  },
  {
   "cell_type": "markdown",
   "metadata": {},
   "source": [
    "# Model with 7 Hidden layer"
   ]
  },
  {
   "cell_type": "code",
   "execution_count": 48,
   "metadata": {
    "collapsed": true
   },
   "outputs": [],
   "source": [
    "output_data = np.array(data[0].apply(lambda class_of_doc : class_of_doc -1))\n",
    "input_data = np.array(data.drop(0, axis=1))\n",
    "output_data = to_categorical(output_data, num_classes)\n",
    "x_train = input_data[:int(0.85*row)]\n",
    "x_test = input_data[int(0.85*row):]\n",
    "y_train = output_data[:int(0.85*row)]\n",
    "y_test = output_data[int(0.85*row):]"
   ]
  },
  {
   "cell_type": "code",
   "execution_count": 49,
   "metadata": {
    "collapsed": true
   },
   "outputs": [],
   "source": [
    "model7 = Sequential()\n",
    "model7.add(Dense(700, activation='sigmoid',input_shape = (856,)))\n",
    "model7.add(Dense(600,activation='sigmoid'))\n",
    "model7.add(Dense(500,activation='sigmoid'))\n",
    "model7.add(Dense(400,activation='sigmoid'))\n",
    "model7.add(Dense(300,activation='sigmoid'))\n",
    "model7.add(Dense(200,activation='sigmoid'))\n",
    "model7.add(Dense(100,activation='sigmoid'))\n",
    "model7.add(Dense(num_classes,activation='softmax'))"
   ]
  },
  {
   "cell_type": "code",
   "execution_count": 50,
   "metadata": {},
   "outputs": [
    {
     "name": "stdout",
     "output_type": "stream",
     "text": [
      "_________________________________________________________________\n",
      "Layer (type)                 Output Shape              Param #   \n",
      "=================================================================\n",
      "dense_28 (Dense)             (None, 700)               599900    \n",
      "_________________________________________________________________\n",
      "dense_29 (Dense)             (None, 600)               420600    \n",
      "_________________________________________________________________\n",
      "dense_30 (Dense)             (None, 500)               300500    \n",
      "_________________________________________________________________\n",
      "dense_31 (Dense)             (None, 400)               200400    \n",
      "_________________________________________________________________\n",
      "dense_32 (Dense)             (None, 300)               120300    \n",
      "_________________________________________________________________\n",
      "dense_33 (Dense)             (None, 200)               60200     \n",
      "_________________________________________________________________\n",
      "dense_34 (Dense)             (None, 100)               20100     \n",
      "_________________________________________________________________\n",
      "dense_35 (Dense)             (None, 9)                 909       \n",
      "=================================================================\n",
      "Total params: 1,722,909\n",
      "Trainable params: 1,722,909\n",
      "Non-trainable params: 0\n",
      "_________________________________________________________________\n"
     ]
    }
   ],
   "source": [
    "model7.compile(optimizer='rmsprop',\n",
    "          loss='categorical_crossentropy',\n",
    "          metrics=['accuracy'])\n",
    "model7.summary()"
   ]
  },
  {
   "cell_type": "code",
   "execution_count": 51,
   "metadata": {},
   "outputs": [
    {
     "name": "stdout",
     "output_type": "stream",
     "text": [
      "Train on 826 samples, validate on 92 samples\n",
      "Epoch 1/12\n",
      "2s - loss: 2.2410 - acc: 0.1271 - val_loss: 2.2205 - val_acc: 0.1087\n",
      "Epoch 2/12\n",
      "1s - loss: 2.2218 - acc: 0.1199 - val_loss: 2.2233 - val_acc: 0.1087\n",
      "Epoch 3/12\n",
      "1s - loss: 2.1063 - acc: 0.1513 - val_loss: 1.7319 - val_acc: 0.2500\n",
      "Epoch 4/12\n",
      "1s - loss: 1.7818 - acc: 0.2058 - val_loss: 1.7969 - val_acc: 0.1957\n",
      "Epoch 5/12\n",
      "1s - loss: 1.6690 - acc: 0.2409 - val_loss: 1.5779 - val_acc: 0.3043\n",
      "Epoch 6/12\n",
      "1s - loss: 1.5842 - acc: 0.2869 - val_loss: 1.5360 - val_acc: 0.3152\n",
      "Epoch 7/12\n",
      "1s - loss: 1.5347 - acc: 0.3232 - val_loss: 1.4974 - val_acc: 0.3370\n",
      "Epoch 8/12\n",
      "1s - loss: 1.4022 - acc: 0.3692 - val_loss: 1.3769 - val_acc: 0.4130\n",
      "Epoch 9/12\n",
      "1s - loss: 1.3394 - acc: 0.3947 - val_loss: 1.3147 - val_acc: 0.4239\n",
      "Epoch 10/12\n",
      "1s - loss: 1.2942 - acc: 0.4177 - val_loss: 1.2978 - val_acc: 0.4239\n",
      "Epoch 11/12\n",
      "2s - loss: 1.2234 - acc: 0.4479 - val_loss: 1.2752 - val_acc: 0.4348\n",
      "Epoch 12/12\n",
      "2s - loss: 1.1633 - acc: 0.4770 - val_loss: 1.2179 - val_acc: 0.4674\n"
     ]
    }
   ],
   "source": [
    "model_fit = model7.fit(x_train,y_train,verbose=2,batch_size=batch_size,epochs=epochs,validation_split=0.1)"
   ]
  },
  {
   "cell_type": "code",
   "execution_count": 52,
   "metadata": {},
   "outputs": [
    {
     "name": "stdout",
     "output_type": "stream",
     "text": [
      "\r",
      " 32/162 [====>.........................] - ETA: 0s"
     ]
    },
    {
     "data": {
      "text/html": [
       "<div>\n",
       "<table border=\"1\" class=\"dataframe\">\n",
       "  <thead>\n",
       "    <tr style=\"text-align: right;\">\n",
       "      <th>col_0</th>\n",
       "      <th>1</th>\n",
       "      <th>2</th>\n",
       "      <th>3</th>\n",
       "      <th>4</th>\n",
       "      <th>5</th>\n",
       "      <th>6</th>\n",
       "      <th>7</th>\n",
       "      <th>8</th>\n",
       "      <th>9</th>\n",
       "    </tr>\n",
       "    <tr>\n",
       "      <th>row_0</th>\n",
       "      <th></th>\n",
       "      <th></th>\n",
       "      <th></th>\n",
       "      <th></th>\n",
       "      <th></th>\n",
       "      <th></th>\n",
       "      <th></th>\n",
       "      <th></th>\n",
       "      <th></th>\n",
       "    </tr>\n",
       "  </thead>\n",
       "  <tbody>\n",
       "    <tr>\n",
       "      <th>2</th>\n",
       "      <td>3</td>\n",
       "      <td>11</td>\n",
       "      <td>0</td>\n",
       "      <td>0</td>\n",
       "      <td>1</td>\n",
       "      <td>0</td>\n",
       "      <td>0</td>\n",
       "      <td>1</td>\n",
       "      <td>0</td>\n",
       "    </tr>\n",
       "    <tr>\n",
       "      <th>3</th>\n",
       "      <td>0</td>\n",
       "      <td>0</td>\n",
       "      <td>8</td>\n",
       "      <td>0</td>\n",
       "      <td>0</td>\n",
       "      <td>0</td>\n",
       "      <td>1</td>\n",
       "      <td>6</td>\n",
       "      <td>1</td>\n",
       "    </tr>\n",
       "    <tr>\n",
       "      <th>5</th>\n",
       "      <td>14</td>\n",
       "      <td>3</td>\n",
       "      <td>0</td>\n",
       "      <td>0</td>\n",
       "      <td>17</td>\n",
       "      <td>0</td>\n",
       "      <td>0</td>\n",
       "      <td>0</td>\n",
       "      <td>0</td>\n",
       "    </tr>\n",
       "    <tr>\n",
       "      <th>6</th>\n",
       "      <td>0</td>\n",
       "      <td>0</td>\n",
       "      <td>0</td>\n",
       "      <td>4</td>\n",
       "      <td>0</td>\n",
       "      <td>6</td>\n",
       "      <td>2</td>\n",
       "      <td>0</td>\n",
       "      <td>4</td>\n",
       "    </tr>\n",
       "    <tr>\n",
       "      <th>7</th>\n",
       "      <td>0</td>\n",
       "      <td>0</td>\n",
       "      <td>0</td>\n",
       "      <td>14</td>\n",
       "      <td>0</td>\n",
       "      <td>11</td>\n",
       "      <td>15</td>\n",
       "      <td>0</td>\n",
       "      <td>1</td>\n",
       "    </tr>\n",
       "    <tr>\n",
       "      <th>8</th>\n",
       "      <td>1</td>\n",
       "      <td>4</td>\n",
       "      <td>1</td>\n",
       "      <td>0</td>\n",
       "      <td>0</td>\n",
       "      <td>0</td>\n",
       "      <td>0</td>\n",
       "      <td>11</td>\n",
       "      <td>0</td>\n",
       "    </tr>\n",
       "    <tr>\n",
       "      <th>9</th>\n",
       "      <td>0</td>\n",
       "      <td>0</td>\n",
       "      <td>9</td>\n",
       "      <td>0</td>\n",
       "      <td>0</td>\n",
       "      <td>1</td>\n",
       "      <td>0</td>\n",
       "      <td>0</td>\n",
       "      <td>12</td>\n",
       "    </tr>\n",
       "  </tbody>\n",
       "</table>\n",
       "</div>"
      ],
      "text/plain": [
       "col_0   1   2  3   4   5   6   7   8   9\n",
       "row_0                                   \n",
       "2       3  11  0   0   1   0   0   1   0\n",
       "3       0   0  8   0   0   0   1   6   1\n",
       "5      14   3  0   0  17   0   0   0   0\n",
       "6       0   0  0   4   0   6   2   0   4\n",
       "7       0   0  0  14   0  11  15   0   1\n",
       "8       1   4  1   0   0   0   0  11   0\n",
       "9       0   0  9   0   0   1   0   0  12"
      ]
     },
     "execution_count": 52,
     "metadata": {},
     "output_type": "execute_result"
    }
   ],
   "source": [
    "output_data = np.array(data[0])\n",
    "y_test = output_data[int(0.85*row):]\n",
    "predicted_classes = model7.predict_classes(x_test)\n",
    "predicted_classes = predicted_classes + 1\n",
    "pd.crosstab(predicted_classes,y_test)"
   ]
  },
  {
   "cell_type": "code",
   "execution_count": 53,
   "metadata": {},
   "outputs": [],
   "source": [
    "test_fail = [im for im in zip(predicted_classes,y_test) if im[0] != im[1]]\n",
    "accuracy = ((162- len(test_fail))*100/162)\n",
    "test_accuracy.append(accuracy)\n",
    "train_accuracy.append(model_fit.history['acc'][epochs-1])"
   ]
  },
  {
   "cell_type": "code",
   "execution_count": 54,
   "metadata": {},
   "outputs": [
    {
     "data": {
      "image/png": "[encoded data removed]",
      "text/plain": [
       "<matplotlib.figure.Figure at 0x7f1c14d4d160>"
      ]
     },
     "metadata": {},
     "output_type": "display_data"
    }
   ],
   "source": [
    "plt.plot(model_fit.epoch, model_fit.history['val_acc'])\n",
    "plt.plot(model_fit.epoch, model_fit.history['acc'])\n",
    "plt.legend(['Validation Accuracy','Train Accuracy'])\n",
    "plt.show()"
   ]
  },
  {
   "cell_type": "markdown",
   "metadata": {},
   "source": [
    "# Model with 8 Hidden layers"
   ]
  },
  {
   "cell_type": "code",
   "execution_count": 55,
   "metadata": {
    "collapsed": true
   },
   "outputs": [],
   "source": [
    "output_data = np.array(data[0].apply(lambda class_of_doc : class_of_doc -1))\n",
    "input_data = np.array(data.drop(0, axis=1))\n",
    "output_data = to_categorical(output_data, num_classes)\n",
    "x_train = input_data[:int(0.85*row)]\n",
    "x_test = input_data[int(0.85*row):]\n",
    "y_train = output_data[:int(0.85*row)]\n",
    "y_test = output_data[int(0.85*row):]"
   ]
  },
  {
   "cell_type": "code",
   "execution_count": 56,
   "metadata": {
    "collapsed": true
   },
   "outputs": [],
   "source": [
    "model8 = Sequential()\n",
    "model8.add(Dense(800, activation='sigmoid',input_shape = (856,)))\n",
    "model8.add(Dense(700,activation='sigmoid'))\n",
    "model8.add(Dense(600,activation='sigmoid'))\n",
    "model8.add(Dense(500,activation='sigmoid'))\n",
    "model8.add(Dense(400,activation='sigmoid'))\n",
    "model8.add(Dense(300,activation='sigmoid'))\n",
    "model8.add(Dense(200,activation='sigmoid'))\n",
    "model8.add(Dense(100,activation='sigmoid'))\n",
    "model8.add(Dense(num_classes,activation='softmax'))"
   ]
  },
  {
   "cell_type": "code",
   "execution_count": 57,
   "metadata": {},
   "outputs": [
    {
     "name": "stdout",
     "output_type": "stream",
     "text": [
      "_________________________________________________________________\n",
      "Layer (type)                 Output Shape              Param #   \n",
      "=================================================================\n",
      "dense_36 (Dense)             (None, 800)               685600    \n",
      "_________________________________________________________________\n",
      "dense_37 (Dense)             (None, 700)               560700    \n",
      "_________________________________________________________________\n",
      "dense_38 (Dense)             (None, 600)               420600    \n",
      "_________________________________________________________________\n",
      "dense_39 (Dense)             (None, 500)               300500    \n",
      "_________________________________________________________________\n",
      "dense_40 (Dense)             (None, 400)               200400    \n",
      "_________________________________________________________________\n",
      "dense_41 (Dense)             (None, 300)               120300    \n",
      "_________________________________________________________________\n",
      "dense_42 (Dense)             (None, 200)               60200     \n",
      "_________________________________________________________________\n",
      "dense_43 (Dense)             (None, 100)               20100     \n",
      "_________________________________________________________________\n",
      "dense_44 (Dense)             (None, 9)                 909       \n",
      "=================================================================\n",
      "Total params: 2,369,309\n",
      "Trainable params: 2,369,309\n",
      "Non-trainable params: 0\n",
      "_________________________________________________________________\n"
     ]
    }
   ],
   "source": [
    "model8.compile(optimizer='rmsprop',\n",
    "          loss='categorical_crossentropy',\n",
    "          metrics=['accuracy'])\n",
    "model8.summary()"
   ]
  },
  {
   "cell_type": "code",
   "execution_count": 58,
   "metadata": {},
   "outputs": [
    {
     "name": "stdout",
     "output_type": "stream",
     "text": [
      "Train on 826 samples, validate on 92 samples\n",
      "Epoch 1/12\n",
      "3s - loss: 2.2494 - acc: 0.1211 - val_loss: 2.2502 - val_acc: 0.1087\n",
      "Epoch 2/12\n",
      "3s - loss: 2.2263 - acc: 0.1162 - val_loss: 2.2242 - val_acc: 0.1087\n",
      "Epoch 3/12\n",
      "3s - loss: 2.2324 - acc: 0.1017 - val_loss: 2.2069 - val_acc: 0.1087\n",
      "Epoch 4/12\n",
      "2s - loss: 2.2239 - acc: 0.0981 - val_loss: 2.2226 - val_acc: 0.1087\n",
      "Epoch 5/12\n",
      "2s - loss: 2.2170 - acc: 0.1090 - val_loss: 2.2164 - val_acc: 0.1196\n",
      "Epoch 6/12\n",
      "2s - loss: 2.2245 - acc: 0.0944 - val_loss: 2.2075 - val_acc: 0.1196\n",
      "Epoch 7/12\n",
      "3s - loss: 2.2185 - acc: 0.1065 - val_loss: 2.2045 - val_acc: 0.1087\n",
      "Epoch 8/12\n",
      "3s - loss: 2.2183 - acc: 0.0956 - val_loss: 2.2143 - val_acc: 0.1087\n",
      "Epoch 9/12\n",
      "2s - loss: 2.2140 - acc: 0.1041 - val_loss: 2.2128 - val_acc: 0.1196\n",
      "Epoch 10/12\n",
      "2s - loss: 2.2177 - acc: 0.1065 - val_loss: 2.1989 - val_acc: 0.1196\n",
      "Epoch 11/12\n",
      "2s - loss: 2.2189 - acc: 0.1041 - val_loss: 2.1997 - val_acc: 0.1087\n",
      "Epoch 12/12\n",
      "2s - loss: 2.2135 - acc: 0.1247 - val_loss: 2.2016 - val_acc: 0.1087\n"
     ]
    }
   ],
   "source": [
    "model_fit = model8.fit(x_train,y_train,verbose=2,batch_size=batch_size,epochs=epochs,validation_split=0.1)"
   ]
  },
  {
   "cell_type": "code",
   "execution_count": 59,
   "metadata": {},
   "outputs": [
    {
     "name": "stdout",
     "output_type": "stream",
     "text": [
      "\r",
      " 32/162 [====>.........................] - ETA: 0s"
     ]
    },
    {
     "data": {
      "text/html": [
       "<div>\n",
       "<table border=\"1\" class=\"dataframe\">\n",
       "  <thead>\n",
       "    <tr style=\"text-align: right;\">\n",
       "      <th>col_0</th>\n",
       "      <th>1</th>\n",
       "      <th>2</th>\n",
       "      <th>3</th>\n",
       "      <th>4</th>\n",
       "      <th>5</th>\n",
       "      <th>6</th>\n",
       "      <th>7</th>\n",
       "      <th>8</th>\n",
       "      <th>9</th>\n",
       "    </tr>\n",
       "    <tr>\n",
       "      <th>row_0</th>\n",
       "      <th></th>\n",
       "      <th></th>\n",
       "      <th></th>\n",
       "      <th></th>\n",
       "      <th></th>\n",
       "      <th></th>\n",
       "      <th></th>\n",
       "      <th></th>\n",
       "      <th></th>\n",
       "    </tr>\n",
       "  </thead>\n",
       "  <tbody>\n",
       "    <tr>\n",
       "      <th>3</th>\n",
       "      <td>18</td>\n",
       "      <td>18</td>\n",
       "      <td>18</td>\n",
       "      <td>18</td>\n",
       "      <td>18</td>\n",
       "      <td>18</td>\n",
       "      <td>18</td>\n",
       "      <td>18</td>\n",
       "      <td>18</td>\n",
       "    </tr>\n",
       "  </tbody>\n",
       "</table>\n",
       "</div>"
      ],
      "text/plain": [
       "col_0   1   2   3   4   5   6   7   8   9\n",
       "row_0                                    \n",
       "3      18  18  18  18  18  18  18  18  18"
      ]
     },
     "execution_count": 59,
     "metadata": {},
     "output_type": "execute_result"
    }
   ],
   "source": [
    "output_data = np.array(data[0])\n",
    "y_test = output_data[int(0.85*row):]\n",
    "predicted_classes = model8.predict_classes(x_test)\n",
    "predicted_classes = predicted_classes + 1\n",
    "pd.crosstab(predicted_classes,y_test)"
   ]
  },
  {
   "cell_type": "code",
   "execution_count": 60,
   "metadata": {},
   "outputs": [],
   "source": [
    "test_fail = [im for im in zip(predicted_classes,y_test) if im[0] != im[1]]\n",
    "accuracy = ((162- len(test_fail))*100/162)\n",
    "test_accuracy.append(accuracy)\n",
    "train_accuracy.append(model_fit.history['acc'][epochs-1])"
   ]
  },
  {
   "cell_type": "code",
   "execution_count": 61,
   "metadata": {},
   "outputs": [
    {
     "data": {
      "image/png": "[encoded data removed]",
      "text/plain": [
       "<matplotlib.figure.Figure at 0x7f1c14dbdb00>"
      ]
     },
     "metadata": {},
     "output_type": "display_data"
    }
   ],
   "source": [
    "plt.plot(model_fit.epoch, model_fit.history['val_acc'])\n",
    "plt.plot(model_fit.epoch, model_fit.history['acc'])\n",
    "plt.legend(['Validation Accuracy','Train Accuracy'])\n",
    "plt.show()"
   ]
  },
  {
   "cell_type": "markdown",
   "metadata": {},
   "source": [
    "# Model with 9 Hidden layers"
   ]
  },
  {
   "cell_type": "code",
   "execution_count": 62,
   "metadata": {
    "collapsed": true
   },
   "outputs": [],
   "source": [
    "output_data = np.array(data[0].apply(lambda class_of_doc : class_of_doc -1))\n",
    "input_data = np.array(data.drop(0, axis=1))\n",
    "output_data = to_categorical(output_data, num_classes)\n",
    "x_train = input_data[:int(0.85*row)]\n",
    "x_test = input_data[int(0.85*row):]\n",
    "y_train = output_data[:int(0.85*row)]\n",
    "y_test = output_data[int(0.85*row):]"
   ]
  },
  {
   "cell_type": "code",
   "execution_count": 63,
   "metadata": {
    "collapsed": true
   },
   "outputs": [],
   "source": [
    "model9 = Sequential()\n",
    "model9.add(Dense(900, activation='sigmoid',input_shape = (856,)))\n",
    "model9.add(Dense(800,activation='sigmoid'))\n",
    "model9.add(Dense(700,activation='sigmoid'))\n",
    "model9.add(Dense(600,activation='sigmoid'))\n",
    "model9.add(Dense(500,activation='sigmoid'))\n",
    "model9.add(Dense(400,activation='sigmoid'))\n",
    "model9.add(Dense(300,activation='sigmoid'))\n",
    "model9.add(Dense(200,activation='sigmoid'))\n",
    "model9.add(Dense(100,activation='sigmoid'))\n",
    "model9.add(Dense(num_classes,activation='softmax'))"
   ]
  },
  {
   "cell_type": "code",
   "execution_count": 64,
   "metadata": {},
   "outputs": [
    {
     "name": "stdout",
     "output_type": "stream",
     "text": [
      "_________________________________________________________________\n",
      "Layer (type)                 Output Shape              Param #   \n",
      "=================================================================\n",
      "dense_45 (Dense)             (None, 900)               771300    \n",
      "_________________________________________________________________\n",
      "dense_46 (Dense)             (None, 800)               720800    \n",
      "_________________________________________________________________\n",
      "dense_47 (Dense)             (None, 700)               560700    \n",
      "_________________________________________________________________\n",
      "dense_48 (Dense)             (None, 600)               420600    \n",
      "_________________________________________________________________\n",
      "dense_49 (Dense)             (None, 500)               300500    \n",
      "_________________________________________________________________\n",
      "dense_50 (Dense)             (None, 400)               200400    \n",
      "_________________________________________________________________\n",
      "dense_51 (Dense)             (None, 300)               120300    \n",
      "_________________________________________________________________\n",
      "dense_52 (Dense)             (None, 200)               60200     \n",
      "_________________________________________________________________\n",
      "dense_53 (Dense)             (None, 100)               20100     \n",
      "_________________________________________________________________\n",
      "dense_54 (Dense)             (None, 9)                 909       \n",
      "=================================================================\n",
      "Total params: 3,175,809\n",
      "Trainable params: 3,175,809\n",
      "Non-trainable params: 0\n",
      "_________________________________________________________________\n"
     ]
    }
   ],
   "source": [
    "model9.compile(optimizer='rmsprop',\n",
    "          loss='categorical_crossentropy',\n",
    "          metrics=['accuracy'])\n",
    "model9.summary()"
   ]
  },
  {
   "cell_type": "code",
   "execution_count": 65,
   "metadata": {},
   "outputs": [
    {
     "name": "stdout",
     "output_type": "stream",
     "text": [
      "Train on 826 samples, validate on 92 samples\n",
      "Epoch 1/12\n",
      "4s - loss: 2.2485 - acc: 0.0981 - val_loss: 2.2025 - val_acc: 0.1196\n",
      "Epoch 2/12\n",
      "3s - loss: 2.2209 - acc: 0.1150 - val_loss: 2.2503 - val_acc: 0.1087\n",
      "Epoch 3/12\n",
      "3s - loss: 2.2277 - acc: 0.1053 - val_loss: 2.2242 - val_acc: 0.1087\n",
      "Epoch 4/12\n",
      "3s - loss: 2.2281 - acc: 0.0872 - val_loss: 2.2007 - val_acc: 0.1087\n",
      "Epoch 5/12\n",
      "3s - loss: 2.2241 - acc: 0.0956 - val_loss: 2.2081 - val_acc: 0.1196\n",
      "Epoch 6/12\n",
      "3s - loss: 2.2177 - acc: 0.0993 - val_loss: 2.2181 - val_acc: 0.1087\n",
      "Epoch 7/12\n",
      "3s - loss: 2.2177 - acc: 0.1041 - val_loss: 2.2019 - val_acc: 0.1087\n",
      "Epoch 8/12\n",
      "3s - loss: 2.2187 - acc: 0.1090 - val_loss: 2.2048 - val_acc: 0.1087\n",
      "Epoch 9/12\n",
      "3s - loss: 2.2212 - acc: 0.0860 - val_loss: 2.2128 - val_acc: 0.1087\n",
      "Epoch 10/12\n",
      "4s - loss: 2.2193 - acc: 0.1090 - val_loss: 2.2101 - val_acc: 0.1087\n",
      "Epoch 11/12\n",
      "3s - loss: 2.2171 - acc: 0.1053 - val_loss: 2.2067 - val_acc: 0.1087\n",
      "Epoch 12/12\n",
      "3s - loss: 2.2190 - acc: 0.1090 - val_loss: 2.2006 - val_acc: 0.1087\n"
     ]
    }
   ],
   "source": [
    "model_fit = model9.fit(x_train,y_train,verbose=2,batch_size=batch_size,epochs=epochs,validation_split=0.1)"
   ]
  },
  {
   "cell_type": "code",
   "execution_count": 66,
   "metadata": {},
   "outputs": [
    {
     "name": "stdout",
     "output_type": "stream",
     "text": [
      "162/162 [==============================] - 0s     \n"
     ]
    },
    {
     "data": {
      "text/html": [
       "<div>\n",
       "<table border=\"1\" class=\"dataframe\">\n",
       "  <thead>\n",
       "    <tr style=\"text-align: right;\">\n",
       "      <th>col_0</th>\n",
       "      <th>1</th>\n",
       "      <th>2</th>\n",
       "      <th>3</th>\n",
       "      <th>4</th>\n",
       "      <th>5</th>\n",
       "      <th>6</th>\n",
       "      <th>7</th>\n",
       "      <th>8</th>\n",
       "      <th>9</th>\n",
       "    </tr>\n",
       "    <tr>\n",
       "      <th>row_0</th>\n",
       "      <th></th>\n",
       "      <th></th>\n",
       "      <th></th>\n",
       "      <th></th>\n",
       "      <th></th>\n",
       "      <th></th>\n",
       "      <th></th>\n",
       "      <th></th>\n",
       "      <th></th>\n",
       "    </tr>\n",
       "  </thead>\n",
       "  <tbody>\n",
       "    <tr>\n",
       "      <th>7</th>\n",
       "      <td>18</td>\n",
       "      <td>18</td>\n",
       "      <td>18</td>\n",
       "      <td>18</td>\n",
       "      <td>18</td>\n",
       "      <td>18</td>\n",
       "      <td>18</td>\n",
       "      <td>18</td>\n",
       "      <td>18</td>\n",
       "    </tr>\n",
       "  </tbody>\n",
       "</table>\n",
       "</div>"
      ],
      "text/plain": [
       "col_0   1   2   3   4   5   6   7   8   9\n",
       "row_0                                    \n",
       "7      18  18  18  18  18  18  18  18  18"
      ]
     },
     "execution_count": 66,
     "metadata": {},
     "output_type": "execute_result"
    }
   ],
   "source": [
    "output_data = np.array(data[0])\n",
    "y_test = output_data[int(0.85*row):]\n",
    "predicted_classes = model9.predict_classes(x_test)\n",
    "predicted_classes = predicted_classes + 1\n",
    "pd.crosstab(predicted_classes,y_test)"
   ]
  },
  {
   "cell_type": "code",
   "execution_count": 67,
   "metadata": {},
   "outputs": [],
   "source": [
    "test_fail = [im for im in zip(predicted_classes,y_test) if im[0] != im[1]]\n",
    "accuracy = ((162- len(test_fail))*100/162)\n",
    "test_accuracy.append(accuracy)\n",
    "train_accuracy.append(model_fit.history['acc'][epochs-1])"
   ]
  },
  {
   "cell_type": "code",
   "execution_count": 68,
   "metadata": {},
   "outputs": [
    {
     "data": {
      "image/png": "[encoded data removed]",
      "text/plain": [
       "<matplotlib.figure.Figure at 0x7f1c0c8c4518>"
      ]
     },
     "metadata": {},
     "output_type": "display_data"
    }
   ],
   "source": [
    "plt.plot(model_fit.epoch, model_fit.history['val_acc'])\n",
    "plt.plot(model_fit.epoch, model_fit.history['acc'])\n",
    "plt.legend(['Validation Accuracy','Train Accuracy'])\n",
    "plt.show()"
   ]
  },
  {
   "cell_type": "markdown",
   "metadata": {},
   "source": [
    "# Model with 10 Hidden layer"
   ]
  },
  {
   "cell_type": "code",
   "execution_count": 69,
   "metadata": {
    "collapsed": true
   },
   "outputs": [],
   "source": [
    "output_data = np.array(data[0].apply(lambda class_of_doc : class_of_doc -1))\n",
    "input_data = np.array(data.drop(0, axis=1))\n",
    "output_data = to_categorical(output_data, num_classes)\n",
    "x_train = input_data[:int(0.85*row)]\n",
    "x_test = input_data[int(0.85*row):]\n",
    "y_train = output_data[:int(0.85*row)]\n",
    "y_test = output_data[int(0.85*row):]"
   ]
  },
  {
   "cell_type": "code",
   "execution_count": 70,
   "metadata": {
    "collapsed": true
   },
   "outputs": [],
   "source": [
    "model10 = Sequential()\n",
    "model10.add(Dense(1000, activation='sigmoid',input_shape = (856,)))\n",
    "model10.add(Dense(900,activation='sigmoid'))\n",
    "model10.add(Dense(800,activation='sigmoid'))\n",
    "model10.add(Dense(700,activation='sigmoid'))\n",
    "model10.add(Dense(600,activation='sigmoid'))\n",
    "model10.add(Dense(500,activation='sigmoid'))\n",
    "model10.add(Dense(400,activation='sigmoid'))\n",
    "model10.add(Dense(300,activation='sigmoid'))\n",
    "model10.add(Dense(200,activation='sigmoid'))\n",
    "model10.add(Dense(100,activation='sigmoid'))\n",
    "model10.add(Dense(num_classes,activation='softmax'))"
   ]
  },
  {
   "cell_type": "code",
   "execution_count": 71,
   "metadata": {},
   "outputs": [
    {
     "name": "stdout",
     "output_type": "stream",
     "text": [
      "_________________________________________________________________\n",
      "Layer (type)                 Output Shape              Param #   \n",
      "=================================================================\n",
      "dense_55 (Dense)             (None, 1000)              857000    \n",
      "_________________________________________________________________\n",
      "dense_56 (Dense)             (None, 900)               900900    \n",
      "_________________________________________________________________\n",
      "dense_57 (Dense)             (None, 800)               720800    \n",
      "_________________________________________________________________\n",
      "dense_58 (Dense)             (None, 700)               560700    \n",
      "_________________________________________________________________\n",
      "dense_59 (Dense)             (None, 600)               420600    \n",
      "_________________________________________________________________\n",
      "dense_60 (Dense)             (None, 500)               300500    \n",
      "_________________________________________________________________\n",
      "dense_61 (Dense)             (None, 400)               200400    \n",
      "_________________________________________________________________\n",
      "dense_62 (Dense)             (None, 300)               120300    \n",
      "_________________________________________________________________\n",
      "dense_63 (Dense)             (None, 200)               60200     \n",
      "_________________________________________________________________\n",
      "dense_64 (Dense)             (None, 100)               20100     \n",
      "_________________________________________________________________\n",
      "dense_65 (Dense)             (None, 9)                 909       \n",
      "=================================================================\n",
      "Total params: 4,162,409\n",
      "Trainable params: 4,162,409\n",
      "Non-trainable params: 0\n",
      "_________________________________________________________________\n"
     ]
    }
   ],
   "source": [
    "model10.compile(optimizer='rmsprop',\n",
    "          loss='categorical_crossentropy',\n",
    "          metrics=['accuracy'])\n",
    "model10.summary()"
   ]
  },
  {
   "cell_type": "code",
   "execution_count": 72,
   "metadata": {},
   "outputs": [
    {
     "name": "stdout",
     "output_type": "stream",
     "text": [
      "Train on 826 samples, validate on 92 samples\n",
      "Epoch 1/12\n",
      "5s - loss: 2.2562 - acc: 0.0811 - val_loss: 2.2332 - val_acc: 0.1087\n",
      "Epoch 2/12\n",
      "5s - loss: 2.2313 - acc: 0.1053 - val_loss: 2.2221 - val_acc: 0.1087\n",
      "Epoch 3/12\n",
      "4s - loss: 2.2265 - acc: 0.0908 - val_loss: 2.2209 - val_acc: 0.1087\n",
      "Epoch 4/12\n",
      "4s - loss: 2.2214 - acc: 0.1138 - val_loss: 2.2085 - val_acc: 0.1087\n",
      "Epoch 5/12\n",
      "4s - loss: 2.2208 - acc: 0.1041 - val_loss: 2.2191 - val_acc: 0.1087\n",
      "Epoch 6/12\n",
      "4s - loss: 2.2188 - acc: 0.1077 - val_loss: 2.2072 - val_acc: 0.1196\n",
      "Epoch 7/12\n",
      "4s - loss: 2.2193 - acc: 0.0981 - val_loss: 2.1994 - val_acc: 0.1196\n",
      "Epoch 8/12\n",
      "4s - loss: 2.2202 - acc: 0.1005 - val_loss: 2.1995 - val_acc: 0.1196\n",
      "Epoch 9/12\n",
      "4s - loss: 2.2158 - acc: 0.1029 - val_loss: 2.2017 - val_acc: 0.1087\n",
      "Epoch 10/12\n",
      "5s - loss: 2.2149 - acc: 0.1017 - val_loss: 2.2032 - val_acc: 0.1087\n",
      "Epoch 11/12\n",
      "4s - loss: 2.2149 - acc: 0.0944 - val_loss: 2.2023 - val_acc: 0.1087\n",
      "Epoch 12/12\n",
      "4s - loss: 2.2161 - acc: 0.1005 - val_loss: 2.2042 - val_acc: 0.1087\n"
     ]
    }
   ],
   "source": [
    "model_fit = model10.fit(x_train,y_train,verbose=2,batch_size=batch_size,epochs=epochs,validation_split=0.1)"
   ]
  },
  {
   "cell_type": "code",
   "execution_count": 73,
   "metadata": {},
   "outputs": [
    {
     "name": "stdout",
     "output_type": "stream",
     "text": [
      "128/162 [======================>.......] - ETA: 0s"
     ]
    },
    {
     "data": {
      "text/html": [
       "<div>\n",
       "<table border=\"1\" class=\"dataframe\">\n",
       "  <thead>\n",
       "    <tr style=\"text-align: right;\">\n",
       "      <th>col_0</th>\n",
       "      <th>1</th>\n",
       "      <th>2</th>\n",
       "      <th>3</th>\n",
       "      <th>4</th>\n",
       "      <th>5</th>\n",
       "      <th>6</th>\n",
       "      <th>7</th>\n",
       "      <th>8</th>\n",
       "      <th>9</th>\n",
       "    </tr>\n",
       "    <tr>\n",
       "      <th>row_0</th>\n",
       "      <th></th>\n",
       "      <th></th>\n",
       "      <th></th>\n",
       "      <th></th>\n",
       "      <th></th>\n",
       "      <th></th>\n",
       "      <th></th>\n",
       "      <th></th>\n",
       "      <th></th>\n",
       "    </tr>\n",
       "  </thead>\n",
       "  <tbody>\n",
       "    <tr>\n",
       "      <th>7</th>\n",
       "      <td>18</td>\n",
       "      <td>18</td>\n",
       "      <td>18</td>\n",
       "      <td>18</td>\n",
       "      <td>18</td>\n",
       "      <td>18</td>\n",
       "      <td>18</td>\n",
       "      <td>18</td>\n",
       "      <td>18</td>\n",
       "    </tr>\n",
       "  </tbody>\n",
       "</table>\n",
       "</div>"
      ],
      "text/plain": [
       "col_0   1   2   3   4   5   6   7   8   9\n",
       "row_0                                    \n",
       "7      18  18  18  18  18  18  18  18  18"
      ]
     },
     "execution_count": 73,
     "metadata": {},
     "output_type": "execute_result"
    }
   ],
   "source": [
    "output_data = np.array(data[0])\n",
    "y_test = output_data[int(0.85*row):]\n",
    "predicted_classes = model10.predict_classes(x_test)\n",
    "predicted_classes = predicted_classes + 1\n",
    "pd.crosstab(predicted_classes,y_test)"
   ]
  },
  {
   "cell_type": "code",
   "execution_count": 74,
   "metadata": {},
   "outputs": [],
   "source": [
    "test_fail = [im for im in zip(predicted_classes,y_test) if im[0] != im[1]]\n",
    "accuracy = ((162- len(test_fail))*100/162)\n",
    "test_accuracy.append(accuracy)\n",
    "train_accuracy.append(model_fit.history['acc'][epochs-1])"
   ]
  },
  {
   "cell_type": "code",
   "execution_count": 75,
   "metadata": {},
   "outputs": [
    {
     "data": {
      "image/png": "[encoded data removed]",
      "text/plain": [
       "<matplotlib.figure.Figure at 0x7f1c1005c630>"
      ]
     },
     "metadata": {},
     "output_type": "display_data"
    }
   ],
   "source": [
    "plt.plot(model_fit.epoch, model_fit.history['val_acc'])\n",
    "plt.plot(model_fit.epoch, model_fit.history['acc'])\n",
    "plt.legend(['Validation Accuracy','Train Accuracy'])\n",
    "plt.show()"
   ]
  },
  {
   "cell_type": "code",
   "execution_count": 76,
   "metadata": {},
   "outputs": [
    {
     "data": {
      "text/plain": [
       "[96.91358024691358,\n",
       " 97.53086419753086,\n",
       " 95.67901234567901,\n",
       " 94.44444444444444,\n",
       " 88.88888888888889,\n",
       " 66.66666666666667,\n",
       " 49.382716049382715,\n",
       " 11.11111111111111,\n",
       " 11.11111111111111,\n",
       " 11.11111111111111]"
      ]
     },
     "execution_count": 76,
     "metadata": {},
     "output_type": "execute_result"
    }
   ],
   "source": [
    "test_accuracy"
   ]
  },
  {
   "cell_type": "code",
   "execution_count": 78,
   "metadata": {},
   "outputs": [
    {
     "data": {
      "text/plain": [
       "[99.878934653561572,\n",
       " 98.062954283799726,\n",
       " 97.45762746501488,\n",
       " 95.64164683547493,\n",
       " 89.346247262007964,\n",
       " 60.169491301725905,\n",
       " 47.699757595039166,\n",
       " 12.469733906932372,\n",
       " 10.895884047841911,\n",
       " 10.048426382838958]"
      ]
     },
     "execution_count": 78,
     "metadata": {},
     "output_type": "execute_result"
    }
   ],
   "source": [
    "train_accuracy = [t*100 for t in train_accuracy]\n",
    "train_accuracy"
   ]
  },
  {
   "cell_type": "code",
   "execution_count": 99,
   "metadata": {
    "collapsed": true
   },
   "outputs": [],
   "source": [
    "model_plot = pd.concat([pd.DataFrame([1,2,3,4,5,6,7,8,9,10]), pd.DataFrame(train_accuracy),pd.DataFrame(test_accuracy)],axis=1)"
   ]
  },
  {
   "cell_type": "code",
   "execution_count": 100,
   "metadata": {},
   "outputs": [],
   "source": [
    "model_plot.columns = ['Model','Training Accuracy','Test Accuracy']"
   ]
  },
  {
   "cell_type": "code",
   "execution_count": 101,
   "metadata": {},
   "outputs": [],
   "source": [
    "model_plot = model_plot.set_index(['Model'])"
   ]
  },
  {
   "cell_type": "code",
   "execution_count": 102,
   "metadata": {},
   "outputs": [
    {
     "data": {
      "image/png": "[encoded data removed]",
      "text/plain": [
       "<matplotlib.figure.Figure at 0x7f1c03281a90>"
      ]
     },
     "metadata": {},
     "output_type": "display_data"
    }
   ],
   "source": [
    "model_plot.plot(kind='bar')\n",
    "plt.show()"
   ]
  },
  {
   "cell_type": "markdown",
   "metadata": {},
   "source": [
    "# Applying EarlyStopping and Drop Out on Model 2(best model)"
   ]
  },
  {
   "cell_type": "code",
   "execution_count": 374,
   "metadata": {
    "collapsed": true
   },
   "outputs": [],
   "source": [
    "output_data = np.array(data[0].apply(lambda class_of_doc : class_of_doc -1))\n",
    "input_data = np.array(data.drop(0, axis=1))\n",
    "output_data = to_categorical(output_data, num_classes)\n",
    "x_train = input_data[:int(0.85*row)]\n",
    "x_test = input_data[int(0.85*row):]\n",
    "y_train = output_data[:int(0.85*row)]\n",
    "y_test = output_data[int(0.85*row):]"
   ]
  },
  {
   "cell_type": "code",
   "execution_count": 375,
   "metadata": {},
   "outputs": [],
   "source": [
    "model = Sequential()\n",
    "model.add(Dropout(0.2,input_shape = (856,)))\n",
    "model.add(Dense(400, activation='sigmoid'))\n",
    "model.add(Dropout(0.2))\n",
    "model.add(Dense(200,activation='sigmoid'))\n",
    "model.add(Dropout(0.2))\n",
    "model.add(Dense(num_classes,activation='softmax'))\n",
    "earlystop = [keras.callbacks.EarlyStopping(monitor='val_acc',min_delta = 0.01,mode = 'max', patience=10)]\n",
    "model.compile(optimizer='rmsprop',\n",
    "          loss='categorical_crossentropy',\n",
    "          metrics=['accuracy'])"
   ]
  },
  {
   "cell_type": "code",
   "execution_count": 376,
   "metadata": {},
   "outputs": [
    {
     "name": "stdout",
     "output_type": "stream",
     "text": [
      "Train on 734 samples, validate on 184 samples\n",
      "Epoch 1/100\n",
      "0s - loss: 2.2663 - acc: 0.1376 - val_loss: 2.2470 - val_acc: 0.1141\n",
      "Epoch 2/100\n",
      "0s - loss: 2.1287 - acc: 0.2016 - val_loss: 2.0849 - val_acc: 0.1467\n",
      "Epoch 3/100\n",
      "0s - loss: 1.9222 - acc: 0.3270 - val_loss: 1.8186 - val_acc: 0.3750\n",
      "Epoch 4/100\n",
      "0s - loss: 1.6168 - acc: 0.5068 - val_loss: 1.4485 - val_acc: 0.6141\n",
      "Epoch 5/100\n",
      "0s - loss: 1.2998 - acc: 0.6240 - val_loss: 1.1877 - val_acc: 0.7717\n",
      "Epoch 6/100\n",
      "0s - loss: 1.0581 - acc: 0.7125 - val_loss: 0.9334 - val_acc: 0.8043\n",
      "Epoch 7/100\n",
      "0s - loss: 0.8604 - acc: 0.7466 - val_loss: 0.7858 - val_acc: 0.7989\n",
      "Epoch 8/100\n",
      "0s - loss: 0.7033 - acc: 0.8093 - val_loss: 0.6102 - val_acc: 0.8315\n",
      "Epoch 9/100\n",
      "0s - loss: 0.5818 - acc: 0.8420 - val_loss: 0.5074 - val_acc: 0.8967\n",
      "Epoch 10/100\n",
      "0s - loss: 0.5031 - acc: 0.8501 - val_loss: 0.4047 - val_acc: 0.9022\n",
      "Epoch 11/100\n",
      "0s - loss: 0.4383 - acc: 0.8692 - val_loss: 0.5276 - val_acc: 0.7935\n",
      "Epoch 12/100\n",
      "0s - loss: 0.3873 - acc: 0.8856 - val_loss: 0.4636 - val_acc: 0.8424\n",
      "Epoch 13/100\n",
      "0s - loss: 0.3729 - acc: 0.8815 - val_loss: 0.3959 - val_acc: 0.8478\n",
      "Epoch 14/100\n",
      "0s - loss: 0.3103 - acc: 0.9087 - val_loss: 0.2717 - val_acc: 0.9348\n",
      "Epoch 15/100\n",
      "0s - loss: 0.2787 - acc: 0.9332 - val_loss: 0.2724 - val_acc: 0.9293\n",
      "Epoch 16/100\n",
      "0s - loss: 0.2472 - acc: 0.9210 - val_loss: 0.2578 - val_acc: 0.9348\n",
      "Epoch 17/100\n",
      "0s - loss: 0.2800 - acc: 0.9142 - val_loss: 0.2251 - val_acc: 0.9511\n",
      "Epoch 18/100\n",
      "0s - loss: 0.2714 - acc: 0.9114 - val_loss: 0.2154 - val_acc: 0.9402\n",
      "Epoch 19/100\n",
      "0s - loss: 0.2512 - acc: 0.9251 - val_loss: 0.2163 - val_acc: 0.9348\n",
      "Epoch 20/100\n",
      "0s - loss: 0.2328 - acc: 0.9319 - val_loss: 0.1995 - val_acc: 0.9402\n",
      "Epoch 21/100\n",
      "0s - loss: 0.2239 - acc: 0.9264 - val_loss: 0.2286 - val_acc: 0.9457\n",
      "Epoch 22/100\n",
      "0s - loss: 0.2236 - acc: 0.9155 - val_loss: 0.1940 - val_acc: 0.9293\n",
      "Epoch 23/100\n",
      "0s - loss: 0.2185 - acc: 0.9305 - val_loss: 0.1754 - val_acc: 0.9293\n",
      "Epoch 24/100\n",
      "0s - loss: 0.2111 - acc: 0.9251 - val_loss: 0.1924 - val_acc: 0.9402\n",
      "Epoch 25/100\n",
      "0s - loss: 0.1860 - acc: 0.9292 - val_loss: 0.1965 - val_acc: 0.9402\n",
      "Epoch 26/100\n",
      "0s - loss: 0.1783 - acc: 0.9346 - val_loss: 0.1834 - val_acc: 0.9511\n",
      "Epoch 27/100\n",
      "0s - loss: 0.2205 - acc: 0.9305 - val_loss: 0.1912 - val_acc: 0.9130\n",
      "Epoch 28/100\n",
      "0s - loss: 0.1811 - acc: 0.9428 - val_loss: 0.1928 - val_acc: 0.9239\n"
     ]
    }
   ],
   "source": [
    "model_fit = model.fit(x_train,y_train,verbose=2,batch_size=batch_size,\n",
    "                       epochs = 100,\n",
    "                       validation_split = 0.2,\n",
    "                       callbacks = earlystop)"
   ]
  },
  {
   "cell_type": "code",
   "execution_count": 377,
   "metadata": {},
   "outputs": [
    {
     "name": "stdout",
     "output_type": "stream",
     "text": [
      "\r",
      " 32/162 [====>.........................] - ETA: 1s"
     ]
    },
    {
     "data": {
      "text/html": [
       "<div>\n",
       "<table border=\"1\" class=\"dataframe\">\n",
       "  <thead>\n",
       "    <tr style=\"text-align: right;\">\n",
       "      <th>col_0</th>\n",
       "      <th>1</th>\n",
       "      <th>2</th>\n",
       "      <th>3</th>\n",
       "      <th>4</th>\n",
       "      <th>5</th>\n",
       "      <th>6</th>\n",
       "      <th>7</th>\n",
       "      <th>8</th>\n",
       "      <th>9</th>\n",
       "    </tr>\n",
       "    <tr>\n",
       "      <th>row_0</th>\n",
       "      <th></th>\n",
       "      <th></th>\n",
       "      <th></th>\n",
       "      <th></th>\n",
       "      <th></th>\n",
       "      <th></th>\n",
       "      <th></th>\n",
       "      <th></th>\n",
       "      <th></th>\n",
       "    </tr>\n",
       "  </thead>\n",
       "  <tbody>\n",
       "    <tr>\n",
       "      <th>1</th>\n",
       "      <td>17</td>\n",
       "      <td>0</td>\n",
       "      <td>0</td>\n",
       "      <td>0</td>\n",
       "      <td>0</td>\n",
       "      <td>0</td>\n",
       "      <td>0</td>\n",
       "      <td>0</td>\n",
       "      <td>0</td>\n",
       "    </tr>\n",
       "    <tr>\n",
       "      <th>2</th>\n",
       "      <td>0</td>\n",
       "      <td>18</td>\n",
       "      <td>0</td>\n",
       "      <td>0</td>\n",
       "      <td>0</td>\n",
       "      <td>0</td>\n",
       "      <td>0</td>\n",
       "      <td>0</td>\n",
       "      <td>0</td>\n",
       "    </tr>\n",
       "    <tr>\n",
       "      <th>3</th>\n",
       "      <td>1</td>\n",
       "      <td>0</td>\n",
       "      <td>18</td>\n",
       "      <td>0</td>\n",
       "      <td>0</td>\n",
       "      <td>0</td>\n",
       "      <td>1</td>\n",
       "      <td>0</td>\n",
       "      <td>0</td>\n",
       "    </tr>\n",
       "    <tr>\n",
       "      <th>4</th>\n",
       "      <td>0</td>\n",
       "      <td>0</td>\n",
       "      <td>0</td>\n",
       "      <td>18</td>\n",
       "      <td>0</td>\n",
       "      <td>0</td>\n",
       "      <td>0</td>\n",
       "      <td>0</td>\n",
       "      <td>1</td>\n",
       "    </tr>\n",
       "    <tr>\n",
       "      <th>5</th>\n",
       "      <td>0</td>\n",
       "      <td>0</td>\n",
       "      <td>0</td>\n",
       "      <td>0</td>\n",
       "      <td>18</td>\n",
       "      <td>0</td>\n",
       "      <td>0</td>\n",
       "      <td>0</td>\n",
       "      <td>0</td>\n",
       "    </tr>\n",
       "    <tr>\n",
       "      <th>6</th>\n",
       "      <td>0</td>\n",
       "      <td>0</td>\n",
       "      <td>0</td>\n",
       "      <td>0</td>\n",
       "      <td>0</td>\n",
       "      <td>18</td>\n",
       "      <td>0</td>\n",
       "      <td>0</td>\n",
       "      <td>1</td>\n",
       "    </tr>\n",
       "    <tr>\n",
       "      <th>7</th>\n",
       "      <td>0</td>\n",
       "      <td>0</td>\n",
       "      <td>0</td>\n",
       "      <td>0</td>\n",
       "      <td>0</td>\n",
       "      <td>0</td>\n",
       "      <td>17</td>\n",
       "      <td>0</td>\n",
       "      <td>0</td>\n",
       "    </tr>\n",
       "    <tr>\n",
       "      <th>8</th>\n",
       "      <td>0</td>\n",
       "      <td>0</td>\n",
       "      <td>0</td>\n",
       "      <td>0</td>\n",
       "      <td>0</td>\n",
       "      <td>0</td>\n",
       "      <td>0</td>\n",
       "      <td>18</td>\n",
       "      <td>0</td>\n",
       "    </tr>\n",
       "    <tr>\n",
       "      <th>9</th>\n",
       "      <td>0</td>\n",
       "      <td>0</td>\n",
       "      <td>0</td>\n",
       "      <td>0</td>\n",
       "      <td>0</td>\n",
       "      <td>0</td>\n",
       "      <td>0</td>\n",
       "      <td>0</td>\n",
       "      <td>16</td>\n",
       "    </tr>\n",
       "  </tbody>\n",
       "</table>\n",
       "</div>"
      ],
      "text/plain": [
       "col_0   1   2   3   4   5   6   7   8   9\n",
       "row_0                                    \n",
       "1      17   0   0   0   0   0   0   0   0\n",
       "2       0  18   0   0   0   0   0   0   0\n",
       "3       1   0  18   0   0   0   1   0   0\n",
       "4       0   0   0  18   0   0   0   0   1\n",
       "5       0   0   0   0  18   0   0   0   0\n",
       "6       0   0   0   0   0  18   0   0   1\n",
       "7       0   0   0   0   0   0  17   0   0\n",
       "8       0   0   0   0   0   0   0  18   0\n",
       "9       0   0   0   0   0   0   0   0  16"
      ]
     },
     "execution_count": 377,
     "metadata": {},
     "output_type": "execute_result"
    }
   ],
   "source": [
    "output_data = np.array(data[0])\n",
    "y_test = output_data[int(0.85*row):]\n",
    "predicted_classes = model.predict_classes(x_test)\n",
    "predicted_classes = predicted_classes + 1\n",
    "pd.crosstab(predicted_classes,y_test)"
   ]
  },
  {
   "cell_type": "code",
   "execution_count": 378,
   "metadata": {},
   "outputs": [
    {
     "data": {
      "image/png": "[encoded data removed]",
      "text/plain": [
       "<matplotlib.figure.Figure at 0x7f1bff16e240>"
      ]
     },
     "metadata": {},
     "output_type": "display_data"
    }
   ],
   "source": [
    "plt.plot(model_fit.epoch, model_fit.history['val_acc'])\n",
    "plt.plot(model_fit.epoch, model_fit.history['acc'])\n",
    "plt.legend(['Validation Accuracy','Train Accuracy'])\n",
    "plt.show()"
   ]
  },
  {
   "cell_type": "markdown",
   "metadata": {},
   "source": [
    "# Predicting the output upon the above model weights and bias"
   ]
  },
  {
   "cell_type": "code",
   "execution_count": 379,
   "metadata": {
    "collapsed": true
   },
   "outputs": [],
   "source": [
    "import math\n",
    "def sigmoid(x):\n",
    "    return (1/(1+math.exp(-x)))\n",
    "def softmax(w, t = 1.0):\n",
    "    npa = np.array\n",
    "    e = np.exp(npa(w) / t)\n",
    "    dist = e / np.sum(e)\n",
    "    return dist"
   ]
  },
  {
   "cell_type": "code",
   "execution_count": 380,
   "metadata": {},
   "outputs": [],
   "source": [
    "weights = model.get_weights()\n",
    "w0 = weights[0]\n",
    "b0 = weights[1]\n",
    "w1 = weights[2]\n",
    "b1 = weights[3]\n",
    "w2 = weights[4]\n",
    "b2 = weights[5]"
   ]
  },
  {
   "cell_type": "code",
   "execution_count": 452,
   "metadata": {},
   "outputs": [
    {
     "name": "stdout",
     "output_type": "stream",
     "text": [
      "8\n",
      "1/1 [==============================] - 0s\n"
     ]
    },
    {
     "data": {
      "text/plain": [
       "8"
      ]
     },
     "execution_count": 452,
     "metadata": {},
     "output_type": "execute_result"
    }
   ],
   "source": [
    "input1 = x_test[8]\n",
    "input1 = input1.reshape((1,856))\n",
    "input2 = input1.dot(w0) + b0\n",
    "i2= []\n",
    "input2 = input2.reshape((400))\n",
    "for k in input2:\n",
    "    i2.append(sigmoid(k))\n",
    "input2 = np.array(i2)\n",
    "\n",
    "input2 = input2.reshape((1,400))\n",
    "input3 = input2.dot(w1) + b1\n",
    "i3 = []\n",
    "input3 = input3.reshape((200))\n",
    "for k in input3:\n",
    "    i3.append(sigmoid(k))\n",
    "input3 = np.array(i3)\n",
    "\n",
    "input3 = input3.reshape((1,200))\n",
    "output = input3.dot(w2) + b2\n",
    "output = output.reshape((9))\n",
    "output = softmax(output)\n",
    "output = output.reshape((1,9))\n",
    "print(np.argmax(output))\n",
    "int(model.predict_classes(input1))"
   ]
  },
  {
   "cell_type": "markdown",
   "metadata": {},
   "source": [
    "# Method to predict using the model"
   ]
  },
  {
   "cell_type": "code",
   "execution_count": 449,
   "metadata": {},
   "outputs": [],
   "source": [
    "def check_model(model, x_test, element):\n",
    "    input_to_layer = x_test[element]\n",
    "    shape, = input_to_layer.shape\n",
    "    input_to_layer = input_to_layer.reshape((1,shape))\n",
    "    actual_class  = int(model.predict_classes(input_to_layer))\n",
    "    weights = model.get_weights()\n",
    "    c = 1\n",
    "    for i in range(0,len(weights),2):\n",
    "        c += 1\n",
    "        weight = weights[i]\n",
    "        bias = weights[i+1]\n",
    "        row, = bias.shape\n",
    "        input_to_layer = input_to_layer.dot(weight) + bias\n",
    "        input_to_layer = input_to_layer.reshape((row))\n",
    "        inp = []\n",
    "        if c != 4:\n",
    "            for i in input_to_layer:\n",
    "                inp.append(sigmoid(i))\n",
    "            input_to_layer = np.array(inp)\n",
    "            input_to_layer = input_to_layer.reshape((1,row))\n",
    "        elif c == 4:\n",
    "            input_to_layer = softmax(input_to_layer)\n",
    "            input_to_layer = input_to_layer.reshape((1,row))\n",
    "            predicted_class = np.argmax(input_to_layer)\n",
    "            if actual_class == predicted_class:\n",
    "                message = 'Success'\n",
    "            else:\n",
    "                message == 'Fail'\n",
    "    return message, actual_class, predicted_class"
   ]
  },
  {
   "cell_type": "code",
   "execution_count": 451,
   "metadata": {},
   "outputs": [
    {
     "name": "stdout",
     "output_type": "stream",
     "text": [
      "1/1 [==============================] - 0s\n"
     ]
    },
    {
     "data": {
      "text/plain": [
       "('Success', 6, 6)"
      ]
     },
     "execution_count": 451,
     "metadata": {},
     "output_type": "execute_result"
    }
   ],
   "source": [
    "check_model(model,x_test,15)"
   ]
  },
  {
   "cell_type": "code",
   "execution_count": null,
   "metadata": {
    "collapsed": true
   },
   "outputs": [],
   "source": []
  }
 ],
 "metadata": {
  "kernelspec": {
   "display_name": "Python 3",
   "language": "python",
   "name": "python3"
  },
  "language_info": {
   "codemirror_mode": {
    "name": "ipython",
    "version": 3
   },
   "file_extension": ".py",
   "mimetype": "text/x-python",
   "name": "python",
   "nbconvert_exporter": "python",
   "pygments_lexer": "ipython3",
   "version": "3.5.2"
  }
 },
 "nbformat": 4,
 "nbformat_minor": 2
}
