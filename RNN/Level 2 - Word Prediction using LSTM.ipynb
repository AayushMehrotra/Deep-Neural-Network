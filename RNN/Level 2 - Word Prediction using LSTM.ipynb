{
 "cells": [
  {
   "cell_type": "markdown",
   "metadata": {},
   "source": [
    "## Level 2 - Word Prediction using LSTM\n",
    "\n",
    "#### Just the flow accuracy not proper"
   ]
  },
  {
   "cell_type": "markdown",
   "metadata": {},
   "source": [
    "Follow the same steps as in Char Prediction (Level 1) but at the word level than at the Char Level. "
   ]
  },
  {
   "cell_type": "markdown",
   "metadata": {},
   "source": [
    "# Imports"
   ]
  },
  {
   "cell_type": "code",
   "execution_count": 14,
   "metadata": {},
   "outputs": [
    {
     "data": {
      "text/html": [
       "<script>requirejs.config({paths: { 'plotly': ['https://cdn.plot.ly/plotly-latest.min']},});if(!window.Plotly) {{require(['plotly'],function(plotly) {window.Plotly=plotly;});}}</script>"
      ],
      "text/vnd.plotly.v1+html": [
       "<script>requirejs.config({paths: { 'plotly': ['https://cdn.plot.ly/plotly-latest.min']},});if(!window.Plotly) {{require(['plotly'],function(plotly) {window.Plotly=plotly;});}}</script>"
      ]
     },
     "metadata": {},
     "output_type": "display_data"
    }
   ],
   "source": [
    "import string\n",
    "import numpy as np\n",
    "import keras\n",
    "import pandas as pd\n",
    "import nltk\n",
    "import h5py\n",
    "from nltk.tokenize import RegexpTokenizer\n",
    "from keras.layers import Dense,LSTM, Activation,Dropout\n",
    "from keras.utils import to_categorical\n",
    "from keras.models import Sequential\n",
    "from keras.optimizers import SGD\n",
    "from keras.activations import relu,softmax\n",
    "import plotly.offline as plot\n",
    "import plotly.graph_objs as go\n",
    "plot.offline.init_notebook_mode(connected = True)"
   ]
  },
  {
   "cell_type": "markdown",
   "metadata": {},
   "source": [
    "# Reading the file"
   ]
  },
  {
   "cell_type": "code",
   "execution_count": 15,
   "metadata": {},
   "outputs": [],
   "source": [
    "get_file = open('data/Alice in Wonderland.txt','r')\n",
    "data = get_file.read()"
   ]
  },
  {
   "cell_type": "markdown",
   "metadata": {},
   "source": [
    "# String Manipulations(lower conversion and extracting words)"
   ]
  },
  {
   "cell_type": "code",
   "execution_count": 16,
   "metadata": {},
   "outputs": [],
   "source": [
    "data = data.lower()\n",
    "words =list(nltk.word_tokenize(data))\n",
    "filtered_words = [word + ' ' for word in words if word.isalpha()]"
   ]
  },
  {
   "cell_type": "markdown",
   "metadata": {},
   "source": [
    "## Converting above filtered data into dictionary"
   ]
  },
  {
   "cell_type": "code",
   "execution_count": 17,
   "metadata": {},
   "outputs": [],
   "source": [
    "word_to_int = {}\n",
    "for index, word in enumerate(set(filtered_words)):\n",
    "    word_to_int[word] = index"
   ]
  },
  {
   "cell_type": "markdown",
   "metadata": {},
   "source": [
    "# word_to_int mapping in data"
   ]
  },
  {
   "cell_type": "code",
   "execution_count": 18,
   "metadata": {},
   "outputs": [],
   "source": [
    "int_data = []\n",
    "for char in filtered_words:\n",
    "    int_data.append(word_to_int[char])\n",
    "loop_till = len(int_data) - 101"
   ]
  },
  {
   "cell_type": "markdown",
   "metadata": {},
   "source": [
    "# Getting input and output data"
   ]
  },
  {
   "cell_type": "code",
   "execution_count": 19,
   "metadata": {},
   "outputs": [],
   "source": [
    "x = []\n",
    "input_data = []\n",
    "output_data = []\n",
    "for index in range(loop_till):\n",
    "    sequence = int_data[index : index + 100]\n",
    "    input_data.append(sequence)\n",
    "    y = int_data[index + 101]\n",
    "    output_data.append(y)"
   ]
  },
  {
   "cell_type": "markdown",
   "metadata": {},
   "source": [
    "# Splitting data into x_train/y_train and x_test/y_test as (80-20)"
   ]
  },
  {
   "cell_type": "code",
   "execution_count": 20,
   "metadata": {
    "collapsed": true
   },
   "outputs": [],
   "source": [
    "splitting_length = int(len(input_data) * .80)\n",
    "x_train = input_data[:splitting_length]\n",
    "x_test = input_data[splitting_length:]\n",
    "y_train = output_data[:splitting_length]\n",
    "y_test = output_data[splitting_length:]"
   ]
  },
  {
   "cell_type": "markdown",
   "metadata": {},
   "source": [
    "# Making x data and y_data into numpy array"
   ]
  },
  {
   "cell_type": "code",
   "execution_count": 21,
   "metadata": {
    "collapsed": true
   },
   "outputs": [],
   "source": [
    "x_train = np.array(x_train).reshape(len(x_train),100,1)\n",
    "x_test = np.array(x_test).reshape(len(x_test),100,1)\n",
    "y_train = np.array(y_train)\n",
    "y_test = np.array(y_test)"
   ]
  },
  {
   "cell_type": "markdown",
   "metadata": {},
   "source": [
    "# Variables/Hyperparamters"
   ]
  },
  {
   "cell_type": "code",
   "execution_count": 22,
   "metadata": {},
   "outputs": [],
   "source": [
    "epochs = 10\n",
    "batch_size = 128\n",
    "num_classes = len((set(filtered_words)))"
   ]
  },
  {
   "cell_type": "markdown",
   "metadata": {},
   "source": [
    " # One Hot encoding for y data"
   ]
  },
  {
   "cell_type": "code",
   "execution_count": 23,
   "metadata": {},
   "outputs": [],
   "source": [
    "y_train = to_categorical(y_train, num_classes=num_classes)\n",
    "y_test = to_categorical(y_test,num_classes = num_classes)"
   ]
  },
  {
   "cell_type": "markdown",
   "metadata": {},
   "source": [
    "# Model creation Sequence Size = 100 and epochs = 10"
   ]
  },
  {
   "cell_type": "code",
   "execution_count": 28,
   "metadata": {},
   "outputs": [
    {
     "name": "stdout",
     "output_type": "stream",
     "text": [
      "_________________________________________________________________\n",
      "Layer (type)                 Output Shape              Param #   \n",
      "=================================================================\n",
      "lstm_9 (LSTM)                (None, 100, 128)          66560     \n",
      "_________________________________________________________________\n",
      "dropout_9 (Dropout)          (None, 100, 128)          0         \n",
      "_________________________________________________________________\n",
      "lstm_10 (LSTM)               (None, 128)               131584    \n",
      "_________________________________________________________________\n",
      "dropout_10 (Dropout)         (None, 128)               0         \n",
      "_________________________________________________________________\n",
      "dense_5 (Dense)              (None, 2868)              369972    \n",
      "_________________________________________________________________\n",
      "activation_5 (Activation)    (None, 2868)              0         \n",
      "=================================================================\n",
      "Total params: 568,116\n",
      "Trainable params: 568,116\n",
      "Non-trainable params: 0\n",
      "_________________________________________________________________\n"
     ]
    }
   ],
   "source": [
    "model = Sequential()\n",
    "model.add(LSTM(128, input_shape=x_train[0].shape,return_sequences=True))\n",
    "model.add(Dropout(0.2))\n",
    "model.add(LSTM(128))\n",
    "model.add(Dropout(0.2))\n",
    "model.add(Dense(num_classes))\n",
    "model.add(Activation(softmax))\n",
    "opt = SGD(lr=0.1)\n",
    "model.compile(optimizer=opt,metrics=['accuracy'],loss='categorical_crossentropy')\n",
    "model.summary()"
   ]
  },
  {
   "cell_type": "markdown",
   "metadata": {},
   "source": [
    "# Model Fitting"
   ]
  },
  {
   "cell_type": "code",
   "execution_count": 29,
   "metadata": {},
   "outputs": [
    {
     "name": "stdout",
     "output_type": "stream",
     "text": [
      "Train on 21820 samples, validate on 5455 samples\n",
      "Epoch 1/2\n",
      "388s - loss: 6.7552 - acc: 0.0594 - val_loss: 6.6056 - val_acc: 0.0790\n",
      "Epoch 2/2\n",
      "289s - loss: 6.1112 - acc: 0.0603 - val_loss: 6.6301 - val_acc: 0.0790\n"
     ]
    },
    {
     "data": {
      "text/plain": [
       "<keras.callbacks.History at 0x7f925bfb9f60>"
      ]
     },
     "execution_count": 29,
     "metadata": {},
     "output_type": "execute_result"
    }
   ],
   "source": [
    "model.fit(x_train, y_train, verbose = 2, batch_size = batch_size, epochs = 2 ,validation_data = (x_test, y_test))"
   ]
  },
  {
   "cell_type": "markdown",
   "metadata": {},
   "source": [
    "# Model/Word Prediction for a sentence"
   ]
  },
  {
   "cell_type": "code",
   "execution_count": 30,
   "metadata": {
    "collapsed": true
   },
   "outputs": [],
   "source": [
    "int_to_word = {value:key for key, value in word_to_int.items()}"
   ]
  },
  {
   "cell_type": "code",
   "execution_count": 31,
   "metadata": {},
   "outputs": [
    {
     "name": "stdout",
     "output_type": "stream",
     "text": [
      "adventures in wonderland by lewis carroll this ebook is for the use of anyone anywhere at no cost and with almost no restrictions whatsoever you may copy it give it away or it under the terms of the project gutenberg license included with this ebook or online at title adventures in wonderland author lewis carroll posting date june ebook release date march last updated october language english character set encoding start of this project gutenberg ebook adventures in wonderland adventures in wonderland lewis carroll the millennium fulcrum edition chapter down the alice was beginning to get very tired of sitting \n",
      "1/1 [==============================] - 0s\n",
      "Word  the \n",
      "in wonderland by lewis carroll this ebook is for the use of anyone anywhere at no cost and with almost no restrictions whatsoever you may copy it give it away or it under the terms of the project gutenberg license included with this ebook or online at title adventures in wonderland author lewis carroll posting date june ebook release date march last updated october language english character set encoding start of this project gutenberg ebook adventures in wonderland adventures in wonderland lewis carroll the millennium fulcrum edition chapter down the alice was beginning to get very tired of sitting the \n",
      "1/1 [==============================] - 0s\n",
      "Word  the \n",
      "wonderland by lewis carroll this ebook is for the use of anyone anywhere at no cost and with almost no restrictions whatsoever you may copy it give it away or it under the terms of the project gutenberg license included with this ebook or online at title adventures in wonderland author lewis carroll posting date june ebook release date march last updated october language english character set encoding start of this project gutenberg ebook adventures in wonderland adventures in wonderland lewis carroll the millennium fulcrum edition chapter down the alice was beginning to get very tired of sitting the the \n",
      "1/1 [==============================] - 0s\n",
      "Word  the \n",
      "by lewis carroll this ebook is for the use of anyone anywhere at no cost and with almost no restrictions whatsoever you may copy it give it away or it under the terms of the project gutenberg license included with this ebook or online at title adventures in wonderland author lewis carroll posting date june ebook release date march last updated october language english character set encoding start of this project gutenberg ebook adventures in wonderland adventures in wonderland lewis carroll the millennium fulcrum edition chapter down the alice was beginning to get very tired of sitting the the the \n",
      "1/1 [==============================] - 0s\n",
      "Word  the \n",
      "lewis carroll this ebook is for the use of anyone anywhere at no cost and with almost no restrictions whatsoever you may copy it give it away or it under the terms of the project gutenberg license included with this ebook or online at title adventures in wonderland author lewis carroll posting date june ebook release date march last updated october language english character set encoding start of this project gutenberg ebook adventures in wonderland adventures in wonderland lewis carroll the millennium fulcrum edition chapter down the alice was beginning to get very tired of sitting the the the the \n",
      "1/1 [==============================] - 0s\n",
      "Word  the \n",
      "carroll this ebook is for the use of anyone anywhere at no cost and with almost no restrictions whatsoever you may copy it give it away or it under the terms of the project gutenberg license included with this ebook or online at title adventures in wonderland author lewis carroll posting date june ebook release date march last updated october language english character set encoding start of this project gutenberg ebook adventures in wonderland adventures in wonderland lewis carroll the millennium fulcrum edition chapter down the alice was beginning to get very tired of sitting the the the the the \n",
      "1/1 [==============================] - 0s\n",
      "Word  the \n",
      "this ebook is for the use of anyone anywhere at no cost and with almost no restrictions whatsoever you may copy it give it away or it under the terms of the project gutenberg license included with this ebook or online at title adventures in wonderland author lewis carroll posting date june ebook release date march last updated october language english character set encoding start of this project gutenberg ebook adventures in wonderland adventures in wonderland lewis carroll the millennium fulcrum edition chapter down the alice was beginning to get very tired of sitting the the the the the the \n",
      "1/1 [==============================] - 0s\n",
      "Word  the \n",
      "ebook is for the use of anyone anywhere at no cost and with almost no restrictions whatsoever you may copy it give it away or it under the terms of the project gutenberg license included with this ebook or online at title adventures in wonderland author lewis carroll posting date june ebook release date march last updated october language english character set encoding start of this project gutenberg ebook adventures in wonderland adventures in wonderland lewis carroll the millennium fulcrum edition chapter down the alice was beginning to get very tired of sitting the the the the the the the \n",
      "1/1 [==============================] - 0s\n",
      "Word  the \n",
      "is for the use of anyone anywhere at no cost and with almost no restrictions whatsoever you may copy it give it away or it under the terms of the project gutenberg license included with this ebook or online at title adventures in wonderland author lewis carroll posting date june ebook release date march last updated october language english character set encoding start of this project gutenberg ebook adventures in wonderland adventures in wonderland lewis carroll the millennium fulcrum edition chapter down the alice was beginning to get very tired of sitting the the the the the the the the \n",
      "1/1 [==============================] - 0s\n",
      "Word  the \n",
      "for the use of anyone anywhere at no cost and with almost no restrictions whatsoever you may copy it give it away or it under the terms of the project gutenberg license included with this ebook or online at title adventures in wonderland author lewis carroll posting date june ebook release date march last updated october language english character set encoding start of this project gutenberg ebook adventures in wonderland adventures in wonderland lewis carroll the millennium fulcrum edition chapter down the alice was beginning to get very tired of sitting the the the the the the the the the \n",
      "1/1 [==============================] - 0s\n",
      "Word  the \n",
      "the use of anyone anywhere at no cost and with almost no restrictions whatsoever you may copy it give it away or it under the terms of the project gutenberg license included with this ebook or online at title adventures in wonderland author lewis carroll posting date june ebook release date march last updated october language english character set encoding start of this project gutenberg ebook adventures in wonderland adventures in wonderland lewis carroll the millennium fulcrum edition chapter down the alice was beginning to get very tired of sitting the the the the the the the the the the \n",
      "1/1 [==============================] - 0s\n",
      "Word  the \n",
      "use of anyone anywhere at no cost and with almost no restrictions whatsoever you may copy it give it away or it under the terms of the project gutenberg license included with this ebook or online at title adventures in wonderland author lewis carroll posting date june ebook release date march last updated october language english character set encoding start of this project gutenberg ebook adventures in wonderland adventures in wonderland lewis carroll the millennium fulcrum edition chapter down the alice was beginning to get very tired of sitting the the the the the the the the the the the \n",
      "1/1 [==============================] - 0s\n",
      "Word  the \n",
      "of anyone anywhere at no cost and with almost no restrictions whatsoever you may copy it give it away or it under the terms of the project gutenberg license included with this ebook or online at title adventures in wonderland author lewis carroll posting date june ebook release date march last updated october language english character set encoding start of this project gutenberg ebook adventures in wonderland adventures in wonderland lewis carroll the millennium fulcrum edition chapter down the alice was beginning to get very tired of sitting the the the the the the the the the the the the \n"
     ]
    },
    {
     "name": "stdout",
     "output_type": "stream",
     "text": [
      "1/1 [==============================] - 0s\n",
      "Word  the \n",
      "anyone anywhere at no cost and with almost no restrictions whatsoever you may copy it give it away or it under the terms of the project gutenberg license included with this ebook or online at title adventures in wonderland author lewis carroll posting date june ebook release date march last updated october language english character set encoding start of this project gutenberg ebook adventures in wonderland adventures in wonderland lewis carroll the millennium fulcrum edition chapter down the alice was beginning to get very tired of sitting the the the the the the the the the the the the the \n",
      "1/1 [==============================] - 0s\n",
      "Word  the \n",
      "anywhere at no cost and with almost no restrictions whatsoever you may copy it give it away or it under the terms of the project gutenberg license included with this ebook or online at title adventures in wonderland author lewis carroll posting date june ebook release date march last updated october language english character set encoding start of this project gutenberg ebook adventures in wonderland adventures in wonderland lewis carroll the millennium fulcrum edition chapter down the alice was beginning to get very tired of sitting the the the the the the the the the the the the the the \n",
      "1/1 [==============================] - 0s\n",
      "Word  the \n",
      "at no cost and with almost no restrictions whatsoever you may copy it give it away or it under the terms of the project gutenberg license included with this ebook or online at title adventures in wonderland author lewis carroll posting date june ebook release date march last updated october language english character set encoding start of this project gutenberg ebook adventures in wonderland adventures in wonderland lewis carroll the millennium fulcrum edition chapter down the alice was beginning to get very tired of sitting the the the the the the the the the the the the the the the \n",
      "1/1 [==============================] - 0s\n",
      "Word  the \n",
      "no cost and with almost no restrictions whatsoever you may copy it give it away or it under the terms of the project gutenberg license included with this ebook or online at title adventures in wonderland author lewis carroll posting date june ebook release date march last updated october language english character set encoding start of this project gutenberg ebook adventures in wonderland adventures in wonderland lewis carroll the millennium fulcrum edition chapter down the alice was beginning to get very tired of sitting the the the the the the the the the the the the the the the the \n",
      "1/1 [==============================] - 0s\n",
      "Word  the \n",
      "cost and with almost no restrictions whatsoever you may copy it give it away or it under the terms of the project gutenberg license included with this ebook or online at title adventures in wonderland author lewis carroll posting date june ebook release date march last updated october language english character set encoding start of this project gutenberg ebook adventures in wonderland adventures in wonderland lewis carroll the millennium fulcrum edition chapter down the alice was beginning to get very tired of sitting the the the the the the the the the the the the the the the the the \n",
      "1/1 [==============================] - 0s\n",
      "Word  the \n",
      "and with almost no restrictions whatsoever you may copy it give it away or it under the terms of the project gutenberg license included with this ebook or online at title adventures in wonderland author lewis carroll posting date june ebook release date march last updated october language english character set encoding start of this project gutenberg ebook adventures in wonderland adventures in wonderland lewis carroll the millennium fulcrum edition chapter down the alice was beginning to get very tired of sitting the the the the the the the the the the the the the the the the the the \n",
      "1/1 [==============================] - 0s\n",
      "Word  the \n",
      "with almost no restrictions whatsoever you may copy it give it away or it under the terms of the project gutenberg license included with this ebook or online at title adventures in wonderland author lewis carroll posting date june ebook release date march last updated october language english character set encoding start of this project gutenberg ebook adventures in wonderland adventures in wonderland lewis carroll the millennium fulcrum edition chapter down the alice was beginning to get very tired of sitting the the the the the the the the the the the the the the the the the the the \n",
      "1/1 [==============================] - 0s\n",
      "Word  the \n",
      "almost no restrictions whatsoever you may copy it give it away or it under the terms of the project gutenberg license included with this ebook or online at title adventures in wonderland author lewis carroll posting date june ebook release date march last updated october language english character set encoding start of this project gutenberg ebook adventures in wonderland adventures in wonderland lewis carroll the millennium fulcrum edition chapter down the alice was beginning to get very tired of sitting the the the the the the the the the the the the the the the the the the the the \n"
     ]
    }
   ],
   "source": [
    "seed = x_train[0]\n",
    "sent = ''.join([int_to_word[int(word)] for word in seed])\n",
    "print(sent)\n",
    "for i in range(20):\n",
    "    pred_word = model.predict_classes(np.array(seed).reshape(1,100,1))\n",
    "    print('Word ',int_to_word[int(pred_word)])\n",
    "    seed = np.roll(seed,-1)\n",
    "    seed[-1] = pred_word\n",
    "    sent = ''.join([int_to_word[int(word)] for word in seed])\n",
    "    print(sent)"
   ]
  }
 ],
 "metadata": {
  "kernelspec": {
   "display_name": "Python 3",
   "language": "python",
   "name": "python3"
  },
  "language_info": {
   "codemirror_mode": {
    "name": "ipython",
    "version": 3
   },
   "file_extension": ".py",
   "mimetype": "text/x-python",
   "name": "python",
   "nbconvert_exporter": "python",
   "pygments_lexer": "ipython3",
   "version": "3.5.2"
  }
 },
 "nbformat": 4,
 "nbformat_minor": 2
}
