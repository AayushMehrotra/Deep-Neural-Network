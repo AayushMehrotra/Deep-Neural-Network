{
 "cells": [
  {
   "cell_type": "markdown",
   "metadata": {},
   "source": [
    " # Imports"
   ]
  },
  {
   "cell_type": "code",
   "execution_count": 2,
   "metadata": {},
   "outputs": [
    {
     "name": "stderr",
     "output_type": "stream",
     "text": [
      "Using TensorFlow backend.\n"
     ]
    }
   ],
   "source": [
    "import gensim\n",
    "import nltk\n",
    "import keras\n",
    "import numpy as np\n",
    "from keras.layers import LSTM, Dense, Activation\n",
    "from keras.optimizers import SGD\n",
    "from keras.activations import softmax\n",
    "from keras.models import Sequential\n",
    "from gensim import corpora, models, similarities\n",
    "from nltk import word_tokenize, sent_tokenize\n",
    "from nltk.corpus import stopwords"
   ]
  },
  {
   "cell_type": "markdown",
   "metadata": {},
   "source": [
    "# Loading the data"
   ]
  },
  {
   "cell_type": "code",
   "execution_count": 3,
   "metadata": {
    "collapsed": true
   },
   "outputs": [],
   "source": [
    "data = open('data/Alice in Wonderland.txt').read()"
   ]
  },
  {
   "cell_type": "markdown",
   "metadata": {},
   "source": [
    "# Sentence tokenizer and deleting extra information from text"
   ]
  },
  {
   "cell_type": "code",
   "execution_count": 4,
   "metadata": {
    "collapsed": true
   },
   "outputs": [],
   "source": [
    "sentences = [sent for sent in sent_tokenize(data)]"
   ]
  },
  {
   "cell_type": "markdown",
   "metadata": {},
   "source": [
    "# Word tokenizeing"
   ]
  },
  {
   "cell_type": "code",
   "execution_count": 5,
   "metadata": {
    "collapsed": true
   },
   "outputs": [],
   "source": [
    "words = [nltk.word_tokenize(sentence) for sentence in sentences]"
   ]
  },
  {
   "cell_type": "markdown",
   "metadata": {},
   "source": [
    "# Creating a word2vec gensim model"
   ]
  },
  {
   "cell_type": "code",
   "execution_count": 6,
   "metadata": {
    "collapsed": true
   },
   "outputs": [],
   "source": [
    "word_model = gensim.models.Word2Vec(words, min_count = 1, size = 50)"
   ]
  },
  {
   "cell_type": "markdown",
   "metadata": {},
   "source": [
    "# Getting word2vec representation of all the words"
   ]
  },
  {
   "cell_type": "code",
   "execution_count": 7,
   "metadata": {
    "collapsed": true
   },
   "outputs": [],
   "source": [
    "all_words = []\n",
    "word_to_vec = []\n",
    "for each_sentence in words:\n",
    "    for each_word in each_sentence:\n",
    "        all_words.append(each_word)\n",
    "for each_word in all_words:\n",
    "    word_to_vec.append(word_model[each_word])"
   ]
  },
  {
   "cell_type": "markdown",
   "metadata": {},
   "source": [
    "# Making sequences of 100 "
   ]
  },
  {
   "cell_type": "code",
   "execution_count": 8,
   "metadata": {
    "collapsed": true
   },
   "outputs": [],
   "source": [
    "input_data = []\n",
    "output_data = []\n",
    "for index in range(len(word_to_vec) - 101):\n",
    "    sequence = word_to_vec[index : index + 100]\n",
    "    input_data.append(sequence)\n",
    "    y = word_to_vec[index + 101]\n",
    "    output_data.append(y)"
   ]
  },
  {
   "cell_type": "markdown",
   "metadata": {},
   "source": [
    "# Splitting the data in train/test (80-20)"
   ]
  },
  {
   "cell_type": "code",
   "execution_count": 9,
   "metadata": {
    "collapsed": true
   },
   "outputs": [],
   "source": [
    "splitting_length = int(len(input_data) * .80)\n",
    "x_train = np.array(input_data[:splitting_length])\n",
    "x_test = np.array(input_data[splitting_length:])\n",
    "y_train = np.array(output_data[:splitting_length])\n",
    "y_test = np.array(output_data[splitting_length:])"
   ]
  },
  {
   "cell_type": "markdown",
   "metadata": {},
   "source": [
    "# Creating the model "
   ]
  },
  {
   "cell_type": "code",
   "execution_count": 10,
   "metadata": {},
   "outputs": [
    {
     "name": "stdout",
     "output_type": "stream",
     "text": [
      "_________________________________________________________________\n",
      "Layer (type)                 Output Shape              Param #   \n",
      "=================================================================\n",
      "lstm_1 (LSTM)                (None, 128)               91648     \n",
      "_________________________________________________________________\n",
      "dense_1 (Dense)              (None, 50)                6450      \n",
      "_________________________________________________________________\n",
      "activation_1 (Activation)    (None, 50)                0         \n",
      "=================================================================\n",
      "Total params: 98,098\n",
      "Trainable params: 98,098\n",
      "Non-trainable params: 0\n",
      "_________________________________________________________________\n"
     ]
    }
   ],
   "source": [
    "model = Sequential()\n",
    "model.add(LSTM(128, input_shape = x_train[0].shape))\n",
    "model.add(Dense(50))   \n",
    "model.add(Activation('softmax'))\n",
    "model.compile(optimizer='adam', loss='categorical_crossentropy', metrics = ['accuracy'])\n",
    "model.summary()"
   ]
  },
  {
   "cell_type": "markdown",
   "metadata": {},
   "source": [
    "# Fitting the model"
   ]
  },
  {
   "cell_type": "code",
   "execution_count": 11,
   "metadata": {},
   "outputs": [
    {
     "name": "stdout",
     "output_type": "stream",
     "text": [
      "Train on 28289 samples, validate on 7073 samples\n",
      "Epoch 1/2\n",
      "517s - loss: -1.1606e+02 - acc: 0.9112 - val_loss: -1.2063e+02 - val_acc: 0.9837\n",
      "Epoch 2/2\n",
      "167s - loss: -1.2834e+02 - acc: 0.9773 - val_loss: -1.2063e+02 - val_acc: 0.9837\n"
     ]
    },
    {
     "data": {
      "text/plain": [
       "<keras.callbacks.History at 0x7f6a90bd9b00>"
      ]
     },
     "execution_count": 11,
     "metadata": {},
     "output_type": "execute_result"
    }
   ],
   "source": [
    "model.fit(x_train, y_train, verbose = 2, batch_size = 128, epochs = 2 ,validation_data = (x_test, y_test))"
   ]
  },
  {
   "cell_type": "markdown",
   "metadata": {},
   "source": [
    "# Evaluating model accuracy"
   ]
  },
  {
   "cell_type": "code",
   "execution_count": 12,
   "metadata": {},
   "outputs": [
    {
     "name": "stdout",
     "output_type": "stream",
     "text": [
      "7073/7073 [==============================] - 13s    \n"
     ]
    },
    {
     "data": {
      "text/plain": [
       "[-120.63037976189851, 0.98374098685140676]"
      ]
     },
     "execution_count": 12,
     "metadata": {},
     "output_type": "execute_result"
    }
   ],
   "source": [
    "model.evaluate(x_test,y_test)"
   ]
  },
  {
   "cell_type": "markdown",
   "metadata": {},
   "source": [
    "# Prediction based on the above model"
   ]
  },
  {
   "cell_type": "code",
   "execution_count": 13,
   "metadata": {},
   "outputs": [
    {
     "name": "stdout",
     "output_type": "stream",
     "text": [
      "\n",
      "\n",
      " Input Sentence\n",
      "\n",
      ":  CHAPTER I . Down the Rabbit-Hole Alice was beginning to get very tired of sitting by her sister on the bank , and of having nothing to do : once or twice she had peeped into the book her sister was reading , but it had no pictures or conversations in it , ‘and what is the use of a book , ’ thought Alice ‘without pictures or conversations ? ’ So she was considering in her own mind ( as well as she could , for the hot day made her feel very sleepy and stupid ) , whether\n",
      "\n",
      "\n",
      " Actual Sentence\n",
      "\n",
      ":  CHAPTER I . Down the Rabbit-Hole Alice was beginning to get very tired of sitting by her sister on the bank , and of having nothing to do : once or twice she had peeped into the book her sister was reading , but it had no pictures or conversations in it , ‘and what is the use of a book , ’ thought Alice ‘without pictures or conversations ? ’ So she was considering in her own mind ( as well as she could , for the hot day made her feel very sleepy and stupid ) , whether the pleasure of making a daisy-chain would be worth the trouble of getting up and picking the daisies , when\n",
      "CHAPTER I . Down the Rabbit-Hole Alice was beginning to get very tired of sitting by her sister on the bank , and of having nothing to do : once or twice she had peeped into the book her sister was reading , but it had no pictures or conversations in it , ‘and what is the use of a book , ’ thought Alice ‘without pictures or conversations ? ’ So she was considering in her own mind ( as well as she could , for the hot day made her feel very sleepy and stupid ) , whether ‘he’s\n",
      "CHAPTER I . Down the Rabbit-Hole Alice was beginning to get very tired of sitting by her sister on the bank , and of having nothing to do : once or twice she had peeped into the book her sister was reading , but it had no pictures or conversations in it , ‘and what is the use of a book , ’ thought Alice ‘without pictures or conversations ? ’ So she was considering in her own mind ( as well as she could , for the hot day made her feel very sleepy and stupid ) , whether ‘he’s ‘he’s\n",
      "CHAPTER I . Down the Rabbit-Hole Alice was beginning to get very tired of sitting by her sister on the bank , and of having nothing to do : once or twice she had peeped into the book her sister was reading , but it had no pictures or conversations in it , ‘and what is the use of a book , ’ thought Alice ‘without pictures or conversations ? ’ So she was considering in her own mind ( as well as she could , for the hot day made her feel very sleepy and stupid ) , whether ‘he’s ‘he’s ‘he’s\n",
      "CHAPTER I . Down the Rabbit-Hole Alice was beginning to get very tired of sitting by her sister on the bank , and of having nothing to do : once or twice she had peeped into the book her sister was reading , but it had no pictures or conversations in it , ‘and what is the use of a book , ’ thought Alice ‘without pictures or conversations ? ’ So she was considering in her own mind ( as well as she could , for the hot day made her feel very sleepy and stupid ) , whether ‘he’s ‘he’s ‘he’s ‘he’s\n",
      "CHAPTER I . Down the Rabbit-Hole Alice was beginning to get very tired of sitting by her sister on the bank , and of having nothing to do : once or twice she had peeped into the book her sister was reading , but it had no pictures or conversations in it , ‘and what is the use of a book , ’ thought Alice ‘without pictures or conversations ? ’ So she was considering in her own mind ( as well as she could , for the hot day made her feel very sleepy and stupid ) , whether ‘he’s ‘he’s ‘he’s ‘he’s Presently\n",
      "CHAPTER I . Down the Rabbit-Hole Alice was beginning to get very tired of sitting by her sister on the bank , and of having nothing to do : once or twice she had peeped into the book her sister was reading , but it had no pictures or conversations in it , ‘and what is the use of a book , ’ thought Alice ‘without pictures or conversations ? ’ So she was considering in her own mind ( as well as she could , for the hot day made her feel very sleepy and stupid ) , whether ‘he’s ‘he’s ‘he’s ‘he’s Presently Presently\n",
      "CHAPTER I . Down the Rabbit-Hole Alice was beginning to get very tired of sitting by her sister on the bank , and of having nothing to do : once or twice she had peeped into the book her sister was reading , but it had no pictures or conversations in it , ‘and what is the use of a book , ’ thought Alice ‘without pictures or conversations ? ’ So she was considering in her own mind ( as well as she could , for the hot day made her feel very sleepy and stupid ) , whether ‘he’s ‘he’s ‘he’s ‘he’s Presently Presently Presently\n",
      "CHAPTER I . Down the Rabbit-Hole Alice was beginning to get very tired of sitting by her sister on the bank , and of having nothing to do : once or twice she had peeped into the book her sister was reading , but it had no pictures or conversations in it , ‘and what is the use of a book , ’ thought Alice ‘without pictures or conversations ? ’ So she was considering in her own mind ( as well as she could , for the hot day made her feel very sleepy and stupid ) , whether ‘he’s ‘he’s ‘he’s ‘he’s Presently Presently Presently ‘he’s\n",
      "CHAPTER I . Down the Rabbit-Hole Alice was beginning to get very tired of sitting by her sister on the bank , and of having nothing to do : once or twice she had peeped into the book her sister was reading , but it had no pictures or conversations in it , ‘and what is the use of a book , ’ thought Alice ‘without pictures or conversations ? ’ So she was considering in her own mind ( as well as she could , for the hot day made her feel very sleepy and stupid ) , whether ‘he’s ‘he’s ‘he’s ‘he’s Presently Presently Presently ‘he’s ‘he’s\n",
      "CHAPTER I . Down the Rabbit-Hole Alice was beginning to get very tired of sitting by her sister on the bank , and of having nothing to do : once or twice she had peeped into the book her sister was reading , but it had no pictures or conversations in it , ‘and what is the use of a book , ’ thought Alice ‘without pictures or conversations ? ’ So she was considering in her own mind ( as well as she could , for the hot day made her feel very sleepy and stupid ) , whether ‘he’s ‘he’s ‘he’s ‘he’s Presently Presently Presently ‘he’s ‘he’s ‘he’s\n",
      "CHAPTER I . Down the Rabbit-Hole Alice was beginning to get very tired of sitting by her sister on the bank , and of having nothing to do : once or twice she had peeped into the book her sister was reading , but it had no pictures or conversations in it , ‘and what is the use of a book , ’ thought Alice ‘without pictures or conversations ? ’ So she was considering in her own mind ( as well as she could , for the hot day made her feel very sleepy and stupid ) , whether ‘he’s ‘he’s ‘he’s ‘he’s Presently Presently Presently ‘he’s ‘he’s ‘he’s ‘he’s\n",
      "CHAPTER I . Down the Rabbit-Hole Alice was beginning to get very tired of sitting by her sister on the bank , and of having nothing to do : once or twice she had peeped into the book her sister was reading , but it had no pictures or conversations in it , ‘and what is the use of a book , ’ thought Alice ‘without pictures or conversations ? ’ So she was considering in her own mind ( as well as she could , for the hot day made her feel very sleepy and stupid ) , whether ‘he’s ‘he’s ‘he’s ‘he’s Presently Presently Presently ‘he’s ‘he’s ‘he’s ‘he’s swallowing\n",
      "CHAPTER I . Down the Rabbit-Hole Alice was beginning to get very tired of sitting by her sister on the bank , and of having nothing to do : once or twice she had peeped into the book her sister was reading , but it had no pictures or conversations in it , ‘and what is the use of a book , ’ thought Alice ‘without pictures or conversations ? ’ So she was considering in her own mind ( as well as she could , for the hot day made her feel very sleepy and stupid ) , whether ‘he’s ‘he’s ‘he’s ‘he’s Presently Presently Presently ‘he’s ‘he’s ‘he’s ‘he’s swallowing Presently\n",
      "CHAPTER I . Down the Rabbit-Hole Alice was beginning to get very tired of sitting by her sister on the bank , and of having nothing to do : once or twice she had peeped into the book her sister was reading , but it had no pictures or conversations in it , ‘and what is the use of a book , ’ thought Alice ‘without pictures or conversations ? ’ So she was considering in her own mind ( as well as she could , for the hot day made her feel very sleepy and stupid ) , whether ‘he’s ‘he’s ‘he’s ‘he’s Presently Presently Presently ‘he’s ‘he’s ‘he’s ‘he’s swallowing Presently Presently\n",
      "CHAPTER I . Down the Rabbit-Hole Alice was beginning to get very tired of sitting by her sister on the bank , and of having nothing to do : once or twice she had peeped into the book her sister was reading , but it had no pictures or conversations in it , ‘and what is the use of a book , ’ thought Alice ‘without pictures or conversations ? ’ So she was considering in her own mind ( as well as she could , for the hot day made her feel very sleepy and stupid ) , whether ‘he’s ‘he’s ‘he’s ‘he’s Presently Presently Presently ‘he’s ‘he’s ‘he’s ‘he’s swallowing Presently Presently ‘he’s\n",
      "CHAPTER I . Down the Rabbit-Hole Alice was beginning to get very tired of sitting by her sister on the bank , and of having nothing to do : once or twice she had peeped into the book her sister was reading , but it had no pictures or conversations in it , ‘and what is the use of a book , ’ thought Alice ‘without pictures or conversations ? ’ So she was considering in her own mind ( as well as she could , for the hot day made her feel very sleepy and stupid ) , whether ‘he’s ‘he’s ‘he’s ‘he’s Presently Presently Presently ‘he’s ‘he’s ‘he’s ‘he’s swallowing Presently Presently ‘he’s ‘he’s\n",
      "CHAPTER I . Down the Rabbit-Hole Alice was beginning to get very tired of sitting by her sister on the bank , and of having nothing to do : once or twice she had peeped into the book her sister was reading , but it had no pictures or conversations in it , ‘and what is the use of a book , ’ thought Alice ‘without pictures or conversations ? ’ So she was considering in her own mind ( as well as she could , for the hot day made her feel very sleepy and stupid ) , whether ‘he’s ‘he’s ‘he’s ‘he’s Presently Presently Presently ‘he’s ‘he’s ‘he’s ‘he’s swallowing Presently Presently ‘he’s ‘he’s Presently\n",
      "CHAPTER I . Down the Rabbit-Hole Alice was beginning to get very tired of sitting by her sister on the bank , and of having nothing to do : once or twice she had peeped into the book her sister was reading , but it had no pictures or conversations in it , ‘and what is the use of a book , ’ thought Alice ‘without pictures or conversations ? ’ So she was considering in her own mind ( as well as she could , for the hot day made her feel very sleepy and stupid ) , whether ‘he’s ‘he’s ‘he’s ‘he’s Presently Presently Presently ‘he’s ‘he’s ‘he’s ‘he’s swallowing Presently Presently ‘he’s ‘he’s Presently ‘he’s\n",
      "CHAPTER I . Down the Rabbit-Hole Alice was beginning to get very tired of sitting by her sister on the bank , and of having nothing to do : once or twice she had peeped into the book her sister was reading , but it had no pictures or conversations in it , ‘and what is the use of a book , ’ thought Alice ‘without pictures or conversations ? ’ So she was considering in her own mind ( as well as she could , for the hot day made her feel very sleepy and stupid ) , whether ‘he’s ‘he’s ‘he’s ‘he’s Presently Presently Presently ‘he’s ‘he’s ‘he’s ‘he’s swallowing Presently Presently ‘he’s ‘he’s Presently ‘he’s swallowing\n",
      "CHAPTER I . Down the Rabbit-Hole Alice was beginning to get very tired of sitting by her sister on the bank , and of having nothing to do : once or twice she had peeped into the book her sister was reading , but it had no pictures or conversations in it , ‘and what is the use of a book , ’ thought Alice ‘without pictures or conversations ? ’ So she was considering in her own mind ( as well as she could , for the hot day made her feel very sleepy and stupid ) , whether ‘he’s ‘he’s ‘he’s ‘he’s Presently Presently Presently ‘he’s ‘he’s ‘he’s ‘he’s swallowing Presently Presently ‘he’s ‘he’s Presently ‘he’s swallowing ‘he’s\n",
      "\n",
      "\n",
      " Predicted sentence\n",
      "\n",
      ": CHAPTER I . Down the Rabbit-Hole Alice was beginning to get very tired of sitting by her sister on the bank , and of having nothing to do : once or twice she had peeped into the book her sister was reading , but it had no pictures or conversations in it , ‘and what is the use of a book , ’ thought Alice ‘without pictures or conversations ? ’ So she was considering in her own mind ( as well as she could , for the hot day made her feel very sleepy and stupid ) , whether ‘he’s ‘he’s ‘he’s ‘he’s Presently Presently Presently ‘he’s ‘he’s ‘he’s ‘he’s swallowing Presently Presently ‘he’s ‘he’s Presently ‘he’s swallowing ‘he’s\n"
     ]
    }
   ],
   "source": [
    "seed = x_train[0]\n",
    "sent = ' '.join([word_model.similar_by_vector(word)[0][0] for word in seed])\n",
    "seed1 = x_train[100][0:20]\n",
    "sent1 = ' '.join([word_model.similar_by_vector(word)[0][0] for word in seed])\n",
    "sent2 = ' '.join([word_model.similar_by_vector(word)[0][0] for word in seed1])\n",
    "original_sent = sent1 + ' ' + sent2\n",
    "print('\\n\\n Input Sentence\\n\\n: ',sent1)\n",
    "print('\\n\\n Actual Sentence\\n\\n: ',original_sent)\n",
    "for i in range(20):\n",
    "\n",
    "    pred_word = model.predict(seed.reshape(1,100,50))\n",
    "    seed = np.roll(seed, -1)\n",
    "    seed[-1] = pred_word\n",
    "    new_word = word_model.similar_by_vector(pred_word[0])[0][0]\n",
    "    sent += ' ' + new_word\n",
    "    print(sent)\n",
    "print('\\n\\n Predicted sentence\\n\\n:',sent)"
   ]
  },
  {
   "cell_type": "code",
   "execution_count": null,
   "metadata": {
    "collapsed": true
   },
   "outputs": [],
   "source": []
  }
 ],
 "metadata": {
  "kernelspec": {
   "display_name": "Python 3",
   "language": "python",
   "name": "python3"
  },
  "language_info": {
   "codemirror_mode": {
    "name": "ipython",
    "version": 3
   },
   "file_extension": ".py",
   "mimetype": "text/x-python",
   "name": "python",
   "nbconvert_exporter": "python",
   "pygments_lexer": "ipython3",
   "version": "3.5.2"
  }
 },
 "nbformat": 4,
 "nbformat_minor": 2
}
